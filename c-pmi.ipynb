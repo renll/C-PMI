{
  "cells": [
    {
      "cell_type": "markdown",
      "metadata": {
        "id": "wyGLT5ud23cG"
      },
      "source": [
        "## **C-PMI: Conditional Pointwise Mutual Information for Turn-level Dialogue Evaluation**"
      ]
    },
    {
      "cell_type": "code",
      "execution_count": null,
      "metadata": {
        "colab": {
          "base_uri": "https://localhost:8080/"
        },
        "id": "OCLJVCO_540M",
        "outputId": "6e017eaa-7d41-4f4c-8613-5e8f241bf5c4"
      },
      "outputs": [
        {
          "name": "stdout",
          "output_type": "stream",
          "text": [
            "Collecting transformers\n",
            "  Downloading transformers-4.32.0-py3-none-any.whl (7.5 MB)\n",
            "\u001b[2K     \u001b[90m━━━━━━━━━━━━━━━━━━━━━━━━━━━━━━━━━━━━━━━━\u001b[0m \u001b[32m7.5/7.5 MB\u001b[0m \u001b[31m17.1 MB/s\u001b[0m eta \u001b[36m0:00:00\u001b[0m\n",
            "\u001b[?25hRequirement already satisfied: filelock in /usr/local/lib/python3.10/dist-packages (from transformers) (3.12.2)\n",
            "Collecting huggingface-hub<1.0,>=0.15.1 (from transformers)\n",
            "  Downloading huggingface_hub-0.16.4-py3-none-any.whl (268 kB)\n",
            "\u001b[2K     \u001b[90m━━━━━━━━━━━━━━━━━━━━━━━━━━━━━━━━━━━━━━\u001b[0m \u001b[32m268.8/268.8 kB\u001b[0m \u001b[31m19.3 MB/s\u001b[0m eta \u001b[36m0:00:00\u001b[0m\n",
            "\u001b[?25hRequirement already satisfied: numpy>=1.17 in /usr/local/lib/python3.10/dist-packages (from transformers) (1.23.5)\n",
            "Requirement already satisfied: packaging>=20.0 in /usr/local/lib/python3.10/dist-packages (from transformers) (23.1)\n",
            "Requirement already satisfied: pyyaml>=5.1 in /usr/local/lib/python3.10/dist-packages (from transformers) (6.0.1)\n",
            "Requirement already satisfied: regex!=2019.12.17 in /usr/local/lib/python3.10/dist-packages (from transformers) (2023.6.3)\n",
            "Requirement already satisfied: requests in /usr/local/lib/python3.10/dist-packages (from transformers) (2.31.0)\n",
            "Collecting tokenizers!=0.11.3,<0.14,>=0.11.1 (from transformers)\n",
            "  Downloading tokenizers-0.13.3-cp310-cp310-manylinux_2_17_x86_64.manylinux2014_x86_64.whl (7.8 MB)\n",
            "\u001b[2K     \u001b[90m━━━━━━━━━━━━━━━━━━━━━━━━━━━━━━━━━━━━━━━━\u001b[0m \u001b[32m7.8/7.8 MB\u001b[0m \u001b[31m39.8 MB/s\u001b[0m eta \u001b[36m0:00:00\u001b[0m\n",
            "\u001b[?25hCollecting safetensors>=0.3.1 (from transformers)\n",
            "  Downloading safetensors-0.3.3-cp310-cp310-manylinux_2_17_x86_64.manylinux2014_x86_64.whl (1.3 MB)\n",
            "\u001b[2K     \u001b[90m━━━━━━━━━━━━━━━━━━━━━━━━━━━━━━━━━━━━━━━━\u001b[0m \u001b[32m1.3/1.3 MB\u001b[0m \u001b[31m51.5 MB/s\u001b[0m eta \u001b[36m0:00:00\u001b[0m\n",
            "\u001b[?25hRequirement already satisfied: tqdm>=4.27 in /usr/local/lib/python3.10/dist-packages (from transformers) (4.66.1)\n",
            "Requirement already satisfied: fsspec in /usr/local/lib/python3.10/dist-packages (from huggingface-hub<1.0,>=0.15.1->transformers) (2023.6.0)\n",
            "Requirement already satisfied: typing-extensions>=3.7.4.3 in /usr/local/lib/python3.10/dist-packages (from huggingface-hub<1.0,>=0.15.1->transformers) (4.7.1)\n",
            "Requirement already satisfied: charset-normalizer<4,>=2 in /usr/local/lib/python3.10/dist-packages (from requests->transformers) (3.2.0)\n",
            "Requirement already satisfied: idna<4,>=2.5 in /usr/local/lib/python3.10/dist-packages (from requests->transformers) (3.4)\n",
            "Requirement already satisfied: urllib3<3,>=1.21.1 in /usr/local/lib/python3.10/dist-packages (from requests->transformers) (2.0.4)\n",
            "Requirement already satisfied: certifi>=2017.4.17 in /usr/local/lib/python3.10/dist-packages (from requests->transformers) (2023.7.22)\n",
            "Installing collected packages: tokenizers, safetensors, huggingface-hub, transformers\n",
            "Successfully installed huggingface-hub-0.16.4 safetensors-0.3.3 tokenizers-0.13.3 transformers-4.32.0\n"
          ]
        }
      ],
      "source": [
        "!pip install transformers"
      ]
    },
    {
      "cell_type": "code",
      "execution_count": null,
      "metadata": {
        "colab": {
          "base_uri": "https://localhost:8080/",
          "height": 265,
          "referenced_widgets": [
            "52068fb96d8a417b8d1eceeffd2ec3b4",
            "8c1af366ef0e4a688c369ebff9441ec5",
            "b1804b08504d4bc19f4d743aae0e22c4",
            "43d04bbb74164c45b4d72234b08ce10d",
            "34204617803946c0bae050a6e847d705",
            "1467fd703a5342f39608ce1210837a47",
            "b7da9d64b15f4bb898b43e53746f032a",
            "8f407e0f88f54cc5924d27f9b3a29a36",
            "96ad727957bb4e849756199021ce315d",
            "399fda49ae1e46409129f8045217af3f",
            "9923f54daf384ba58855dd5db09ccd6b",
            "f812a63efa764e8ab68df7c825babd1b",
            "c6bef9ccb718431a880b8337aca273a8",
            "e30a4d4bb80146aaad44f03e49e482e5",
            "b281d465a21d4ecf9398457c80cd304b",
            "3f25747371d4436e8f4ba8efdc75ff38",
            "a6587cb66a474e91b9c8adbbf7914971",
            "4d439e2629764940baf2d5a9e1d6e80c",
            "bea28baf8fdd450a98b2ed33b161ba36",
            "1d06b70b7ddb40729cc1f2c518d4bcfc",
            "20db210b3d3a493a8177184005549013",
            "44686a8ef22e4d108d782a3fe8e202b5",
            "7a9b3f616513409284ff1131419d9a54",
            "80c2835b986d47069b631941645e9116",
            "0379781f1ab04b4ab9c8d85885647e7f",
            "37e93c3a5a3e4d2abe749e9392ce42ba",
            "46da48c9a7954f26a4d9551741708bfa",
            "c652b58d723e4827ae76fef94a5a427f",
            "4eab81ca8896466d88f0a598b430ab8f",
            "edbf8f63ffbb4343902232a191091060",
            "3e333c9bc8df4d02a1802dd9cc720a06",
            "41d4b0e21cf5417db06ecf450be8f4f1",
            "06f852e2221540ae912c536ba1202a92",
            "5b46959b420e4d3eb4fd64ea73cd4f98",
            "c6e13c06ce8a42a2858fb81dc8cd065f",
            "885896fb24d04d0cbc989d936b237a2b",
            "b2efbd53357c47778470dbd3ba3b5ad6",
            "2923cf16586c4464aae63c515953d216",
            "932de45e3ba7457b9de704da6d4e3f88",
            "8c17d77ab11a4cd6943d075dcd382a43",
            "4dd5ab0cb9cc44bd9fec28f6f90d53ac",
            "97096fd92d714afc9342dcbd4cf9208d",
            "f021c93781d14bd5918b67f9e41b325c",
            "b78375be0ade4723a4e206670f7d4c68",
            "14098709ddb4411a9fb84713a5785358",
            "c999dfe303384550b895e5269ab520c3",
            "4299e81e9ba54c468d7d529a3e7147a9",
            "29386a607b064d92b98d76c7a8a71731",
            "2023751dd71844ed9c794df443026c19",
            "99fe2f1ed7224698b5adb025840ad278",
            "45f6c34385b64ef0a1bb3fa26a7f9e66",
            "54c89e722ea149229bb72012b4a2de90",
            "0a8c53a68ad5471d9762c3386a50bd14",
            "8eebca895fd84154b6512a0724ce6729",
            "00677e7b3f544744a2abe8f34e4235b7",
            "7054531026e24e858ac586c39c3ee6d1",
            "e1f00c622fdf4863a08da01068b2c516",
            "d3aa2fed60f144a4bf18adcdbec31482",
            "9c4b5ecbfa544194a102d97dbde92af1",
            "f6db5d49e31344789cc29654273baed0",
            "f3afb27da661446d9a049b01390eee56",
            "d9b7e4fedd2246d9ba19b915043183cf",
            "420dffb237b14ff99d08b3e28c9cd59a",
            "bed723128cae43bb9ffb01f6a834fce5",
            "d0581dd0765344019a6876444285a694",
            "1a1c949172a14b6eaf8ca3336ebe087b"
          ]
        },
        "id": "ChD67sUZHB0M",
        "outputId": "b12d3e95-56e4-426a-d879-ddcfeff519b0"
      },
      "outputs": [
        {
          "data": {
            "application/vnd.jupyter.widget-view+json": {
              "model_id": "52068fb96d8a417b8d1eceeffd2ec3b4",
              "version_major": 2,
              "version_minor": 0
            },
            "text/plain": [
              "Downloading (…)okenizer_config.json:   0%|          | 0.00/26.0 [00:00<?, ?B/s]"
            ]
          },
          "metadata": {},
          "output_type": "display_data"
        },
        {
          "data": {
            "application/vnd.jupyter.widget-view+json": {
              "model_id": "f812a63efa764e8ab68df7c825babd1b",
              "version_major": 2,
              "version_minor": 0
            },
            "text/plain": [
              "Downloading (…)lve/main/config.json:   0%|          | 0.00/642 [00:00<?, ?B/s]"
            ]
          },
          "metadata": {},
          "output_type": "display_data"
        },
        {
          "data": {
            "application/vnd.jupyter.widget-view+json": {
              "model_id": "7a9b3f616513409284ff1131419d9a54",
              "version_major": 2,
              "version_minor": 0
            },
            "text/plain": [
              "Downloading (…)olve/main/vocab.json:   0%|          | 0.00/1.04M [00:00<?, ?B/s]"
            ]
          },
          "metadata": {},
          "output_type": "display_data"
        },
        {
          "data": {
            "application/vnd.jupyter.widget-view+json": {
              "model_id": "5b46959b420e4d3eb4fd64ea73cd4f98",
              "version_major": 2,
              "version_minor": 0
            },
            "text/plain": [
              "Downloading (…)olve/main/merges.txt:   0%|          | 0.00/456k [00:00<?, ?B/s]"
            ]
          },
          "metadata": {},
          "output_type": "display_data"
        },
        {
          "name": "stderr",
          "output_type": "stream",
          "text": [
            "/usr/local/lib/python3.10/dist-packages/transformers/models/auto/modeling_auto.py:1468: FutureWarning: The class `AutoModelWithLMHead` is deprecated and will be removed in a future version. Please use `AutoModelForCausalLM` for causal language models, `AutoModelForMaskedLM` for masked language models and `AutoModelForSeq2SeqLM` for encoder-decoder models.\n",
            "  warnings.warn(\n"
          ]
        },
        {
          "data": {
            "application/vnd.jupyter.widget-view+json": {
              "model_id": "14098709ddb4411a9fb84713a5785358",
              "version_major": 2,
              "version_minor": 0
            },
            "text/plain": [
              "Downloading pytorch_model.bin:   0%|          | 0.00/1.75G [00:00<?, ?B/s]"
            ]
          },
          "metadata": {},
          "output_type": "display_data"
        },
        {
          "data": {
            "application/vnd.jupyter.widget-view+json": {
              "model_id": "7054531026e24e858ac586c39c3ee6d1",
              "version_major": 2,
              "version_minor": 0
            },
            "text/plain": [
              "Downloading (…)neration_config.json:   0%|          | 0.00/124 [00:00<?, ?B/s]"
            ]
          },
          "metadata": {},
          "output_type": "display_data"
        }
      ],
      "source": [
        "import os\n",
        "import json\n",
        "import tqdm\n",
        "import numpy as np\n",
        "import torch\n",
        "from torch.utils.data import DataLoader, Dataset, SequentialSampler, RandomSampler\n",
        "from torch.utils.data.distributed import DistributedSampler\n",
        "\n",
        "\n",
        "import math\n",
        "from transformers import AutoTokenizer, AutoModelWithLMHead\n",
        "\n",
        "# Old loading code. Use for from-scratch models\n",
        "#tokenizer = GPT2Tokenizer.from_pretrained('dialogpt')\n",
        "#model = GPT2LMHeadModel.from_pretrained('gpt2')\n",
        "#weights = torch.load(\"dialogpt/small_fs.pkl\")\n",
        "#weights = {k.replace(\"module.\", \"\"): v for k,v in weights.items()}\n",
        "#weights[\"lm_head.weight\"] = weights[\"lm_head.decoder.weight\"]\n",
        "#weights.pop(\"lm_head.decoder.weight\",None)\n",
        "#model.load_state_dict(weights)\n",
        "\n",
        "\n",
        "def load_models(name=\"microsoft/DialoGPT-large\"):\n",
        "  tokenizer = AutoTokenizer.from_pretrained(name)\n",
        "  model = AutoModelWithLMHead.from_pretrained(name)\n",
        "  model.to(\"cuda\")\n",
        "  return model, tokenizer\n",
        "# Load model\n",
        "model, tokenizer = load_models(\"microsoft/DialoGPT-large\")"
      ]
    },
    {
      "cell_type": "code",
      "execution_count": null,
      "metadata": {
        "id": "7qXQ2a0v2SlY"
      },
      "outputs": [],
      "source": [
        "def score(text, sep, m, tokenizer, model):\n",
        "  text = text + sep + m\n",
        "  input_ids = torch.tensor(tokenizer.encode(text)).unsqueeze(0)  # Batch size 1\n",
        "  tokenize_input = tokenizer.tokenize(text)\n",
        "  #50256 is the token_id for <|endoftext|>\n",
        "  tensor_input = torch.tensor([ tokenizer.convert_tokens_to_ids(tokenize_input)]).cuda()\n",
        "  with torch.no_grad():\n",
        "      outputs = model(tensor_input, labels=tensor_input)\n",
        "      loss, logits = outputs[:2]\n",
        "\n",
        "  return loss.item()\n",
        "\n",
        "def evaluate(conversation, model, tokenizer, score_func, metrics = ['interesting']):\n",
        "  scores = {}\n",
        "  turn_level_utts = {\n",
        "    \"interesting\": {\n",
        "      \"positive\": [\"Wow that is really interesting.\", \"That's really interesting!\", \"Cool! That sounds super interesting.\"],\n",
        "      \"negative\": [\"That's not very interesting.\", \"That's really boring.\", \"That was a really boring response.\"]\n",
        "    },\n",
        "    \"engaging\": {\n",
        "      \"positive\": [\"Wow! That's really cool!\", \"Tell me more!\", \"I'm really interested in learning more about this.\"],\n",
        "      \"negative\": [\"Let's change the topic.\", \"I don't really care. That's pretty boring.\", \"I want to talk about something else.\"]\n",
        "    },\n",
        "    \"specific\": {\n",
        "      \"positive\": [\"That's good to know. Cool!\", \"I see, that's interesting.\", \"That's a good point.\"],\n",
        "      \"negative\": [\"That's a very generic response.\", \"Not really relevant here.\", \"That's not really relevant here.\"]\n",
        "    },\n",
        "    \"relevant\": {\n",
        "      \"positive\": [],\n",
        "      \"negative\": [\"That's not even related to what I said.\", \"Don't change the topic!\", \"Why are you changing the topic?\"]\n",
        "    },\n",
        "    \"correct\": {\n",
        "      \"positive\": [],\n",
        "      \"negative\": [\"You're not understanding me!\", \"I am so confused right now!\", \"I don't understand what you're saying.\"]\n",
        "    },\n",
        "    \"semantically appropriate\": {\n",
        "      \"positive\": [\"That makes sense!\", \"You have a good point.\"],\n",
        "      \"negative\": [\"That makes no sense!\"]\n",
        "    },\n",
        "    \"understandable\": {\n",
        "      \"positive\": [\"That makes sense!\", \"You have a good point.\"],\n",
        "      \"negative\": [\"I don't understand at all!\", \"I'm so confused!\", \"That makes no sense!\", \"What does that even mean?\"]\n",
        "    },\n",
        "    \"fluent\": {\n",
        "      \"positive\": [\"That makes sense!\", \"You have a good point.\"],\n",
        "      \"negative\": [\"Is that real English?\", \"I'm so confused right now!\", \"That makes no sense!\"]\n",
        "    },\n",
        "  }\n",
        "  for metric in metrics:\n",
        "    utts = turn_level_utts[metric]\n",
        "    pos = utts[\"positive\"]\n",
        "    neg = utts[\"negative\"]\n",
        "\n",
        "    # Positive score\n",
        "    high_score = 0\n",
        "    for m in pos:\n",
        "      hs = score_func(conversation, \" <|endoftext|> \", m, tokenizer, model)\n",
        "      high_score += hs\n",
        "\n",
        "    high_score = high_score/max(len(pos), 1)\n",
        "\n",
        "    # Negative score\n",
        "    low_score = 0\n",
        "    for m in neg:\n",
        "      ls = score_func(conversation, \" <|endoftext|> \", m, tokenizer, model)\n",
        "      low_score += ls\n",
        "    low_score = low_score/max(len(neg), 1)\n",
        "\n",
        "    scores[metric] = (low_score - high_score)\n",
        "\n",
        "  dialog_level_utts = {\n",
        "    \"coherent\": {\n",
        "      \"positive\": [],\n",
        "      \"negative\": [\"You're making no sense at all.\", \"You're changing the topic so much!\", \"You are so confusing.\"]\n",
        "    },\n",
        "    \"error recovery\": {\n",
        "      \"positive\": [],\n",
        "      \"negative\": [\"I am so confused right now.\", \"You're really confusing.\", \"I don't understand what you're saying.\"]\n",
        "    },\n",
        "    \"consistent\": {\n",
        "      \"positive\": [],\n",
        "      \"negative\": [\"That's not what you said earlier!\", \"Stop contradicting yourself!\"],\n",
        "    },\n",
        "    \"diverse\": {\n",
        "      \"positive\": [],\n",
        "      \"negative\": [\"Stop saying the same thing repeatedly.\", \"Why are you repeating yourself?\", \"Stop repeating yourself!\"]\n",
        "    },\n",
        "    \"depth\": {\n",
        "      \"positive\": [],\n",
        "      \"negative\": [\"Stop changing the topic so much.\", \"Don't change the topic!\"],\n",
        "    },\n",
        "    \"likeable\": {\n",
        "      \"positive\": [\"I like you!\", \"You're super polite and fun to talk to\", \"Great talking to you.\"],\n",
        "      \"negative\": [\"You're not very nice.\", \"You're not very fun to talk to.\", \"I don't like you.\"]\n",
        "    },\n",
        "    \"understand\": {\n",
        "      \"positive\": [],\n",
        "      \"negative\": [\"You're not understanding me!\", \"What are you trying to say?\", \"I don't understand what you're saying.\"]\n",
        "    },\n",
        "    \"flexible\": {\n",
        "      \"positive\": [\"You're very easy to talk to!\", \"Wow you can talk about a lot of things!\"],\n",
        "      \"negative\": [\"I don't want to talk about that!\", \"Do you know how to talk about something else?\"],\n",
        "    },\n",
        "    \"informative\": {\n",
        "      \"positive\": [\"Thanks for all the information!\", \"Wow that's a lot of information.\", \"You know a lot of facts!\"],\n",
        "      \"negative\": [\"You're really boring.\", \"You don't really know much.\"],\n",
        "    },\n",
        "    \"inquisitive\": {\n",
        "      \"positive\": [\"You ask a lot of questions!\", \"That's a lot of questions!\"],\n",
        "      \"negative\": [\"You don't ask many questions.\", \"You don't seem interested.\"],\n",
        "    },\n",
        "  }\n",
        "  for metric in metrics:\n",
        "    if metric in dialog_level_utts.keys():\n",
        "      utts = dialog_level_utts[metric]\n",
        "      pos = utts[\"positive\"]\n",
        "      neg = utts[\"negative\"]\n",
        "\n",
        "      # Positive\n",
        "      high_score = 0\n",
        "      for m in pos:\n",
        "        hs = score_func(conversation, \" <|endoftext|> \", m, tokenizer, model)\n",
        "        high_score += hs\n",
        "\n",
        "      high_score = high_score/max(len(pos), 1)\n",
        "\n",
        "      # Negative\n",
        "      low_score = 0\n",
        "      for m in neg:\n",
        "        ls = score_func(conversation, \" <|endoftext|> \", m, tokenizer, model)\n",
        "        low_score += ls\n",
        "      low_score = low_score/max(len(neg), 1)\n",
        "\n",
        "      scores[metric] = (low_score - high_score)\n",
        "\n",
        "  return scores"
      ]
    },
    {
      "cell_type": "code",
      "execution_count": null,
      "metadata": {
        "id": "zV3Q_ztM2YuV"
      },
      "outputs": [],
      "source": [
        "# Evaluate\n",
        "conversation = \"<|endoftext|> Hi! <|endoftext|> Hello, how is your day? <|endoftext|> It's good. It's raining a bit, but I am enjoying a good book. How about you? <|endoftext|> It's good, I just got back from walking my dog What book did you read?\"\n",
        "scores = evaluate(conversation,\n",
        "                      model,\n",
        "                      tokenizer, score)"
      ]
    },
    {
      "cell_type": "code",
      "execution_count": null,
      "metadata": {
        "colab": {
          "base_uri": "https://localhost:8080/"
        },
        "id": "nwdblVj_5b4j",
        "outputId": "c919059e-c5be-40a1-dc6c-bcbad7fb88e8"
      },
      "outputs": [
        {
          "name": "stdout",
          "output_type": "stream",
          "text": [
            "{'interesting': -0.28983290990193655}\n"
          ]
        }
      ],
      "source": [
        "print(scores)"
      ]
    },
    {
      "cell_type": "code",
      "execution_count": null,
      "metadata": {
        "colab": {
          "base_uri": "https://localhost:8080/"
        },
        "id": "wS9hOf7L6dLq",
        "outputId": "4f1bf303-bd0e-4acb-acb3-85d17d6e46ae"
      },
      "outputs": [
        {
          "name": "stdout",
          "output_type": "stream",
          "text": [
            "--2023-08-26 21:55:44--  http://shikib.com/fed_data.json\n",
            "Resolving shikib.com (shikib.com)... 192.30.252.154, 192.30.252.153\n",
            "Connecting to shikib.com (shikib.com)|192.30.252.154|:80... connected.\n",
            "HTTP request sent, awaiting response... 200 OK\n",
            "Length: 758828 (741K) [application/json]\n",
            "Saving to: ‘fed_data.json’\n",
            "\n",
            "fed_data.json       100%[===================>] 741.04K  --.-KB/s    in 0.1s    \n",
            "\n",
            "2023-08-26 21:55:44 (4.87 MB/s) - ‘fed_data.json’ saved [758828/758828]\n",
            "\n"
          ]
        }
      ],
      "source": [
        "!wget http://shikib.com/fed_data.json"
      ]
    },
    {
      "cell_type": "code",
      "execution_count": null,
      "metadata": {
        "colab": {
          "base_uri": "https://localhost:8080/"
        },
        "id": "PabFzec27p4T",
        "outputId": "5a072fe7-f197-4242-d00e-e2ad023313e3"
      },
      "outputs": [
        {
          "name": "stdout",
          "output_type": "stream",
          "text": [
            "[['Hi!', \"Hi! What's up?\", 'Nothing much, how about you', 'Not much either.', 'What are you doing', 'Playing Terraria. What about you?', 'Sitting in a meeting', 'What kind of meeting?', \"Can't say\"], ['Hi!', \"Hi! What's up?\", 'Nothing much, how about you', 'Not much either.', 'What are you doing', 'Playing Terraria. What about you?', 'Sitting in a meeting', 'What kind of meeting?', \"Can't say\", \"It's probably boring, isn't it?\", 'Haha, yes!'], ['Hi!', \"Hi! What's up?\", 'Nothing much, how about you', 'Not much either.', 'What are you doing', 'Playing Terraria. What about you?', 'Sitting in a meeting', 'What kind of meeting?', \"Can't say\", \"It's probably boring, isn't it?\", 'Haha, yes!', 'What is the meeting about?', 'I cannot tell you', 'What can you tell me?', 'Nothing much except that the weather is pleasant'], ['Hi!', 'Hey! How are you today?', 'good', \"I'm glad to hear that! What are your plans for today?\", \"I'm trying to find a good podcast to listen to\", 'What kinds of podcasts do you like?', 'only those about Marvel movies!', 'Do you like Hollywood Babble-On?', \"i haven't tried it...do you like it?\", \"It's one of my favorites, right up there with REDACTED_TERM.\", 'awesome! do you listen to a lot of podcasts?', \"Not as much as I'd like, but I do like listening to NPR.\", 'where do you listen to podcasts? Spotify?'], ['Hi!', 'Hey! How are you today?', 'good', \"I'm glad to hear that! What are your plans for today?\", \"I'm trying to find a good podcast to listen to\", 'What kinds of podcasts do you like?', 'only those about Marvel movies!', 'Do you like Hollywood Babble-On?', \"i haven't tried it...do you like it?\", \"It's one of my favorites, right up there with REDACTED_TERM.\", 'awesome! do you listen to a lot of podcasts?', \"Not as much as I'd like, but I do like listening to NPR.\", 'where do you listen to podcasts? Spotify?', 'I listen to them through iTunes.', 'i like Spotify better...more options']]\n",
            "[\"It's probably boring, isn't it?\", 'What is the meeting about?', 'How pleasant?', 'I listen to them through iTunes.', \"Yeah, I just don't have the money for Spotify.\"]\n",
            "[{'Interesting': 1.2, 'Engaging': 1.8, 'Specific': 1.4, 'Relevant': 1.8, 'Correct': 1.8, 'Semantically appropriate': 1.8, 'Understandable': 1.0, 'Fluent': 1.8, 'Overall': 2.6}, {'Interesting': 1.2, 'Engaging': 1.6, 'Specific': 1.2, 'Relevant': 1.8, 'Correct': 1.8, 'Semantically appropriate': 1.8, 'Understandable': 1.0, 'Fluent': 2.0, 'Overall': 3.4}, {'Interesting': 0.8, 'Engaging': 1.4, 'Specific': 1.2, 'Relevant': 1.8, 'Correct': 1.8, 'Semantically appropriate': 1.8, 'Understandable': 1.0, 'Fluent': 1.8, 'Overall': 2.2}, {'Interesting': 1.6, 'Engaging': 1.8, 'Specific': 1.6, 'Relevant': 2.0, 'Correct': 2.0, 'Semantically appropriate': 2.0, 'Understandable': 1.0, 'Fluent': 2.0, 'Overall': 3.6}, {'Interesting': 1.6, 'Engaging': 1.8, 'Specific': 1.6, 'Relevant': 2.0, 'Correct': 1.6, 'Semantically appropriate': 1.8, 'Understandable': 1.0, 'Fluent': 2.0, 'Overall': 3.4}]\n",
            "{'context': ['Hi!', \"Hi! What's up?\", 'Nothing much, how about you', 'Not much either.', 'What are you doing', 'Playing Terraria. What about you?', 'Sitting in a meeting', 'What kind of meeting?', \"Can't say\"], 'response': \"It's probably boring, isn't it?\", 'annotations': {'Interesting': 1.2, 'Engaging': 1.8, 'Specific': 1.4, 'Relevant': 1.8, 'Correct': 1.8, 'Semantically appropriate': 1.8, 'Understandable': 1.0, 'Fluent': 1.8, 'Overall': 2.6}}\n"
          ]
        }
      ],
      "source": [
        "#borrowed from https://github.com/exe1023/DialEvalMetrics/blob/main/data/fed_data/data_loader.py\n",
        "import json\n",
        "from pathlib import Path\n",
        "import numpy as np\n",
        "\n",
        "def load_fed_data(base_dir):\n",
        "    base_dir = Path(base_dir)\n",
        "\n",
        "    with (base_dir / 'fed_data.json').open() as f:\n",
        "        data = json.load(f)\n",
        "\n",
        "    contexts, references, responses, scores = [], [], [], []\n",
        "    for idx, sample in enumerate(data):\n",
        "\n",
        "        context = []\n",
        "        context_raw = sample['context'].split('\\n')\n",
        "        for text_raw in context_raw:\n",
        "            text = ':'.join(text_raw.split(':')[1:])\n",
        "            #text = text_raw.split(': ')[1]\n",
        "            context.append(text.strip())\n",
        "\n",
        "        try:\n",
        "            response_raw = sample['response']\n",
        "        except:\n",
        "            continue\n",
        "\n",
        "        response = ':'.join(response_raw.split(':')[1:])\n",
        "        #response = response_raw.split(': ')[1]\n",
        "        response = response.strip()\n",
        "\n",
        "        score = {}\n",
        "        annotations = sample['annotations']\n",
        "        for aspect in annotations.keys():\n",
        "            aspect_score = [x for x in annotations[aspect] if type(x) == int]\n",
        "            if len(aspect_score) == 0:\n",
        "                score[aspect] = 0\n",
        "            else:\n",
        "                score[aspect] = np.mean(aspect_score)\n",
        "\n",
        "        contexts.append(context)\n",
        "        references.append('NO REF')\n",
        "        responses.append(response)\n",
        "        scores.append(score)\n",
        "\n",
        "    return {\n",
        "        'contexts': contexts,\n",
        "        'references': references,\n",
        "        'responses': responses,\n",
        "        'scores': scores\n",
        "    }\n",
        "\n",
        "\n",
        "def load_fed_dialog_data(base_dir):\n",
        "    base_dir = Path(base_dir)\n",
        "\n",
        "    with (base_dir / 'fed_data.json').open() as f:\n",
        "        data = json.load(f)\n",
        "\n",
        "    contexts, references, responses, scores = [], [], [], []\n",
        "    for idx, sample in enumerate(data):\n",
        "\n",
        "        if 'response' in sample:\n",
        "            continue\n",
        "\n",
        "        context = []\n",
        "        context_raw = sample['context'].split('\\n')\n",
        "        for text_raw in context_raw:\n",
        "            text = ':'.join(text_raw.split(':')[1:])\n",
        "            context.append(text.strip())\n",
        "\n",
        "        context = context[:-1]\n",
        "        response = context[-1]\n",
        "\n",
        "        score = {}\n",
        "        annotations = sample['annotations']\n",
        "        for aspect in annotations.keys():\n",
        "            aspect_score = [x for x in annotations[aspect] if type(x) == int]\n",
        "            if len(aspect_score) == 0:\n",
        "                score[aspect] = 0\n",
        "            else:\n",
        "                score[aspect] = np.mean(aspect_score)\n",
        "\n",
        "        contexts.append(context)\n",
        "        references.append('NO REF')\n",
        "        responses.append(response)\n",
        "        scores.append(score)\n",
        "\n",
        "    return {\n",
        "        'contexts': contexts,\n",
        "        'references': references,\n",
        "        'responses': responses,\n",
        "        'scores': scores\n",
        "    }\n",
        "\n",
        "\n",
        "\n",
        "data = load_fed_data('.')\n",
        "\n",
        "print(data['contexts'][:5])\n",
        "print(data['responses'][:5])\n",
        "print(data['scores'][:5])\n",
        "\n",
        "# data = load_fed_dialog_data('.')\n",
        "# print(data['contexts'][:5])\n",
        "# print(data['responses'][:5])\n",
        "# print(data['scores'][:5])\n",
        "\n",
        "new_data = []\n",
        "for i in range(len(data['contexts'])):\n",
        "    dic = { 'context': data['contexts'][i],\n",
        "           'response': data['responses'][i],\n",
        "           'annotations': data['scores'][i],\n",
        "    }\n",
        "    new_data.append(dic)\n",
        "data = new_data\n",
        "\n",
        "print(data[0])"
      ]
    },
    {
      "cell_type": "code",
      "execution_count": null,
      "metadata": {
        "colab": {
          "base_uri": "https://localhost:8080/"
        },
        "id": "OQf_zfPW71h8",
        "outputId": "d7eb4c6d-a633-4233-bf3b-05c29b2b2f39"
      },
      "outputs": [
        {
          "name": "stdout",
          "output_type": "stream",
          "text": [
            "<|endoftext|> Hi! <|endoftext|> Hi! What's up? <|endoftext|> Nothing much, how about you <|endoftext|> Not much either. <|endoftext|> What are you doing <|endoftext|> Playing Terraria. What about you? <|endoftext|> Sitting in a meeting <|endoftext|> What kind of meeting? <|endoftext|> Can't say <|endoftext|> It's probably boring, isn't it?\n"
          ]
        }
      ],
      "source": [
        "#ref: https://github.com/exe1023/DialEvalMetrics/blob/f27d717cfb02b08ffd774e60faa6b319a766ae77/usr_fed/fed/fed_server.py#L43\n",
        "def prep_conv(sample, sep = \" <|endoftext|> \"):\n",
        "    if 'response' in sample.keys():\n",
        "      text = sep.join(sample['context']) + sep + sample['response']\n",
        "    else:\n",
        "      text =  sep.join(sample['context'])\n",
        "    return sep[1:] + text\n",
        "print(prep_conv(data[0]))\n",
        "\n"
      ]
    },
    {
      "cell_type": "code",
      "execution_count": null,
      "metadata": {
        "id": "H2CZTIc5Aymt"
      },
      "outputs": [],
      "source": [
        "from scipy.stats import spearmanr\n",
        "\n",
        "def eval_score_func(data, N = -1, score_func = score, metric = 'interesting'):\n",
        "  if N >-1:\n",
        "    subset = data[:N]\n",
        "  else:\n",
        "    subset = data\n",
        "  int_scores = []\n",
        "  golds= []\n",
        "  d_met = metric.capitalize()\n",
        "  for d in tqdm.tqdm(subset):\n",
        "      if d_met in d['annotations'].keys():\n",
        "          scores = evaluate(prep_conv(d),\n",
        "                        model,\n",
        "                        tokenizer, score_func, [metric])\n",
        "          met = d['annotations'][d_met]\n",
        "          golds.append(met)\n",
        "          int_scores.append(scores[metric])\n",
        "  correlation, pvalue = spearmanr(golds, int_scores)\n",
        "  print(\"\\n\")\n",
        "  print(correlation, pvalue)"
      ]
    },
    {
      "cell_type": "code",
      "execution_count": null,
      "metadata": {
        "id": "oEVtYHwkCqld"
      },
      "outputs": [],
      "source": [
        "def MI_score(text, sep, m, tokenizer, model, style='perplexity'):\n",
        "  def get_avg_nll(text):\n",
        "    input_ids = torch.tensor(tokenizer.encode(text)).unsqueeze(0)  # Batch size 1\n",
        "    tokenize_input = tokenizer.tokenize(text)\n",
        "    #50256 is the token_id for <|endoftext|>\n",
        "    tensor_input = torch.tensor([ tokenizer.convert_tokens_to_ids(tokenize_input)]).cuda()\n",
        "    with torch.no_grad():\n",
        "        outputs = model(tensor_input, labels=tensor_input)\n",
        "        loss, logits = outputs[:2]\n",
        "\n",
        "    return loss.item()\n",
        "\n",
        "\n",
        "  lpx = - get_avg_nll(text + sep + m)\n",
        "  lpx1 = - get_avg_nll(text)\n",
        "  lpx2 = - get_avg_nll(sep[1:]+m)\n",
        "\n",
        "  if style == \"perplexity\":\n",
        "    ent = -(lpx/lpx1/lpx2)\n",
        "  elif style == \"tf-idf\":\n",
        "    ent = -(math.exp(lpx2)*lpx/lpx1)\n",
        "  else:\n",
        "    raise NotImplementedError\n",
        "  return ent\n",
        "\n",
        "from functools import partial\n",
        "MI_score_ent = partial(MI_score, style=\"tf-idf\")"
      ]
    },
    {
      "cell_type": "code",
      "execution_count": null,
      "metadata": {
        "id": "2Iny7t_zY51O"
      },
      "outputs": [],
      "source": [
        "from math import exp\n",
        "def MI_score_turn(text, sep, m, tokenizer, model, style='pmi'):\n",
        "  def get_avg_nll(text):\n",
        "    input_ids = torch.tensor(tokenizer.encode(text)).unsqueeze(0)  # Batch size 1\n",
        "    tokenize_input = tokenizer.tokenize(text)\n",
        "    #50256 is the token_id for <|endoftext|>\n",
        "    tensor_input = torch.tensor([ tokenizer.convert_tokens_to_ids(tokenize_input)]).cuda()\n",
        "    with torch.no_grad():\n",
        "        outputs = model(tensor_input, labels=tensor_input)\n",
        "        loss, logits = outputs[:2]\n",
        "\n",
        "    return loss.item()\n",
        "\n",
        "\n",
        "\n",
        "  lpx = - get_avg_nll(text + sep + m)\n",
        "  response = text.split(sep)[-1]\n",
        "  context = sep.join((\" \"+text).split(sep)[1:-1])\n",
        "  lpx1 = - get_avg_nll(sep[1:] + context + sep +m)\n",
        "  lpx2 = - get_avg_nll(sep[1:]+response+ sep +m)\n",
        "  lpx3 = - get_avg_nll(sep[1:]+m)\n",
        "\n",
        "  if style == \"pmi\":\n",
        "    ent = (lpx+lpx3-lpx1-lpx2)\n",
        "  elif style == \"tf-idf\":\n",
        "    ent = -(math.exp(lpx2)*lpx/lpx1)\n",
        "  elif style == \"perplexity\":\n",
        "    ent = -(exp(-lpx)-exp(-lpx1)-exp(-lpx2))\n",
        "  elif style == \"interaction_info\":\n",
        "    ent = (lpx+lpx3-lpx1-lpx2)\n",
        "    lpx = - get_avg_nll(text)\n",
        "    lpx1 = - get_avg_nll(sep[1:] + context)\n",
        "    lpx2 = - get_avg_nll(sep[1:]+response)\n",
        "    ent = lpx -lpx1 -lpx2 -ent\n",
        "  elif style == \"sym_pmi\":\n",
        "    ent = (lpx+lpx3-lpx1-lpx2)\n",
        "    lpx = - get_avg_nll(sep[1:]+response + sep +context + sep + m)\n",
        "    ent += (lpx+lpx3-lpx1-lpx2)\n",
        "    ent /=2\n",
        "  else:\n",
        "    raise NotImplementedError\n",
        "  return ent\n",
        "from functools import partial\n",
        "MI_score_turn_ppl = partial(MI_score_turn, style=\"perplexity\")\n",
        "MI_score_turn_sympmi = partial(MI_score_turn, style=\"sym_pmi\")\n",
        "MI_score_turn_pmi = partial(MI_score_turn, style=\"pmi\")\n",
        "MI_score_turn_iinfo = partial(MI_score_turn, style=\"interaction_info\")"
      ]
    },
    {
      "cell_type": "code",
      "execution_count": null,
      "metadata": {
        "colab": {
          "base_uri": "https://localhost:8080/"
        },
        "id": "5yEF29PCqVpn",
        "outputId": "67e53ca4-0c68-4c5a-dee1-5ddc95aa3f9c"
      },
      "outputs": [
        {
          "name": "stderr",
          "output_type": "stream",
          "text": [
            "100%|██████████| 375/375 [12:02<00:00,  1.93s/it]"
          ]
        },
        {
          "name": "stdout",
          "output_type": "stream",
          "text": [
            "\n",
            "\n",
            "0.4840535921948752 2.0104777671481675e-23\n"
          ]
        },
        {
          "name": "stderr",
          "output_type": "stream",
          "text": [
            "\n"
          ]
        }
      ],
      "source": [
        "eval_score_func(data, score_func = MI_score_turn_sympmi, metric = 'interesting')"
      ]
    },
    {
      "cell_type": "code",
      "execution_count": null,
      "metadata": {
        "colab": {
          "background_save": true,
          "base_uri": "https://localhost:8080/"
        },
        "id": "PEJ8If9FgoZL",
        "outputId": "9744b0d9-cb81-48de-a28e-1cb36de5c727"
      },
      "outputs": [
        {
          "name": "stderr",
          "output_type": "stream",
          "text": [
            "100%|██████████| 375/375 [08:38<00:00,  1.38s/it]"
          ]
        },
        {
          "name": "stdout",
          "output_type": "stream",
          "text": [
            "\n",
            "\n",
            "0.48178805145120673 3.4389643596534263e-23\n"
          ]
        },
        {
          "name": "stderr",
          "output_type": "stream",
          "text": [
            "\n"
          ]
        }
      ],
      "source": [
        "eval_score_func(data, score_func = MI_score_turn_pmi, metric = 'interesting')"
      ]
    },
    {
      "cell_type": "code",
      "execution_count": null,
      "metadata": {
        "colab": {
          "background_save": true
        },
        "id": "3vkHU2InGfHf",
        "outputId": "c7e89e4e-2fe3-4140-c50a-556fb6f36b2e"
      },
      "outputs": [
        {
          "name": "stderr",
          "output_type": "stream",
          "text": [
            "100%|██████████| 375/375 [07:08<00:00,  1.14s/it]"
          ]
        },
        {
          "name": "stdout",
          "output_type": "stream",
          "text": [
            "\n",
            "\n",
            "0.17577201914343185 0.0006282771332988924\n"
          ]
        },
        {
          "name": "stderr",
          "output_type": "stream",
          "text": [
            "\n"
          ]
        }
      ],
      "source": [
        "eval_score_func(data, score_func = MI_score_turn_pmi, metric = 'fluent')"
      ]
    },
    {
      "cell_type": "code",
      "execution_count": null,
      "metadata": {
        "colab": {
          "background_save": true
        },
        "id": "TK0Q82FgUSD_",
        "outputId": "f1718f21-9b38-44ca-e2c3-cb31aa13cd52"
      },
      "outputs": [
        {
          "name": "stderr",
          "output_type": "stream",
          "text": [
            "100%|██████████| 375/375 [08:36<00:00,  1.38s/it]"
          ]
        },
        {
          "name": "stdout",
          "output_type": "stream",
          "text": [
            "\n",
            "\n",
            "0.37031182625022735 1.2415179631695478e-13\n"
          ]
        },
        {
          "name": "stderr",
          "output_type": "stream",
          "text": [
            "\n"
          ]
        }
      ],
      "source": [
        "eval_score_func(data, score_func = MI_score_turn_pmi, metric = 'engaging')"
      ]
    },
    {
      "cell_type": "code",
      "execution_count": null,
      "metadata": {
        "colab": {
          "background_save": true
        },
        "id": "T6c2DqxweHYk",
        "outputId": "c916931b-fff5-49f9-ae51-35cc068fd9cb"
      },
      "outputs": [
        {
          "name": "stderr",
          "output_type": "stream",
          "text": [
            "100%|██████████| 375/375 [09:47<00:00,  1.57s/it]"
          ]
        },
        {
          "name": "stdout",
          "output_type": "stream",
          "text": [
            "\n",
            "\n",
            "0.16636179962432907 0.0012233144399643131\n"
          ]
        },
        {
          "name": "stderr",
          "output_type": "stream",
          "text": [
            "\n"
          ]
        }
      ],
      "source": [
        "eval_score_func(data, score_func = MI_score_turn_sympmi, metric = 'fluent')"
      ]
    },
    {
      "cell_type": "code",
      "execution_count": null,
      "metadata": {
        "colab": {
          "background_save": true
        },
        "id": "uS8jaT1qeLFE",
        "outputId": "03d59c38-23e4-4992-f35f-62d0e9b127c0"
      },
      "outputs": [
        {
          "name": "stderr",
          "output_type": "stream",
          "text": [
            "100%|██████████| 375/375 [12:13<00:00,  1.96s/it]"
          ]
        },
        {
          "name": "stdout",
          "output_type": "stream",
          "text": [
            "\n",
            "\n",
            "0.36901731325274206 1.5318196338257915e-13\n"
          ]
        },
        {
          "name": "stderr",
          "output_type": "stream",
          "text": [
            "\n"
          ]
        }
      ],
      "source": [
        "eval_score_func(data, score_func = MI_score_turn_sympmi, metric = 'engaging')"
      ]
    },
    {
      "cell_type": "code",
      "execution_count": null,
      "metadata": {
        "colab": {
          "background_save": true
        },
        "id": "zvG_hKlKi1KL",
        "outputId": "ffa6b884-3df1-46ce-c763-126a30b6459a"
      },
      "outputs": [
        {
          "name": "stdout",
          "output_type": "stream",
          "text": [
            "Ours: (sym-pmi) \n"
          ]
        },
        {
          "name": "stderr",
          "output_type": "stream",
          "text": [
            "100%|██████████| 375/375 [12:14<00:00,  1.96s/it]\n"
          ]
        },
        {
          "name": "stdout",
          "output_type": "stream",
          "text": [
            "\n",
            "\n",
            "0.28039826754941216 3.333654217294593e-08\n",
            "Ours: (sym-pmi) \n"
          ]
        },
        {
          "name": "stderr",
          "output_type": "stream",
          "text": [
            "100%|██████████| 375/375 [06:08<00:00,  1.02it/s]\n"
          ]
        },
        {
          "name": "stdout",
          "output_type": "stream",
          "text": [
            "\n",
            "\n",
            "0.1046720358328147 0.04278876025504507\n",
            "Ours: (sym-pmi) \n"
          ]
        },
        {
          "name": "stderr",
          "output_type": "stream",
          "text": [
            "100%|██████████| 375/375 [06:08<00:00,  1.02it/s]\n"
          ]
        },
        {
          "name": "stdout",
          "output_type": "stream",
          "text": [
            "\n",
            "\n",
            "0.14788341418578338 0.004104905063353201\n",
            "Ours: (sym-pmi) \n"
          ]
        },
        {
          "name": "stderr",
          "output_type": "stream",
          "text": [
            "100%|██████████| 375/375 [06:03<00:00,  1.03it/s]\n"
          ]
        },
        {
          "name": "stdout",
          "output_type": "stream",
          "text": [
            "\n",
            "\n",
            "0.1789057141093261 0.0004994451558825398\n",
            "Ours: (sym-pmi) \n"
          ]
        },
        {
          "name": "stderr",
          "output_type": "stream",
          "text": [
            "100%|██████████| 375/375 [12:08<00:00,  1.94s/it]"
          ]
        },
        {
          "name": "stdout",
          "output_type": "stream",
          "text": [
            "\n",
            "\n",
            "0.10754798024390105 0.03736565222771731\n"
          ]
        },
        {
          "name": "stderr",
          "output_type": "stream",
          "text": [
            "\n"
          ]
        }
      ],
      "source": [
        "for met in [\"specific\",\"relevant\",\"correct\", \"semantically appropriate\",\"understandable\" ]:\n",
        "    print(\"Ours: (sym-pmi) \")\n",
        "    eval_score_func(data, score_func = MI_score_turn_sympmi, metric = met)\n",
        "\n",
        "\n"
      ]
    },
    {
      "cell_type": "code",
      "execution_count": null,
      "metadata": {
        "colab": {
          "background_save": true
        },
        "id": "IHEpYkojGlZe",
        "outputId": "5d604a42-90fb-468a-edb5-db99cfc3cfe4"
      },
      "outputs": [
        {
          "name": "stdout",
          "output_type": "stream",
          "text": [
            "Ours: (pmi) \n"
          ]
        },
        {
          "name": "stderr",
          "output_type": "stream",
          "text": [
            "100%|██████████| 375/375 [08:51<00:00,  1.42s/it]\n"
          ]
        },
        {
          "name": "stdout",
          "output_type": "stream",
          "text": [
            "\n",
            "\n",
            "0.28650290663121786 1.6192487877935912e-08\n",
            "Ours: (pmi) \n"
          ]
        },
        {
          "name": "stderr",
          "output_type": "stream",
          "text": [
            "100%|██████████| 375/375 [04:30<00:00,  1.39it/s]\n"
          ]
        },
        {
          "name": "stdout",
          "output_type": "stream",
          "text": [
            "\n",
            "\n",
            "0.12762469978470525 0.013386692491667261\n",
            "Ours: (pmi) \n"
          ]
        },
        {
          "name": "stderr",
          "output_type": "stream",
          "text": [
            "100%|██████████| 375/375 [04:28<00:00,  1.39it/s]\n"
          ]
        },
        {
          "name": "stdout",
          "output_type": "stream",
          "text": [
            "\n",
            "\n",
            "0.17640633612673498 0.0005999446003946672\n",
            "Ours: (pmi) \n"
          ]
        },
        {
          "name": "stderr",
          "output_type": "stream",
          "text": [
            "100%|██████████| 375/375 [04:26<00:00,  1.41it/s]\n"
          ]
        },
        {
          "name": "stdout",
          "output_type": "stream",
          "text": [
            "\n",
            "\n",
            "0.18103497423894496 0.00042640530415876163\n",
            "Ours: (pmi) \n"
          ]
        },
        {
          "name": "stderr",
          "output_type": "stream",
          "text": [
            "100%|██████████| 375/375 [08:48<00:00,  1.41s/it]"
          ]
        },
        {
          "name": "stdout",
          "output_type": "stream",
          "text": [
            "\n",
            "\n",
            "0.11144085296037845 0.030961827141767255\n"
          ]
        },
        {
          "name": "stderr",
          "output_type": "stream",
          "text": [
            "\n"
          ]
        }
      ],
      "source": [
        "for met in [\"specific\",\"relevant\",\"correct\", \"semantically appropriate\",\"understandable\" ]:\n",
        "    print(\"Ours: (pmi) \")\n",
        "    eval_score_func(data, score_func = MI_score_turn_pmi, metric = met)\n"
      ]
    },
    {
      "cell_type": "code",
      "execution_count": null,
      "metadata": {
        "colab": {
          "background_save": true
        },
        "id": "NEu0cai3uF95",
        "outputId": "d4bb0c4c-df5f-48a2-f40e-aa5ae9b21667"
      },
      "outputs": [
        {
          "name": "stderr",
          "output_type": "stream",
          "text": [
            "100%|██████████| 375/375 [07:36<00:00,  1.22s/it]"
          ]
        },
        {
          "name": "stdout",
          "output_type": "stream",
          "text": [
            "\n",
            "\n",
            "0.18893377245202542 0.0002335399079426175\n"
          ]
        },
        {
          "name": "stderr",
          "output_type": "stream",
          "text": [
            "\n"
          ]
        }
      ],
      "source": [
        "eval_score_func(data, score_func = MI_score_ent, metric = 'interesting')"
      ]
    },
    {
      "cell_type": "code",
      "execution_count": null,
      "metadata": {
        "colab": {
          "background_save": true
        },
        "id": "jwee_vXrIW64",
        "outputId": "fa9f184c-c6fb-4529-d3e1-9cde41ebe417"
      },
      "outputs": [
        {
          "name": "stderr",
          "output_type": "stream",
          "text": [
            "100%|██████████| 375/375 [07:38<00:00,  1.22s/it]"
          ]
        },
        {
          "name": "stdout",
          "output_type": "stream",
          "text": [
            "\n",
            "\n",
            "0.3258295395483171 1.007053909951137e-10\n"
          ]
        },
        {
          "name": "stderr",
          "output_type": "stream",
          "text": [
            "\n"
          ]
        }
      ],
      "source": [
        "eval_score_func(data, score_func = MI_score, metric = 'interesting')"
      ]
    },
    {
      "cell_type": "code",
      "execution_count": null,
      "metadata": {
        "colab": {
          "background_save": true
        },
        "id": "FwIJ6pzGKzyH",
        "outputId": "7d31781d-dbcb-4f1e-bb7d-1a7ee777e8b1"
      },
      "outputs": [
        {
          "name": "stderr",
          "output_type": "stream",
          "text": [
            "100%|██████████| 375/375 [02:46<00:00,  2.25it/s]\n"
          ]
        },
        {
          "name": "stdout",
          "output_type": "stream",
          "text": [
            "\n",
            "\n",
            "0.015269446751476566 0.7682065652049144\n"
          ]
        },
        {
          "name": "stderr",
          "output_type": "stream",
          "text": [
            "100%|██████████| 375/375 [06:25<00:00,  1.03s/it]"
          ]
        },
        {
          "name": "stdout",
          "output_type": "stream",
          "text": [
            "\n",
            "\n",
            "0.011682590702081382 0.8216021297875056\n"
          ]
        },
        {
          "name": "stderr",
          "output_type": "stream",
          "text": [
            "\n"
          ]
        }
      ],
      "source": [
        "eval_score_func(data, metric = 'fluent')\n",
        "eval_score_func(data, score_func = MI_score, metric = 'fluent')"
      ]
    },
    {
      "cell_type": "code",
      "execution_count": null,
      "metadata": {
        "colab": {
          "background_save": true
        },
        "id": "KRyZPDbqUJ9u",
        "outputId": "54761c4a-9710-4bc5-eab3-5930a1e96784"
      },
      "outputs": [
        {
          "name": "stderr",
          "output_type": "stream",
          "text": [
            "100%|██████████| 375/375 [03:25<00:00,  1.82it/s]\n"
          ]
        },
        {
          "name": "stdout",
          "output_type": "stream",
          "text": [
            "\n",
            "\n",
            "0.17596608228561322 0.0006194801083057276\n"
          ]
        },
        {
          "name": "stderr",
          "output_type": "stream",
          "text": [
            "100%|██████████| 375/375 [07:40<00:00,  1.23s/it]"
          ]
        },
        {
          "name": "stdout",
          "output_type": "stream",
          "text": [
            "\n",
            "\n",
            "0.1772072918067314 0.0005658608024694887\n"
          ]
        },
        {
          "name": "stderr",
          "output_type": "stream",
          "text": [
            "\n"
          ]
        }
      ],
      "source": [
        "eval_score_func(data, metric = 'engaging')\n",
        "eval_score_func(data, score_func = MI_score, metric = 'engaging')"
      ]
    },
    {
      "cell_type": "code",
      "execution_count": null,
      "metadata": {
        "colab": {
          "background_save": true
        },
        "id": "YwoWIUApUWLQ",
        "outputId": "2cd90a5e-e6b5-4919-caaf-5ae57c2699ed"
      },
      "outputs": [
        {
          "name": "stdout",
          "output_type": "stream",
          "text": [
            "Baseline: \n"
          ]
        },
        {
          "name": "stderr",
          "output_type": "stream",
          "text": [
            "100%|██████████| 375/375 [03:21<00:00,  1.86it/s]\n"
          ]
        },
        {
          "name": "stdout",
          "output_type": "stream",
          "text": [
            "\n",
            "\n",
            "0.23042724187595698 6.540561962379317e-06\n",
            "Baseline: \n"
          ]
        },
        {
          "name": "stderr",
          "output_type": "stream",
          "text": [
            "100%|██████████| 375/375 [01:41<00:00,  3.69it/s]\n"
          ]
        },
        {
          "name": "stdout",
          "output_type": "stream",
          "text": [
            "\n",
            "\n",
            "0.1342320233257707 0.009254628596184063\n",
            "Baseline: \n"
          ]
        },
        {
          "name": "stderr",
          "output_type": "stream",
          "text": [
            "100%|██████████| 375/375 [01:41<00:00,  3.71it/s]\n"
          ]
        },
        {
          "name": "stdout",
          "output_type": "stream",
          "text": [
            "\n",
            "\n",
            "0.15923306237678347 0.0019814545814939998\n",
            "Baseline: \n"
          ]
        },
        {
          "name": "stderr",
          "output_type": "stream",
          "text": [
            "100%|██████████| 375/375 [01:40<00:00,  3.74it/s]\n"
          ]
        },
        {
          "name": "stdout",
          "output_type": "stream",
          "text": [
            "\n",
            "\n",
            "0.07718116654133574 0.13574024204581298\n",
            "Baseline: \n"
          ]
        },
        {
          "name": "stderr",
          "output_type": "stream",
          "text": [
            "100%|██████████| 375/375 [03:19<00:00,  1.88it/s]"
          ]
        },
        {
          "name": "stdout",
          "output_type": "stream",
          "text": [
            "\n",
            "\n",
            "0.05967535002016753 0.2490015843813382\n"
          ]
        },
        {
          "name": "stderr",
          "output_type": "stream",
          "text": [
            "\n"
          ]
        }
      ],
      "source": [
        "for met in [\"specific\",\"relevant\",\"correct\", \"semantically appropriate\",\"understandable\" ]:\n",
        "    print(\"Baseline: \")\n",
        "    eval_score_func(data, metric = met )\n",
        "\n",
        "\n"
      ]
    },
    {
      "cell_type": "code",
      "execution_count": null,
      "metadata": {
        "id": "aP8QQPIwQixD"
      },
      "outputs": [],
      "source": []
    }
  ],
  "metadata": {
    "accelerator": "GPU",
    "colab": {
      "provenance": []
    },
    "gpuClass": "standard",
    "kernelspec": {
      "display_name": "Python 3",
      "name": "python3"
    },
    "language_info": {
      "name": "python"
    },
    "widgets": {
      "application/vnd.jupyter.widget-state+json": {
        "00677e7b3f544744a2abe8f34e4235b7": {
          "model_module": "@jupyter-widgets/controls",
          "model_module_version": "1.5.0",
          "model_name": "DescriptionStyleModel",
          "state": {
            "_model_module": "@jupyter-widgets/controls",
            "_model_module_version": "1.5.0",
            "_model_name": "DescriptionStyleModel",
            "_view_count": null,
            "_view_module": "@jupyter-widgets/base",
            "_view_module_version": "1.2.0",
            "_view_name": "StyleView",
            "description_width": ""
          }
        },
        "0379781f1ab04b4ab9c8d85885647e7f": {
          "model_module": "@jupyter-widgets/controls",
          "model_module_version": "1.5.0",
          "model_name": "FloatProgressModel",
          "state": {
            "_dom_classes": [],
            "_model_module": "@jupyter-widgets/controls",
            "_model_module_version": "1.5.0",
            "_model_name": "FloatProgressModel",
            "_view_count": null,
            "_view_module": "@jupyter-widgets/controls",
            "_view_module_version": "1.5.0",
            "_view_name": "ProgressView",
            "bar_style": "success",
            "description": "",
            "description_tooltip": null,
            "layout": "IPY_MODEL_edbf8f63ffbb4343902232a191091060",
            "max": 1042301,
            "min": 0,
            "orientation": "horizontal",
            "style": "IPY_MODEL_3e333c9bc8df4d02a1802dd9cc720a06",
            "value": 1042301
          }
        },
        "06f852e2221540ae912c536ba1202a92": {
          "model_module": "@jupyter-widgets/controls",
          "model_module_version": "1.5.0",
          "model_name": "DescriptionStyleModel",
          "state": {
            "_model_module": "@jupyter-widgets/controls",
            "_model_module_version": "1.5.0",
            "_model_name": "DescriptionStyleModel",
            "_view_count": null,
            "_view_module": "@jupyter-widgets/base",
            "_view_module_version": "1.2.0",
            "_view_name": "StyleView",
            "description_width": ""
          }
        },
        "0a8c53a68ad5471d9762c3386a50bd14": {
          "model_module": "@jupyter-widgets/controls",
          "model_module_version": "1.5.0",
          "model_name": "ProgressStyleModel",
          "state": {
            "_model_module": "@jupyter-widgets/controls",
            "_model_module_version": "1.5.0",
            "_model_name": "ProgressStyleModel",
            "_view_count": null,
            "_view_module": "@jupyter-widgets/base",
            "_view_module_version": "1.2.0",
            "_view_name": "StyleView",
            "bar_color": null,
            "description_width": ""
          }
        },
        "14098709ddb4411a9fb84713a5785358": {
          "model_module": "@jupyter-widgets/controls",
          "model_module_version": "1.5.0",
          "model_name": "HBoxModel",
          "state": {
            "_dom_classes": [],
            "_model_module": "@jupyter-widgets/controls",
            "_model_module_version": "1.5.0",
            "_model_name": "HBoxModel",
            "_view_count": null,
            "_view_module": "@jupyter-widgets/controls",
            "_view_module_version": "1.5.0",
            "_view_name": "HBoxView",
            "box_style": "",
            "children": [
              "IPY_MODEL_c999dfe303384550b895e5269ab520c3",
              "IPY_MODEL_4299e81e9ba54c468d7d529a3e7147a9",
              "IPY_MODEL_29386a607b064d92b98d76c7a8a71731"
            ],
            "layout": "IPY_MODEL_2023751dd71844ed9c794df443026c19"
          }
        },
        "1467fd703a5342f39608ce1210837a47": {
          "model_module": "@jupyter-widgets/base",
          "model_module_version": "1.2.0",
          "model_name": "LayoutModel",
          "state": {
            "_model_module": "@jupyter-widgets/base",
            "_model_module_version": "1.2.0",
            "_model_name": "LayoutModel",
            "_view_count": null,
            "_view_module": "@jupyter-widgets/base",
            "_view_module_version": "1.2.0",
            "_view_name": "LayoutView",
            "align_content": null,
            "align_items": null,
            "align_self": null,
            "border": null,
            "bottom": null,
            "display": null,
            "flex": null,
            "flex_flow": null,
            "grid_area": null,
            "grid_auto_columns": null,
            "grid_auto_flow": null,
            "grid_auto_rows": null,
            "grid_column": null,
            "grid_gap": null,
            "grid_row": null,
            "grid_template_areas": null,
            "grid_template_columns": null,
            "grid_template_rows": null,
            "height": null,
            "justify_content": null,
            "justify_items": null,
            "left": null,
            "margin": null,
            "max_height": null,
            "max_width": null,
            "min_height": null,
            "min_width": null,
            "object_fit": null,
            "object_position": null,
            "order": null,
            "overflow": null,
            "overflow_x": null,
            "overflow_y": null,
            "padding": null,
            "right": null,
            "top": null,
            "visibility": null,
            "width": null
          }
        },
        "1a1c949172a14b6eaf8ca3336ebe087b": {
          "model_module": "@jupyter-widgets/controls",
          "model_module_version": "1.5.0",
          "model_name": "DescriptionStyleModel",
          "state": {
            "_model_module": "@jupyter-widgets/controls",
            "_model_module_version": "1.5.0",
            "_model_name": "DescriptionStyleModel",
            "_view_count": null,
            "_view_module": "@jupyter-widgets/base",
            "_view_module_version": "1.2.0",
            "_view_name": "StyleView",
            "description_width": ""
          }
        },
        "1d06b70b7ddb40729cc1f2c518d4bcfc": {
          "model_module": "@jupyter-widgets/controls",
          "model_module_version": "1.5.0",
          "model_name": "ProgressStyleModel",
          "state": {
            "_model_module": "@jupyter-widgets/controls",
            "_model_module_version": "1.5.0",
            "_model_name": "ProgressStyleModel",
            "_view_count": null,
            "_view_module": "@jupyter-widgets/base",
            "_view_module_version": "1.2.0",
            "_view_name": "StyleView",
            "bar_color": null,
            "description_width": ""
          }
        },
        "2023751dd71844ed9c794df443026c19": {
          "model_module": "@jupyter-widgets/base",
          "model_module_version": "1.2.0",
          "model_name": "LayoutModel",
          "state": {
            "_model_module": "@jupyter-widgets/base",
            "_model_module_version": "1.2.0",
            "_model_name": "LayoutModel",
            "_view_count": null,
            "_view_module": "@jupyter-widgets/base",
            "_view_module_version": "1.2.0",
            "_view_name": "LayoutView",
            "align_content": null,
            "align_items": null,
            "align_self": null,
            "border": null,
            "bottom": null,
            "display": null,
            "flex": null,
            "flex_flow": null,
            "grid_area": null,
            "grid_auto_columns": null,
            "grid_auto_flow": null,
            "grid_auto_rows": null,
            "grid_column": null,
            "grid_gap": null,
            "grid_row": null,
            "grid_template_areas": null,
            "grid_template_columns": null,
            "grid_template_rows": null,
            "height": null,
            "justify_content": null,
            "justify_items": null,
            "left": null,
            "margin": null,
            "max_height": null,
            "max_width": null,
            "min_height": null,
            "min_width": null,
            "object_fit": null,
            "object_position": null,
            "order": null,
            "overflow": null,
            "overflow_x": null,
            "overflow_y": null,
            "padding": null,
            "right": null,
            "top": null,
            "visibility": null,
            "width": null
          }
        },
        "20db210b3d3a493a8177184005549013": {
          "model_module": "@jupyter-widgets/base",
          "model_module_version": "1.2.0",
          "model_name": "LayoutModel",
          "state": {
            "_model_module": "@jupyter-widgets/base",
            "_model_module_version": "1.2.0",
            "_model_name": "LayoutModel",
            "_view_count": null,
            "_view_module": "@jupyter-widgets/base",
            "_view_module_version": "1.2.0",
            "_view_name": "LayoutView",
            "align_content": null,
            "align_items": null,
            "align_self": null,
            "border": null,
            "bottom": null,
            "display": null,
            "flex": null,
            "flex_flow": null,
            "grid_area": null,
            "grid_auto_columns": null,
            "grid_auto_flow": null,
            "grid_auto_rows": null,
            "grid_column": null,
            "grid_gap": null,
            "grid_row": null,
            "grid_template_areas": null,
            "grid_template_columns": null,
            "grid_template_rows": null,
            "height": null,
            "justify_content": null,
            "justify_items": null,
            "left": null,
            "margin": null,
            "max_height": null,
            "max_width": null,
            "min_height": null,
            "min_width": null,
            "object_fit": null,
            "object_position": null,
            "order": null,
            "overflow": null,
            "overflow_x": null,
            "overflow_y": null,
            "padding": null,
            "right": null,
            "top": null,
            "visibility": null,
            "width": null
          }
        },
        "2923cf16586c4464aae63c515953d216": {
          "model_module": "@jupyter-widgets/base",
          "model_module_version": "1.2.0",
          "model_name": "LayoutModel",
          "state": {
            "_model_module": "@jupyter-widgets/base",
            "_model_module_version": "1.2.0",
            "_model_name": "LayoutModel",
            "_view_count": null,
            "_view_module": "@jupyter-widgets/base",
            "_view_module_version": "1.2.0",
            "_view_name": "LayoutView",
            "align_content": null,
            "align_items": null,
            "align_self": null,
            "border": null,
            "bottom": null,
            "display": null,
            "flex": null,
            "flex_flow": null,
            "grid_area": null,
            "grid_auto_columns": null,
            "grid_auto_flow": null,
            "grid_auto_rows": null,
            "grid_column": null,
            "grid_gap": null,
            "grid_row": null,
            "grid_template_areas": null,
            "grid_template_columns": null,
            "grid_template_rows": null,
            "height": null,
            "justify_content": null,
            "justify_items": null,
            "left": null,
            "margin": null,
            "max_height": null,
            "max_width": null,
            "min_height": null,
            "min_width": null,
            "object_fit": null,
            "object_position": null,
            "order": null,
            "overflow": null,
            "overflow_x": null,
            "overflow_y": null,
            "padding": null,
            "right": null,
            "top": null,
            "visibility": null,
            "width": null
          }
        },
        "29386a607b064d92b98d76c7a8a71731": {
          "model_module": "@jupyter-widgets/controls",
          "model_module_version": "1.5.0",
          "model_name": "HTMLModel",
          "state": {
            "_dom_classes": [],
            "_model_module": "@jupyter-widgets/controls",
            "_model_module_version": "1.5.0",
            "_model_name": "HTMLModel",
            "_view_count": null,
            "_view_module": "@jupyter-widgets/controls",
            "_view_module_version": "1.5.0",
            "_view_name": "HTMLView",
            "description": "",
            "description_tooltip": null,
            "layout": "IPY_MODEL_8eebca895fd84154b6512a0724ce6729",
            "placeholder": "​",
            "style": "IPY_MODEL_00677e7b3f544744a2abe8f34e4235b7",
            "value": " 1.75G/1.75G [00:16&lt;00:00, 147MB/s]"
          }
        },
        "34204617803946c0bae050a6e847d705": {
          "model_module": "@jupyter-widgets/base",
          "model_module_version": "1.2.0",
          "model_name": "LayoutModel",
          "state": {
            "_model_module": "@jupyter-widgets/base",
            "_model_module_version": "1.2.0",
            "_model_name": "LayoutModel",
            "_view_count": null,
            "_view_module": "@jupyter-widgets/base",
            "_view_module_version": "1.2.0",
            "_view_name": "LayoutView",
            "align_content": null,
            "align_items": null,
            "align_self": null,
            "border": null,
            "bottom": null,
            "display": null,
            "flex": null,
            "flex_flow": null,
            "grid_area": null,
            "grid_auto_columns": null,
            "grid_auto_flow": null,
            "grid_auto_rows": null,
            "grid_column": null,
            "grid_gap": null,
            "grid_row": null,
            "grid_template_areas": null,
            "grid_template_columns": null,
            "grid_template_rows": null,
            "height": null,
            "justify_content": null,
            "justify_items": null,
            "left": null,
            "margin": null,
            "max_height": null,
            "max_width": null,
            "min_height": null,
            "min_width": null,
            "object_fit": null,
            "object_position": null,
            "order": null,
            "overflow": null,
            "overflow_x": null,
            "overflow_y": null,
            "padding": null,
            "right": null,
            "top": null,
            "visibility": null,
            "width": null
          }
        },
        "37e93c3a5a3e4d2abe749e9392ce42ba": {
          "model_module": "@jupyter-widgets/controls",
          "model_module_version": "1.5.0",
          "model_name": "HTMLModel",
          "state": {
            "_dom_classes": [],
            "_model_module": "@jupyter-widgets/controls",
            "_model_module_version": "1.5.0",
            "_model_name": "HTMLModel",
            "_view_count": null,
            "_view_module": "@jupyter-widgets/controls",
            "_view_module_version": "1.5.0",
            "_view_name": "HTMLView",
            "description": "",
            "description_tooltip": null,
            "layout": "IPY_MODEL_41d4b0e21cf5417db06ecf450be8f4f1",
            "placeholder": "​",
            "style": "IPY_MODEL_06f852e2221540ae912c536ba1202a92",
            "value": " 1.04M/1.04M [00:00&lt;00:00, 12.5MB/s]"
          }
        },
        "399fda49ae1e46409129f8045217af3f": {
          "model_module": "@jupyter-widgets/base",
          "model_module_version": "1.2.0",
          "model_name": "LayoutModel",
          "state": {
            "_model_module": "@jupyter-widgets/base",
            "_model_module_version": "1.2.0",
            "_model_name": "LayoutModel",
            "_view_count": null,
            "_view_module": "@jupyter-widgets/base",
            "_view_module_version": "1.2.0",
            "_view_name": "LayoutView",
            "align_content": null,
            "align_items": null,
            "align_self": null,
            "border": null,
            "bottom": null,
            "display": null,
            "flex": null,
            "flex_flow": null,
            "grid_area": null,
            "grid_auto_columns": null,
            "grid_auto_flow": null,
            "grid_auto_rows": null,
            "grid_column": null,
            "grid_gap": null,
            "grid_row": null,
            "grid_template_areas": null,
            "grid_template_columns": null,
            "grid_template_rows": null,
            "height": null,
            "justify_content": null,
            "justify_items": null,
            "left": null,
            "margin": null,
            "max_height": null,
            "max_width": null,
            "min_height": null,
            "min_width": null,
            "object_fit": null,
            "object_position": null,
            "order": null,
            "overflow": null,
            "overflow_x": null,
            "overflow_y": null,
            "padding": null,
            "right": null,
            "top": null,
            "visibility": null,
            "width": null
          }
        },
        "3e333c9bc8df4d02a1802dd9cc720a06": {
          "model_module": "@jupyter-widgets/controls",
          "model_module_version": "1.5.0",
          "model_name": "ProgressStyleModel",
          "state": {
            "_model_module": "@jupyter-widgets/controls",
            "_model_module_version": "1.5.0",
            "_model_name": "ProgressStyleModel",
            "_view_count": null,
            "_view_module": "@jupyter-widgets/base",
            "_view_module_version": "1.2.0",
            "_view_name": "StyleView",
            "bar_color": null,
            "description_width": ""
          }
        },
        "3f25747371d4436e8f4ba8efdc75ff38": {
          "model_module": "@jupyter-widgets/base",
          "model_module_version": "1.2.0",
          "model_name": "LayoutModel",
          "state": {
            "_model_module": "@jupyter-widgets/base",
            "_model_module_version": "1.2.0",
            "_model_name": "LayoutModel",
            "_view_count": null,
            "_view_module": "@jupyter-widgets/base",
            "_view_module_version": "1.2.0",
            "_view_name": "LayoutView",
            "align_content": null,
            "align_items": null,
            "align_self": null,
            "border": null,
            "bottom": null,
            "display": null,
            "flex": null,
            "flex_flow": null,
            "grid_area": null,
            "grid_auto_columns": null,
            "grid_auto_flow": null,
            "grid_auto_rows": null,
            "grid_column": null,
            "grid_gap": null,
            "grid_row": null,
            "grid_template_areas": null,
            "grid_template_columns": null,
            "grid_template_rows": null,
            "height": null,
            "justify_content": null,
            "justify_items": null,
            "left": null,
            "margin": null,
            "max_height": null,
            "max_width": null,
            "min_height": null,
            "min_width": null,
            "object_fit": null,
            "object_position": null,
            "order": null,
            "overflow": null,
            "overflow_x": null,
            "overflow_y": null,
            "padding": null,
            "right": null,
            "top": null,
            "visibility": null,
            "width": null
          }
        },
        "41d4b0e21cf5417db06ecf450be8f4f1": {
          "model_module": "@jupyter-widgets/base",
          "model_module_version": "1.2.0",
          "model_name": "LayoutModel",
          "state": {
            "_model_module": "@jupyter-widgets/base",
            "_model_module_version": "1.2.0",
            "_model_name": "LayoutModel",
            "_view_count": null,
            "_view_module": "@jupyter-widgets/base",
            "_view_module_version": "1.2.0",
            "_view_name": "LayoutView",
            "align_content": null,
            "align_items": null,
            "align_self": null,
            "border": null,
            "bottom": null,
            "display": null,
            "flex": null,
            "flex_flow": null,
            "grid_area": null,
            "grid_auto_columns": null,
            "grid_auto_flow": null,
            "grid_auto_rows": null,
            "grid_column": null,
            "grid_gap": null,
            "grid_row": null,
            "grid_template_areas": null,
            "grid_template_columns": null,
            "grid_template_rows": null,
            "height": null,
            "justify_content": null,
            "justify_items": null,
            "left": null,
            "margin": null,
            "max_height": null,
            "max_width": null,
            "min_height": null,
            "min_width": null,
            "object_fit": null,
            "object_position": null,
            "order": null,
            "overflow": null,
            "overflow_x": null,
            "overflow_y": null,
            "padding": null,
            "right": null,
            "top": null,
            "visibility": null,
            "width": null
          }
        },
        "420dffb237b14ff99d08b3e28c9cd59a": {
          "model_module": "@jupyter-widgets/base",
          "model_module_version": "1.2.0",
          "model_name": "LayoutModel",
          "state": {
            "_model_module": "@jupyter-widgets/base",
            "_model_module_version": "1.2.0",
            "_model_name": "LayoutModel",
            "_view_count": null,
            "_view_module": "@jupyter-widgets/base",
            "_view_module_version": "1.2.0",
            "_view_name": "LayoutView",
            "align_content": null,
            "align_items": null,
            "align_self": null,
            "border": null,
            "bottom": null,
            "display": null,
            "flex": null,
            "flex_flow": null,
            "grid_area": null,
            "grid_auto_columns": null,
            "grid_auto_flow": null,
            "grid_auto_rows": null,
            "grid_column": null,
            "grid_gap": null,
            "grid_row": null,
            "grid_template_areas": null,
            "grid_template_columns": null,
            "grid_template_rows": null,
            "height": null,
            "justify_content": null,
            "justify_items": null,
            "left": null,
            "margin": null,
            "max_height": null,
            "max_width": null,
            "min_height": null,
            "min_width": null,
            "object_fit": null,
            "object_position": null,
            "order": null,
            "overflow": null,
            "overflow_x": null,
            "overflow_y": null,
            "padding": null,
            "right": null,
            "top": null,
            "visibility": null,
            "width": null
          }
        },
        "4299e81e9ba54c468d7d529a3e7147a9": {
          "model_module": "@jupyter-widgets/controls",
          "model_module_version": "1.5.0",
          "model_name": "FloatProgressModel",
          "state": {
            "_dom_classes": [],
            "_model_module": "@jupyter-widgets/controls",
            "_model_module_version": "1.5.0",
            "_model_name": "FloatProgressModel",
            "_view_count": null,
            "_view_module": "@jupyter-widgets/controls",
            "_view_module_version": "1.5.0",
            "_view_name": "ProgressView",
            "bar_style": "success",
            "description": "",
            "description_tooltip": null,
            "layout": "IPY_MODEL_54c89e722ea149229bb72012b4a2de90",
            "max": 1752292117,
            "min": 0,
            "orientation": "horizontal",
            "style": "IPY_MODEL_0a8c53a68ad5471d9762c3386a50bd14",
            "value": 1752292117
          }
        },
        "43d04bbb74164c45b4d72234b08ce10d": {
          "model_module": "@jupyter-widgets/controls",
          "model_module_version": "1.5.0",
          "model_name": "HTMLModel",
          "state": {
            "_dom_classes": [],
            "_model_module": "@jupyter-widgets/controls",
            "_model_module_version": "1.5.0",
            "_model_name": "HTMLModel",
            "_view_count": null,
            "_view_module": "@jupyter-widgets/controls",
            "_view_module_version": "1.5.0",
            "_view_name": "HTMLView",
            "description": "",
            "description_tooltip": null,
            "layout": "IPY_MODEL_399fda49ae1e46409129f8045217af3f",
            "placeholder": "​",
            "style": "IPY_MODEL_9923f54daf384ba58855dd5db09ccd6b",
            "value": " 26.0/26.0 [00:00&lt;00:00, 1.45kB/s]"
          }
        },
        "44686a8ef22e4d108d782a3fe8e202b5": {
          "model_module": "@jupyter-widgets/controls",
          "model_module_version": "1.5.0",
          "model_name": "DescriptionStyleModel",
          "state": {
            "_model_module": "@jupyter-widgets/controls",
            "_model_module_version": "1.5.0",
            "_model_name": "DescriptionStyleModel",
            "_view_count": null,
            "_view_module": "@jupyter-widgets/base",
            "_view_module_version": "1.2.0",
            "_view_name": "StyleView",
            "description_width": ""
          }
        },
        "45f6c34385b64ef0a1bb3fa26a7f9e66": {
          "model_module": "@jupyter-widgets/controls",
          "model_module_version": "1.5.0",
          "model_name": "DescriptionStyleModel",
          "state": {
            "_model_module": "@jupyter-widgets/controls",
            "_model_module_version": "1.5.0",
            "_model_name": "DescriptionStyleModel",
            "_view_count": null,
            "_view_module": "@jupyter-widgets/base",
            "_view_module_version": "1.2.0",
            "_view_name": "StyleView",
            "description_width": ""
          }
        },
        "46da48c9a7954f26a4d9551741708bfa": {
          "model_module": "@jupyter-widgets/base",
          "model_module_version": "1.2.0",
          "model_name": "LayoutModel",
          "state": {
            "_model_module": "@jupyter-widgets/base",
            "_model_module_version": "1.2.0",
            "_model_name": "LayoutModel",
            "_view_count": null,
            "_view_module": "@jupyter-widgets/base",
            "_view_module_version": "1.2.0",
            "_view_name": "LayoutView",
            "align_content": null,
            "align_items": null,
            "align_self": null,
            "border": null,
            "bottom": null,
            "display": null,
            "flex": null,
            "flex_flow": null,
            "grid_area": null,
            "grid_auto_columns": null,
            "grid_auto_flow": null,
            "grid_auto_rows": null,
            "grid_column": null,
            "grid_gap": null,
            "grid_row": null,
            "grid_template_areas": null,
            "grid_template_columns": null,
            "grid_template_rows": null,
            "height": null,
            "justify_content": null,
            "justify_items": null,
            "left": null,
            "margin": null,
            "max_height": null,
            "max_width": null,
            "min_height": null,
            "min_width": null,
            "object_fit": null,
            "object_position": null,
            "order": null,
            "overflow": null,
            "overflow_x": null,
            "overflow_y": null,
            "padding": null,
            "right": null,
            "top": null,
            "visibility": null,
            "width": null
          }
        },
        "4d439e2629764940baf2d5a9e1d6e80c": {
          "model_module": "@jupyter-widgets/controls",
          "model_module_version": "1.5.0",
          "model_name": "DescriptionStyleModel",
          "state": {
            "_model_module": "@jupyter-widgets/controls",
            "_model_module_version": "1.5.0",
            "_model_name": "DescriptionStyleModel",
            "_view_count": null,
            "_view_module": "@jupyter-widgets/base",
            "_view_module_version": "1.2.0",
            "_view_name": "StyleView",
            "description_width": ""
          }
        },
        "4dd5ab0cb9cc44bd9fec28f6f90d53ac": {
          "model_module": "@jupyter-widgets/base",
          "model_module_version": "1.2.0",
          "model_name": "LayoutModel",
          "state": {
            "_model_module": "@jupyter-widgets/base",
            "_model_module_version": "1.2.0",
            "_model_name": "LayoutModel",
            "_view_count": null,
            "_view_module": "@jupyter-widgets/base",
            "_view_module_version": "1.2.0",
            "_view_name": "LayoutView",
            "align_content": null,
            "align_items": null,
            "align_self": null,
            "border": null,
            "bottom": null,
            "display": null,
            "flex": null,
            "flex_flow": null,
            "grid_area": null,
            "grid_auto_columns": null,
            "grid_auto_flow": null,
            "grid_auto_rows": null,
            "grid_column": null,
            "grid_gap": null,
            "grid_row": null,
            "grid_template_areas": null,
            "grid_template_columns": null,
            "grid_template_rows": null,
            "height": null,
            "justify_content": null,
            "justify_items": null,
            "left": null,
            "margin": null,
            "max_height": null,
            "max_width": null,
            "min_height": null,
            "min_width": null,
            "object_fit": null,
            "object_position": null,
            "order": null,
            "overflow": null,
            "overflow_x": null,
            "overflow_y": null,
            "padding": null,
            "right": null,
            "top": null,
            "visibility": null,
            "width": null
          }
        },
        "4eab81ca8896466d88f0a598b430ab8f": {
          "model_module": "@jupyter-widgets/controls",
          "model_module_version": "1.5.0",
          "model_name": "DescriptionStyleModel",
          "state": {
            "_model_module": "@jupyter-widgets/controls",
            "_model_module_version": "1.5.0",
            "_model_name": "DescriptionStyleModel",
            "_view_count": null,
            "_view_module": "@jupyter-widgets/base",
            "_view_module_version": "1.2.0",
            "_view_name": "StyleView",
            "description_width": ""
          }
        },
        "52068fb96d8a417b8d1eceeffd2ec3b4": {
          "model_module": "@jupyter-widgets/controls",
          "model_module_version": "1.5.0",
          "model_name": "HBoxModel",
          "state": {
            "_dom_classes": [],
            "_model_module": "@jupyter-widgets/controls",
            "_model_module_version": "1.5.0",
            "_model_name": "HBoxModel",
            "_view_count": null,
            "_view_module": "@jupyter-widgets/controls",
            "_view_module_version": "1.5.0",
            "_view_name": "HBoxView",
            "box_style": "",
            "children": [
              "IPY_MODEL_8c1af366ef0e4a688c369ebff9441ec5",
              "IPY_MODEL_b1804b08504d4bc19f4d743aae0e22c4",
              "IPY_MODEL_43d04bbb74164c45b4d72234b08ce10d"
            ],
            "layout": "IPY_MODEL_34204617803946c0bae050a6e847d705"
          }
        },
        "54c89e722ea149229bb72012b4a2de90": {
          "model_module": "@jupyter-widgets/base",
          "model_module_version": "1.2.0",
          "model_name": "LayoutModel",
          "state": {
            "_model_module": "@jupyter-widgets/base",
            "_model_module_version": "1.2.0",
            "_model_name": "LayoutModel",
            "_view_count": null,
            "_view_module": "@jupyter-widgets/base",
            "_view_module_version": "1.2.0",
            "_view_name": "LayoutView",
            "align_content": null,
            "align_items": null,
            "align_self": null,
            "border": null,
            "bottom": null,
            "display": null,
            "flex": null,
            "flex_flow": null,
            "grid_area": null,
            "grid_auto_columns": null,
            "grid_auto_flow": null,
            "grid_auto_rows": null,
            "grid_column": null,
            "grid_gap": null,
            "grid_row": null,
            "grid_template_areas": null,
            "grid_template_columns": null,
            "grid_template_rows": null,
            "height": null,
            "justify_content": null,
            "justify_items": null,
            "left": null,
            "margin": null,
            "max_height": null,
            "max_width": null,
            "min_height": null,
            "min_width": null,
            "object_fit": null,
            "object_position": null,
            "order": null,
            "overflow": null,
            "overflow_x": null,
            "overflow_y": null,
            "padding": null,
            "right": null,
            "top": null,
            "visibility": null,
            "width": null
          }
        },
        "5b46959b420e4d3eb4fd64ea73cd4f98": {
          "model_module": "@jupyter-widgets/controls",
          "model_module_version": "1.5.0",
          "model_name": "HBoxModel",
          "state": {
            "_dom_classes": [],
            "_model_module": "@jupyter-widgets/controls",
            "_model_module_version": "1.5.0",
            "_model_name": "HBoxModel",
            "_view_count": null,
            "_view_module": "@jupyter-widgets/controls",
            "_view_module_version": "1.5.0",
            "_view_name": "HBoxView",
            "box_style": "",
            "children": [
              "IPY_MODEL_c6e13c06ce8a42a2858fb81dc8cd065f",
              "IPY_MODEL_885896fb24d04d0cbc989d936b237a2b",
              "IPY_MODEL_b2efbd53357c47778470dbd3ba3b5ad6"
            ],
            "layout": "IPY_MODEL_2923cf16586c4464aae63c515953d216"
          }
        },
        "7054531026e24e858ac586c39c3ee6d1": {
          "model_module": "@jupyter-widgets/controls",
          "model_module_version": "1.5.0",
          "model_name": "HBoxModel",
          "state": {
            "_dom_classes": [],
            "_model_module": "@jupyter-widgets/controls",
            "_model_module_version": "1.5.0",
            "_model_name": "HBoxModel",
            "_view_count": null,
            "_view_module": "@jupyter-widgets/controls",
            "_view_module_version": "1.5.0",
            "_view_name": "HBoxView",
            "box_style": "",
            "children": [
              "IPY_MODEL_e1f00c622fdf4863a08da01068b2c516",
              "IPY_MODEL_d3aa2fed60f144a4bf18adcdbec31482",
              "IPY_MODEL_9c4b5ecbfa544194a102d97dbde92af1"
            ],
            "layout": "IPY_MODEL_f6db5d49e31344789cc29654273baed0"
          }
        },
        "7a9b3f616513409284ff1131419d9a54": {
          "model_module": "@jupyter-widgets/controls",
          "model_module_version": "1.5.0",
          "model_name": "HBoxModel",
          "state": {
            "_dom_classes": [],
            "_model_module": "@jupyter-widgets/controls",
            "_model_module_version": "1.5.0",
            "_model_name": "HBoxModel",
            "_view_count": null,
            "_view_module": "@jupyter-widgets/controls",
            "_view_module_version": "1.5.0",
            "_view_name": "HBoxView",
            "box_style": "",
            "children": [
              "IPY_MODEL_80c2835b986d47069b631941645e9116",
              "IPY_MODEL_0379781f1ab04b4ab9c8d85885647e7f",
              "IPY_MODEL_37e93c3a5a3e4d2abe749e9392ce42ba"
            ],
            "layout": "IPY_MODEL_46da48c9a7954f26a4d9551741708bfa"
          }
        },
        "80c2835b986d47069b631941645e9116": {
          "model_module": "@jupyter-widgets/controls",
          "model_module_version": "1.5.0",
          "model_name": "HTMLModel",
          "state": {
            "_dom_classes": [],
            "_model_module": "@jupyter-widgets/controls",
            "_model_module_version": "1.5.0",
            "_model_name": "HTMLModel",
            "_view_count": null,
            "_view_module": "@jupyter-widgets/controls",
            "_view_module_version": "1.5.0",
            "_view_name": "HTMLView",
            "description": "",
            "description_tooltip": null,
            "layout": "IPY_MODEL_c652b58d723e4827ae76fef94a5a427f",
            "placeholder": "​",
            "style": "IPY_MODEL_4eab81ca8896466d88f0a598b430ab8f",
            "value": "Downloading (…)olve/main/vocab.json: 100%"
          }
        },
        "885896fb24d04d0cbc989d936b237a2b": {
          "model_module": "@jupyter-widgets/controls",
          "model_module_version": "1.5.0",
          "model_name": "FloatProgressModel",
          "state": {
            "_dom_classes": [],
            "_model_module": "@jupyter-widgets/controls",
            "_model_module_version": "1.5.0",
            "_model_name": "FloatProgressModel",
            "_view_count": null,
            "_view_module": "@jupyter-widgets/controls",
            "_view_module_version": "1.5.0",
            "_view_name": "ProgressView",
            "bar_style": "success",
            "description": "",
            "description_tooltip": null,
            "layout": "IPY_MODEL_4dd5ab0cb9cc44bd9fec28f6f90d53ac",
            "max": 456318,
            "min": 0,
            "orientation": "horizontal",
            "style": "IPY_MODEL_97096fd92d714afc9342dcbd4cf9208d",
            "value": 456318
          }
        },
        "8c17d77ab11a4cd6943d075dcd382a43": {
          "model_module": "@jupyter-widgets/controls",
          "model_module_version": "1.5.0",
          "model_name": "DescriptionStyleModel",
          "state": {
            "_model_module": "@jupyter-widgets/controls",
            "_model_module_version": "1.5.0",
            "_model_name": "DescriptionStyleModel",
            "_view_count": null,
            "_view_module": "@jupyter-widgets/base",
            "_view_module_version": "1.2.0",
            "_view_name": "StyleView",
            "description_width": ""
          }
        },
        "8c1af366ef0e4a688c369ebff9441ec5": {
          "model_module": "@jupyter-widgets/controls",
          "model_module_version": "1.5.0",
          "model_name": "HTMLModel",
          "state": {
            "_dom_classes": [],
            "_model_module": "@jupyter-widgets/controls",
            "_model_module_version": "1.5.0",
            "_model_name": "HTMLModel",
            "_view_count": null,
            "_view_module": "@jupyter-widgets/controls",
            "_view_module_version": "1.5.0",
            "_view_name": "HTMLView",
            "description": "",
            "description_tooltip": null,
            "layout": "IPY_MODEL_1467fd703a5342f39608ce1210837a47",
            "placeholder": "​",
            "style": "IPY_MODEL_b7da9d64b15f4bb898b43e53746f032a",
            "value": "Downloading (…)okenizer_config.json: 100%"
          }
        },
        "8eebca895fd84154b6512a0724ce6729": {
          "model_module": "@jupyter-widgets/base",
          "model_module_version": "1.2.0",
          "model_name": "LayoutModel",
          "state": {
            "_model_module": "@jupyter-widgets/base",
            "_model_module_version": "1.2.0",
            "_model_name": "LayoutModel",
            "_view_count": null,
            "_view_module": "@jupyter-widgets/base",
            "_view_module_version": "1.2.0",
            "_view_name": "LayoutView",
            "align_content": null,
            "align_items": null,
            "align_self": null,
            "border": null,
            "bottom": null,
            "display": null,
            "flex": null,
            "flex_flow": null,
            "grid_area": null,
            "grid_auto_columns": null,
            "grid_auto_flow": null,
            "grid_auto_rows": null,
            "grid_column": null,
            "grid_gap": null,
            "grid_row": null,
            "grid_template_areas": null,
            "grid_template_columns": null,
            "grid_template_rows": null,
            "height": null,
            "justify_content": null,
            "justify_items": null,
            "left": null,
            "margin": null,
            "max_height": null,
            "max_width": null,
            "min_height": null,
            "min_width": null,
            "object_fit": null,
            "object_position": null,
            "order": null,
            "overflow": null,
            "overflow_x": null,
            "overflow_y": null,
            "padding": null,
            "right": null,
            "top": null,
            "visibility": null,
            "width": null
          }
        },
        "8f407e0f88f54cc5924d27f9b3a29a36": {
          "model_module": "@jupyter-widgets/base",
          "model_module_version": "1.2.0",
          "model_name": "LayoutModel",
          "state": {
            "_model_module": "@jupyter-widgets/base",
            "_model_module_version": "1.2.0",
            "_model_name": "LayoutModel",
            "_view_count": null,
            "_view_module": "@jupyter-widgets/base",
            "_view_module_version": "1.2.0",
            "_view_name": "LayoutView",
            "align_content": null,
            "align_items": null,
            "align_self": null,
            "border": null,
            "bottom": null,
            "display": null,
            "flex": null,
            "flex_flow": null,
            "grid_area": null,
            "grid_auto_columns": null,
            "grid_auto_flow": null,
            "grid_auto_rows": null,
            "grid_column": null,
            "grid_gap": null,
            "grid_row": null,
            "grid_template_areas": null,
            "grid_template_columns": null,
            "grid_template_rows": null,
            "height": null,
            "justify_content": null,
            "justify_items": null,
            "left": null,
            "margin": null,
            "max_height": null,
            "max_width": null,
            "min_height": null,
            "min_width": null,
            "object_fit": null,
            "object_position": null,
            "order": null,
            "overflow": null,
            "overflow_x": null,
            "overflow_y": null,
            "padding": null,
            "right": null,
            "top": null,
            "visibility": null,
            "width": null
          }
        },
        "932de45e3ba7457b9de704da6d4e3f88": {
          "model_module": "@jupyter-widgets/base",
          "model_module_version": "1.2.0",
          "model_name": "LayoutModel",
          "state": {
            "_model_module": "@jupyter-widgets/base",
            "_model_module_version": "1.2.0",
            "_model_name": "LayoutModel",
            "_view_count": null,
            "_view_module": "@jupyter-widgets/base",
            "_view_module_version": "1.2.0",
            "_view_name": "LayoutView",
            "align_content": null,
            "align_items": null,
            "align_self": null,
            "border": null,
            "bottom": null,
            "display": null,
            "flex": null,
            "flex_flow": null,
            "grid_area": null,
            "grid_auto_columns": null,
            "grid_auto_flow": null,
            "grid_auto_rows": null,
            "grid_column": null,
            "grid_gap": null,
            "grid_row": null,
            "grid_template_areas": null,
            "grid_template_columns": null,
            "grid_template_rows": null,
            "height": null,
            "justify_content": null,
            "justify_items": null,
            "left": null,
            "margin": null,
            "max_height": null,
            "max_width": null,
            "min_height": null,
            "min_width": null,
            "object_fit": null,
            "object_position": null,
            "order": null,
            "overflow": null,
            "overflow_x": null,
            "overflow_y": null,
            "padding": null,
            "right": null,
            "top": null,
            "visibility": null,
            "width": null
          }
        },
        "96ad727957bb4e849756199021ce315d": {
          "model_module": "@jupyter-widgets/controls",
          "model_module_version": "1.5.0",
          "model_name": "ProgressStyleModel",
          "state": {
            "_model_module": "@jupyter-widgets/controls",
            "_model_module_version": "1.5.0",
            "_model_name": "ProgressStyleModel",
            "_view_count": null,
            "_view_module": "@jupyter-widgets/base",
            "_view_module_version": "1.2.0",
            "_view_name": "StyleView",
            "bar_color": null,
            "description_width": ""
          }
        },
        "97096fd92d714afc9342dcbd4cf9208d": {
          "model_module": "@jupyter-widgets/controls",
          "model_module_version": "1.5.0",
          "model_name": "ProgressStyleModel",
          "state": {
            "_model_module": "@jupyter-widgets/controls",
            "_model_module_version": "1.5.0",
            "_model_name": "ProgressStyleModel",
            "_view_count": null,
            "_view_module": "@jupyter-widgets/base",
            "_view_module_version": "1.2.0",
            "_view_name": "StyleView",
            "bar_color": null,
            "description_width": ""
          }
        },
        "9923f54daf384ba58855dd5db09ccd6b": {
          "model_module": "@jupyter-widgets/controls",
          "model_module_version": "1.5.0",
          "model_name": "DescriptionStyleModel",
          "state": {
            "_model_module": "@jupyter-widgets/controls",
            "_model_module_version": "1.5.0",
            "_model_name": "DescriptionStyleModel",
            "_view_count": null,
            "_view_module": "@jupyter-widgets/base",
            "_view_module_version": "1.2.0",
            "_view_name": "StyleView",
            "description_width": ""
          }
        },
        "99fe2f1ed7224698b5adb025840ad278": {
          "model_module": "@jupyter-widgets/base",
          "model_module_version": "1.2.0",
          "model_name": "LayoutModel",
          "state": {
            "_model_module": "@jupyter-widgets/base",
            "_model_module_version": "1.2.0",
            "_model_name": "LayoutModel",
            "_view_count": null,
            "_view_module": "@jupyter-widgets/base",
            "_view_module_version": "1.2.0",
            "_view_name": "LayoutView",
            "align_content": null,
            "align_items": null,
            "align_self": null,
            "border": null,
            "bottom": null,
            "display": null,
            "flex": null,
            "flex_flow": null,
            "grid_area": null,
            "grid_auto_columns": null,
            "grid_auto_flow": null,
            "grid_auto_rows": null,
            "grid_column": null,
            "grid_gap": null,
            "grid_row": null,
            "grid_template_areas": null,
            "grid_template_columns": null,
            "grid_template_rows": null,
            "height": null,
            "justify_content": null,
            "justify_items": null,
            "left": null,
            "margin": null,
            "max_height": null,
            "max_width": null,
            "min_height": null,
            "min_width": null,
            "object_fit": null,
            "object_position": null,
            "order": null,
            "overflow": null,
            "overflow_x": null,
            "overflow_y": null,
            "padding": null,
            "right": null,
            "top": null,
            "visibility": null,
            "width": null
          }
        },
        "9c4b5ecbfa544194a102d97dbde92af1": {
          "model_module": "@jupyter-widgets/controls",
          "model_module_version": "1.5.0",
          "model_name": "HTMLModel",
          "state": {
            "_dom_classes": [],
            "_model_module": "@jupyter-widgets/controls",
            "_model_module_version": "1.5.0",
            "_model_name": "HTMLModel",
            "_view_count": null,
            "_view_module": "@jupyter-widgets/controls",
            "_view_module_version": "1.5.0",
            "_view_name": "HTMLView",
            "description": "",
            "description_tooltip": null,
            "layout": "IPY_MODEL_d0581dd0765344019a6876444285a694",
            "placeholder": "​",
            "style": "IPY_MODEL_1a1c949172a14b6eaf8ca3336ebe087b",
            "value": " 124/124 [00:00&lt;00:00, 7.40kB/s]"
          }
        },
        "a6587cb66a474e91b9c8adbbf7914971": {
          "model_module": "@jupyter-widgets/base",
          "model_module_version": "1.2.0",
          "model_name": "LayoutModel",
          "state": {
            "_model_module": "@jupyter-widgets/base",
            "_model_module_version": "1.2.0",
            "_model_name": "LayoutModel",
            "_view_count": null,
            "_view_module": "@jupyter-widgets/base",
            "_view_module_version": "1.2.0",
            "_view_name": "LayoutView",
            "align_content": null,
            "align_items": null,
            "align_self": null,
            "border": null,
            "bottom": null,
            "display": null,
            "flex": null,
            "flex_flow": null,
            "grid_area": null,
            "grid_auto_columns": null,
            "grid_auto_flow": null,
            "grid_auto_rows": null,
            "grid_column": null,
            "grid_gap": null,
            "grid_row": null,
            "grid_template_areas": null,
            "grid_template_columns": null,
            "grid_template_rows": null,
            "height": null,
            "justify_content": null,
            "justify_items": null,
            "left": null,
            "margin": null,
            "max_height": null,
            "max_width": null,
            "min_height": null,
            "min_width": null,
            "object_fit": null,
            "object_position": null,
            "order": null,
            "overflow": null,
            "overflow_x": null,
            "overflow_y": null,
            "padding": null,
            "right": null,
            "top": null,
            "visibility": null,
            "width": null
          }
        },
        "b1804b08504d4bc19f4d743aae0e22c4": {
          "model_module": "@jupyter-widgets/controls",
          "model_module_version": "1.5.0",
          "model_name": "FloatProgressModel",
          "state": {
            "_dom_classes": [],
            "_model_module": "@jupyter-widgets/controls",
            "_model_module_version": "1.5.0",
            "_model_name": "FloatProgressModel",
            "_view_count": null,
            "_view_module": "@jupyter-widgets/controls",
            "_view_module_version": "1.5.0",
            "_view_name": "ProgressView",
            "bar_style": "success",
            "description": "",
            "description_tooltip": null,
            "layout": "IPY_MODEL_8f407e0f88f54cc5924d27f9b3a29a36",
            "max": 26,
            "min": 0,
            "orientation": "horizontal",
            "style": "IPY_MODEL_96ad727957bb4e849756199021ce315d",
            "value": 26
          }
        },
        "b281d465a21d4ecf9398457c80cd304b": {
          "model_module": "@jupyter-widgets/controls",
          "model_module_version": "1.5.0",
          "model_name": "HTMLModel",
          "state": {
            "_dom_classes": [],
            "_model_module": "@jupyter-widgets/controls",
            "_model_module_version": "1.5.0",
            "_model_name": "HTMLModel",
            "_view_count": null,
            "_view_module": "@jupyter-widgets/controls",
            "_view_module_version": "1.5.0",
            "_view_name": "HTMLView",
            "description": "",
            "description_tooltip": null,
            "layout": "IPY_MODEL_20db210b3d3a493a8177184005549013",
            "placeholder": "​",
            "style": "IPY_MODEL_44686a8ef22e4d108d782a3fe8e202b5",
            "value": " 642/642 [00:00&lt;00:00, 43.7kB/s]"
          }
        },
        "b2efbd53357c47778470dbd3ba3b5ad6": {
          "model_module": "@jupyter-widgets/controls",
          "model_module_version": "1.5.0",
          "model_name": "HTMLModel",
          "state": {
            "_dom_classes": [],
            "_model_module": "@jupyter-widgets/controls",
            "_model_module_version": "1.5.0",
            "_model_name": "HTMLModel",
            "_view_count": null,
            "_view_module": "@jupyter-widgets/controls",
            "_view_module_version": "1.5.0",
            "_view_name": "HTMLView",
            "description": "",
            "description_tooltip": null,
            "layout": "IPY_MODEL_f021c93781d14bd5918b67f9e41b325c",
            "placeholder": "​",
            "style": "IPY_MODEL_b78375be0ade4723a4e206670f7d4c68",
            "value": " 456k/456k [00:00&lt;00:00, 9.60MB/s]"
          }
        },
        "b78375be0ade4723a4e206670f7d4c68": {
          "model_module": "@jupyter-widgets/controls",
          "model_module_version": "1.5.0",
          "model_name": "DescriptionStyleModel",
          "state": {
            "_model_module": "@jupyter-widgets/controls",
            "_model_module_version": "1.5.0",
            "_model_name": "DescriptionStyleModel",
            "_view_count": null,
            "_view_module": "@jupyter-widgets/base",
            "_view_module_version": "1.2.0",
            "_view_name": "StyleView",
            "description_width": ""
          }
        },
        "b7da9d64b15f4bb898b43e53746f032a": {
          "model_module": "@jupyter-widgets/controls",
          "model_module_version": "1.5.0",
          "model_name": "DescriptionStyleModel",
          "state": {
            "_model_module": "@jupyter-widgets/controls",
            "_model_module_version": "1.5.0",
            "_model_name": "DescriptionStyleModel",
            "_view_count": null,
            "_view_module": "@jupyter-widgets/base",
            "_view_module_version": "1.2.0",
            "_view_name": "StyleView",
            "description_width": ""
          }
        },
        "bea28baf8fdd450a98b2ed33b161ba36": {
          "model_module": "@jupyter-widgets/base",
          "model_module_version": "1.2.0",
          "model_name": "LayoutModel",
          "state": {
            "_model_module": "@jupyter-widgets/base",
            "_model_module_version": "1.2.0",
            "_model_name": "LayoutModel",
            "_view_count": null,
            "_view_module": "@jupyter-widgets/base",
            "_view_module_version": "1.2.0",
            "_view_name": "LayoutView",
            "align_content": null,
            "align_items": null,
            "align_self": null,
            "border": null,
            "bottom": null,
            "display": null,
            "flex": null,
            "flex_flow": null,
            "grid_area": null,
            "grid_auto_columns": null,
            "grid_auto_flow": null,
            "grid_auto_rows": null,
            "grid_column": null,
            "grid_gap": null,
            "grid_row": null,
            "grid_template_areas": null,
            "grid_template_columns": null,
            "grid_template_rows": null,
            "height": null,
            "justify_content": null,
            "justify_items": null,
            "left": null,
            "margin": null,
            "max_height": null,
            "max_width": null,
            "min_height": null,
            "min_width": null,
            "object_fit": null,
            "object_position": null,
            "order": null,
            "overflow": null,
            "overflow_x": null,
            "overflow_y": null,
            "padding": null,
            "right": null,
            "top": null,
            "visibility": null,
            "width": null
          }
        },
        "bed723128cae43bb9ffb01f6a834fce5": {
          "model_module": "@jupyter-widgets/controls",
          "model_module_version": "1.5.0",
          "model_name": "ProgressStyleModel",
          "state": {
            "_model_module": "@jupyter-widgets/controls",
            "_model_module_version": "1.5.0",
            "_model_name": "ProgressStyleModel",
            "_view_count": null,
            "_view_module": "@jupyter-widgets/base",
            "_view_module_version": "1.2.0",
            "_view_name": "StyleView",
            "bar_color": null,
            "description_width": ""
          }
        },
        "c652b58d723e4827ae76fef94a5a427f": {
          "model_module": "@jupyter-widgets/base",
          "model_module_version": "1.2.0",
          "model_name": "LayoutModel",
          "state": {
            "_model_module": "@jupyter-widgets/base",
            "_model_module_version": "1.2.0",
            "_model_name": "LayoutModel",
            "_view_count": null,
            "_view_module": "@jupyter-widgets/base",
            "_view_module_version": "1.2.0",
            "_view_name": "LayoutView",
            "align_content": null,
            "align_items": null,
            "align_self": null,
            "border": null,
            "bottom": null,
            "display": null,
            "flex": null,
            "flex_flow": null,
            "grid_area": null,
            "grid_auto_columns": null,
            "grid_auto_flow": null,
            "grid_auto_rows": null,
            "grid_column": null,
            "grid_gap": null,
            "grid_row": null,
            "grid_template_areas": null,
            "grid_template_columns": null,
            "grid_template_rows": null,
            "height": null,
            "justify_content": null,
            "justify_items": null,
            "left": null,
            "margin": null,
            "max_height": null,
            "max_width": null,
            "min_height": null,
            "min_width": null,
            "object_fit": null,
            "object_position": null,
            "order": null,
            "overflow": null,
            "overflow_x": null,
            "overflow_y": null,
            "padding": null,
            "right": null,
            "top": null,
            "visibility": null,
            "width": null
          }
        },
        "c6bef9ccb718431a880b8337aca273a8": {
          "model_module": "@jupyter-widgets/controls",
          "model_module_version": "1.5.0",
          "model_name": "HTMLModel",
          "state": {
            "_dom_classes": [],
            "_model_module": "@jupyter-widgets/controls",
            "_model_module_version": "1.5.0",
            "_model_name": "HTMLModel",
            "_view_count": null,
            "_view_module": "@jupyter-widgets/controls",
            "_view_module_version": "1.5.0",
            "_view_name": "HTMLView",
            "description": "",
            "description_tooltip": null,
            "layout": "IPY_MODEL_a6587cb66a474e91b9c8adbbf7914971",
            "placeholder": "​",
            "style": "IPY_MODEL_4d439e2629764940baf2d5a9e1d6e80c",
            "value": "Downloading (…)lve/main/config.json: 100%"
          }
        },
        "c6e13c06ce8a42a2858fb81dc8cd065f": {
          "model_module": "@jupyter-widgets/controls",
          "model_module_version": "1.5.0",
          "model_name": "HTMLModel",
          "state": {
            "_dom_classes": [],
            "_model_module": "@jupyter-widgets/controls",
            "_model_module_version": "1.5.0",
            "_model_name": "HTMLModel",
            "_view_count": null,
            "_view_module": "@jupyter-widgets/controls",
            "_view_module_version": "1.5.0",
            "_view_name": "HTMLView",
            "description": "",
            "description_tooltip": null,
            "layout": "IPY_MODEL_932de45e3ba7457b9de704da6d4e3f88",
            "placeholder": "​",
            "style": "IPY_MODEL_8c17d77ab11a4cd6943d075dcd382a43",
            "value": "Downloading (…)olve/main/merges.txt: 100%"
          }
        },
        "c999dfe303384550b895e5269ab520c3": {
          "model_module": "@jupyter-widgets/controls",
          "model_module_version": "1.5.0",
          "model_name": "HTMLModel",
          "state": {
            "_dom_classes": [],
            "_model_module": "@jupyter-widgets/controls",
            "_model_module_version": "1.5.0",
            "_model_name": "HTMLModel",
            "_view_count": null,
            "_view_module": "@jupyter-widgets/controls",
            "_view_module_version": "1.5.0",
            "_view_name": "HTMLView",
            "description": "",
            "description_tooltip": null,
            "layout": "IPY_MODEL_99fe2f1ed7224698b5adb025840ad278",
            "placeholder": "​",
            "style": "IPY_MODEL_45f6c34385b64ef0a1bb3fa26a7f9e66",
            "value": "Downloading pytorch_model.bin: 100%"
          }
        },
        "d0581dd0765344019a6876444285a694": {
          "model_module": "@jupyter-widgets/base",
          "model_module_version": "1.2.0",
          "model_name": "LayoutModel",
          "state": {
            "_model_module": "@jupyter-widgets/base",
            "_model_module_version": "1.2.0",
            "_model_name": "LayoutModel",
            "_view_count": null,
            "_view_module": "@jupyter-widgets/base",
            "_view_module_version": "1.2.0",
            "_view_name": "LayoutView",
            "align_content": null,
            "align_items": null,
            "align_self": null,
            "border": null,
            "bottom": null,
            "display": null,
            "flex": null,
            "flex_flow": null,
            "grid_area": null,
            "grid_auto_columns": null,
            "grid_auto_flow": null,
            "grid_auto_rows": null,
            "grid_column": null,
            "grid_gap": null,
            "grid_row": null,
            "grid_template_areas": null,
            "grid_template_columns": null,
            "grid_template_rows": null,
            "height": null,
            "justify_content": null,
            "justify_items": null,
            "left": null,
            "margin": null,
            "max_height": null,
            "max_width": null,
            "min_height": null,
            "min_width": null,
            "object_fit": null,
            "object_position": null,
            "order": null,
            "overflow": null,
            "overflow_x": null,
            "overflow_y": null,
            "padding": null,
            "right": null,
            "top": null,
            "visibility": null,
            "width": null
          }
        },
        "d3aa2fed60f144a4bf18adcdbec31482": {
          "model_module": "@jupyter-widgets/controls",
          "model_module_version": "1.5.0",
          "model_name": "FloatProgressModel",
          "state": {
            "_dom_classes": [],
            "_model_module": "@jupyter-widgets/controls",
            "_model_module_version": "1.5.0",
            "_model_name": "FloatProgressModel",
            "_view_count": null,
            "_view_module": "@jupyter-widgets/controls",
            "_view_module_version": "1.5.0",
            "_view_name": "ProgressView",
            "bar_style": "success",
            "description": "",
            "description_tooltip": null,
            "layout": "IPY_MODEL_420dffb237b14ff99d08b3e28c9cd59a",
            "max": 124,
            "min": 0,
            "orientation": "horizontal",
            "style": "IPY_MODEL_bed723128cae43bb9ffb01f6a834fce5",
            "value": 124
          }
        },
        "d9b7e4fedd2246d9ba19b915043183cf": {
          "model_module": "@jupyter-widgets/controls",
          "model_module_version": "1.5.0",
          "model_name": "DescriptionStyleModel",
          "state": {
            "_model_module": "@jupyter-widgets/controls",
            "_model_module_version": "1.5.0",
            "_model_name": "DescriptionStyleModel",
            "_view_count": null,
            "_view_module": "@jupyter-widgets/base",
            "_view_module_version": "1.2.0",
            "_view_name": "StyleView",
            "description_width": ""
          }
        },
        "e1f00c622fdf4863a08da01068b2c516": {
          "model_module": "@jupyter-widgets/controls",
          "model_module_version": "1.5.0",
          "model_name": "HTMLModel",
          "state": {
            "_dom_classes": [],
            "_model_module": "@jupyter-widgets/controls",
            "_model_module_version": "1.5.0",
            "_model_name": "HTMLModel",
            "_view_count": null,
            "_view_module": "@jupyter-widgets/controls",
            "_view_module_version": "1.5.0",
            "_view_name": "HTMLView",
            "description": "",
            "description_tooltip": null,
            "layout": "IPY_MODEL_f3afb27da661446d9a049b01390eee56",
            "placeholder": "​",
            "style": "IPY_MODEL_d9b7e4fedd2246d9ba19b915043183cf",
            "value": "Downloading (…)neration_config.json: 100%"
          }
        },
        "e30a4d4bb80146aaad44f03e49e482e5": {
          "model_module": "@jupyter-widgets/controls",
          "model_module_version": "1.5.0",
          "model_name": "FloatProgressModel",
          "state": {
            "_dom_classes": [],
            "_model_module": "@jupyter-widgets/controls",
            "_model_module_version": "1.5.0",
            "_model_name": "FloatProgressModel",
            "_view_count": null,
            "_view_module": "@jupyter-widgets/controls",
            "_view_module_version": "1.5.0",
            "_view_name": "ProgressView",
            "bar_style": "success",
            "description": "",
            "description_tooltip": null,
            "layout": "IPY_MODEL_bea28baf8fdd450a98b2ed33b161ba36",
            "max": 642,
            "min": 0,
            "orientation": "horizontal",
            "style": "IPY_MODEL_1d06b70b7ddb40729cc1f2c518d4bcfc",
            "value": 642
          }
        },
        "edbf8f63ffbb4343902232a191091060": {
          "model_module": "@jupyter-widgets/base",
          "model_module_version": "1.2.0",
          "model_name": "LayoutModel",
          "state": {
            "_model_module": "@jupyter-widgets/base",
            "_model_module_version": "1.2.0",
            "_model_name": "LayoutModel",
            "_view_count": null,
            "_view_module": "@jupyter-widgets/base",
            "_view_module_version": "1.2.0",
            "_view_name": "LayoutView",
            "align_content": null,
            "align_items": null,
            "align_self": null,
            "border": null,
            "bottom": null,
            "display": null,
            "flex": null,
            "flex_flow": null,
            "grid_area": null,
            "grid_auto_columns": null,
            "grid_auto_flow": null,
            "grid_auto_rows": null,
            "grid_column": null,
            "grid_gap": null,
            "grid_row": null,
            "grid_template_areas": null,
            "grid_template_columns": null,
            "grid_template_rows": null,
            "height": null,
            "justify_content": null,
            "justify_items": null,
            "left": null,
            "margin": null,
            "max_height": null,
            "max_width": null,
            "min_height": null,
            "min_width": null,
            "object_fit": null,
            "object_position": null,
            "order": null,
            "overflow": null,
            "overflow_x": null,
            "overflow_y": null,
            "padding": null,
            "right": null,
            "top": null,
            "visibility": null,
            "width": null
          }
        },
        "f021c93781d14bd5918b67f9e41b325c": {
          "model_module": "@jupyter-widgets/base",
          "model_module_version": "1.2.0",
          "model_name": "LayoutModel",
          "state": {
            "_model_module": "@jupyter-widgets/base",
            "_model_module_version": "1.2.0",
            "_model_name": "LayoutModel",
            "_view_count": null,
            "_view_module": "@jupyter-widgets/base",
            "_view_module_version": "1.2.0",
            "_view_name": "LayoutView",
            "align_content": null,
            "align_items": null,
            "align_self": null,
            "border": null,
            "bottom": null,
            "display": null,
            "flex": null,
            "flex_flow": null,
            "grid_area": null,
            "grid_auto_columns": null,
            "grid_auto_flow": null,
            "grid_auto_rows": null,
            "grid_column": null,
            "grid_gap": null,
            "grid_row": null,
            "grid_template_areas": null,
            "grid_template_columns": null,
            "grid_template_rows": null,
            "height": null,
            "justify_content": null,
            "justify_items": null,
            "left": null,
            "margin": null,
            "max_height": null,
            "max_width": null,
            "min_height": null,
            "min_width": null,
            "object_fit": null,
            "object_position": null,
            "order": null,
            "overflow": null,
            "overflow_x": null,
            "overflow_y": null,
            "padding": null,
            "right": null,
            "top": null,
            "visibility": null,
            "width": null
          }
        },
        "f3afb27da661446d9a049b01390eee56": {
          "model_module": "@jupyter-widgets/base",
          "model_module_version": "1.2.0",
          "model_name": "LayoutModel",
          "state": {
            "_model_module": "@jupyter-widgets/base",
            "_model_module_version": "1.2.0",
            "_model_name": "LayoutModel",
            "_view_count": null,
            "_view_module": "@jupyter-widgets/base",
            "_view_module_version": "1.2.0",
            "_view_name": "LayoutView",
            "align_content": null,
            "align_items": null,
            "align_self": null,
            "border": null,
            "bottom": null,
            "display": null,
            "flex": null,
            "flex_flow": null,
            "grid_area": null,
            "grid_auto_columns": null,
            "grid_auto_flow": null,
            "grid_auto_rows": null,
            "grid_column": null,
            "grid_gap": null,
            "grid_row": null,
            "grid_template_areas": null,
            "grid_template_columns": null,
            "grid_template_rows": null,
            "height": null,
            "justify_content": null,
            "justify_items": null,
            "left": null,
            "margin": null,
            "max_height": null,
            "max_width": null,
            "min_height": null,
            "min_width": null,
            "object_fit": null,
            "object_position": null,
            "order": null,
            "overflow": null,
            "overflow_x": null,
            "overflow_y": null,
            "padding": null,
            "right": null,
            "top": null,
            "visibility": null,
            "width": null
          }
        },
        "f6db5d49e31344789cc29654273baed0": {
          "model_module": "@jupyter-widgets/base",
          "model_module_version": "1.2.0",
          "model_name": "LayoutModel",
          "state": {
            "_model_module": "@jupyter-widgets/base",
            "_model_module_version": "1.2.0",
            "_model_name": "LayoutModel",
            "_view_count": null,
            "_view_module": "@jupyter-widgets/base",
            "_view_module_version": "1.2.0",
            "_view_name": "LayoutView",
            "align_content": null,
            "align_items": null,
            "align_self": null,
            "border": null,
            "bottom": null,
            "display": null,
            "flex": null,
            "flex_flow": null,
            "grid_area": null,
            "grid_auto_columns": null,
            "grid_auto_flow": null,
            "grid_auto_rows": null,
            "grid_column": null,
            "grid_gap": null,
            "grid_row": null,
            "grid_template_areas": null,
            "grid_template_columns": null,
            "grid_template_rows": null,
            "height": null,
            "justify_content": null,
            "justify_items": null,
            "left": null,
            "margin": null,
            "max_height": null,
            "max_width": null,
            "min_height": null,
            "min_width": null,
            "object_fit": null,
            "object_position": null,
            "order": null,
            "overflow": null,
            "overflow_x": null,
            "overflow_y": null,
            "padding": null,
            "right": null,
            "top": null,
            "visibility": null,
            "width": null
          }
        },
        "f812a63efa764e8ab68df7c825babd1b": {
          "model_module": "@jupyter-widgets/controls",
          "model_module_version": "1.5.0",
          "model_name": "HBoxModel",
          "state": {
            "_dom_classes": [],
            "_model_module": "@jupyter-widgets/controls",
            "_model_module_version": "1.5.0",
            "_model_name": "HBoxModel",
            "_view_count": null,
            "_view_module": "@jupyter-widgets/controls",
            "_view_module_version": "1.5.0",
            "_view_name": "HBoxView",
            "box_style": "",
            "children": [
              "IPY_MODEL_c6bef9ccb718431a880b8337aca273a8",
              "IPY_MODEL_e30a4d4bb80146aaad44f03e49e482e5",
              "IPY_MODEL_b281d465a21d4ecf9398457c80cd304b"
            ],
            "layout": "IPY_MODEL_3f25747371d4436e8f4ba8efdc75ff38"
          }
        }
      }
    }
  },
  "nbformat": 4,
  "nbformat_minor": 0
}
