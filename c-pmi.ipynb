{
  "nbformat": 4,
  "nbformat_minor": 0,
  "metadata": {
    "colab": {
      "provenance": []
    },
    "kernelspec": {
      "name": "python3",
      "display_name": "Python 3"
    },
    "language_info": {
      "name": "python"
    },
    "accelerator": "GPU",
    "gpuClass": "standard",
    "widgets": {
      "application/vnd.jupyter.widget-state+json": {
        "50d7587475a94e7da1d2291b9bbf5da3": {
          "model_module": "@jupyter-widgets/controls",
          "model_name": "HBoxModel",
          "model_module_version": "1.5.0",
          "state": {
            "_dom_classes": [],
            "_model_module": "@jupyter-widgets/controls",
            "_model_module_version": "1.5.0",
            "_model_name": "HBoxModel",
            "_view_count": null,
            "_view_module": "@jupyter-widgets/controls",
            "_view_module_version": "1.5.0",
            "_view_name": "HBoxView",
            "box_style": "",
            "children": [
              "IPY_MODEL_0f596d8bdf16407b92221d2da3e42b3e",
              "IPY_MODEL_36bd0d9332634d4aa5a718473d32c392",
              "IPY_MODEL_ba74f1b5424847efb00aeadb9493301c"
            ],
            "layout": "IPY_MODEL_fd042cd8bf4b44548e620bae4b29db11"
          }
        },
        "0f596d8bdf16407b92221d2da3e42b3e": {
          "model_module": "@jupyter-widgets/controls",
          "model_name": "HTMLModel",
          "model_module_version": "1.5.0",
          "state": {
            "_dom_classes": [],
            "_model_module": "@jupyter-widgets/controls",
            "_model_module_version": "1.5.0",
            "_model_name": "HTMLModel",
            "_view_count": null,
            "_view_module": "@jupyter-widgets/controls",
            "_view_module_version": "1.5.0",
            "_view_name": "HTMLView",
            "description": "",
            "description_tooltip": null,
            "layout": "IPY_MODEL_af1e7f589ef9417f89fada00a3b37f3a",
            "placeholder": "​",
            "style": "IPY_MODEL_40a1e2056acd40c7baf885736c1a9060",
            "value": "Downloading (…)okenizer_config.json: 100%"
          }
        },
        "36bd0d9332634d4aa5a718473d32c392": {
          "model_module": "@jupyter-widgets/controls",
          "model_name": "FloatProgressModel",
          "model_module_version": "1.5.0",
          "state": {
            "_dom_classes": [],
            "_model_module": "@jupyter-widgets/controls",
            "_model_module_version": "1.5.0",
            "_model_name": "FloatProgressModel",
            "_view_count": null,
            "_view_module": "@jupyter-widgets/controls",
            "_view_module_version": "1.5.0",
            "_view_name": "ProgressView",
            "bar_style": "success",
            "description": "",
            "description_tooltip": null,
            "layout": "IPY_MODEL_a24702a8b38a4b96bebd35e958b246fe",
            "max": 26,
            "min": 0,
            "orientation": "horizontal",
            "style": "IPY_MODEL_5e96ad4d3d3147089717062ea94c4cc9",
            "value": 26
          }
        },
        "ba74f1b5424847efb00aeadb9493301c": {
          "model_module": "@jupyter-widgets/controls",
          "model_name": "HTMLModel",
          "model_module_version": "1.5.0",
          "state": {
            "_dom_classes": [],
            "_model_module": "@jupyter-widgets/controls",
            "_model_module_version": "1.5.0",
            "_model_name": "HTMLModel",
            "_view_count": null,
            "_view_module": "@jupyter-widgets/controls",
            "_view_module_version": "1.5.0",
            "_view_name": "HTMLView",
            "description": "",
            "description_tooltip": null,
            "layout": "IPY_MODEL_c86b6d6e2e054e86855d7f9554f2a754",
            "placeholder": "​",
            "style": "IPY_MODEL_d5e97769dea24ed183058cd936be2494",
            "value": " 26.0/26.0 [00:00&lt;00:00, 890B/s]"
          }
        },
        "fd042cd8bf4b44548e620bae4b29db11": {
          "model_module": "@jupyter-widgets/base",
          "model_name": "LayoutModel",
          "model_module_version": "1.2.0",
          "state": {
            "_model_module": "@jupyter-widgets/base",
            "_model_module_version": "1.2.0",
            "_model_name": "LayoutModel",
            "_view_count": null,
            "_view_module": "@jupyter-widgets/base",
            "_view_module_version": "1.2.0",
            "_view_name": "LayoutView",
            "align_content": null,
            "align_items": null,
            "align_self": null,
            "border": null,
            "bottom": null,
            "display": null,
            "flex": null,
            "flex_flow": null,
            "grid_area": null,
            "grid_auto_columns": null,
            "grid_auto_flow": null,
            "grid_auto_rows": null,
            "grid_column": null,
            "grid_gap": null,
            "grid_row": null,
            "grid_template_areas": null,
            "grid_template_columns": null,
            "grid_template_rows": null,
            "height": null,
            "justify_content": null,
            "justify_items": null,
            "left": null,
            "margin": null,
            "max_height": null,
            "max_width": null,
            "min_height": null,
            "min_width": null,
            "object_fit": null,
            "object_position": null,
            "order": null,
            "overflow": null,
            "overflow_x": null,
            "overflow_y": null,
            "padding": null,
            "right": null,
            "top": null,
            "visibility": null,
            "width": null
          }
        },
        "af1e7f589ef9417f89fada00a3b37f3a": {
          "model_module": "@jupyter-widgets/base",
          "model_name": "LayoutModel",
          "model_module_version": "1.2.0",
          "state": {
            "_model_module": "@jupyter-widgets/base",
            "_model_module_version": "1.2.0",
            "_model_name": "LayoutModel",
            "_view_count": null,
            "_view_module": "@jupyter-widgets/base",
            "_view_module_version": "1.2.0",
            "_view_name": "LayoutView",
            "align_content": null,
            "align_items": null,
            "align_self": null,
            "border": null,
            "bottom": null,
            "display": null,
            "flex": null,
            "flex_flow": null,
            "grid_area": null,
            "grid_auto_columns": null,
            "grid_auto_flow": null,
            "grid_auto_rows": null,
            "grid_column": null,
            "grid_gap": null,
            "grid_row": null,
            "grid_template_areas": null,
            "grid_template_columns": null,
            "grid_template_rows": null,
            "height": null,
            "justify_content": null,
            "justify_items": null,
            "left": null,
            "margin": null,
            "max_height": null,
            "max_width": null,
            "min_height": null,
            "min_width": null,
            "object_fit": null,
            "object_position": null,
            "order": null,
            "overflow": null,
            "overflow_x": null,
            "overflow_y": null,
            "padding": null,
            "right": null,
            "top": null,
            "visibility": null,
            "width": null
          }
        },
        "40a1e2056acd40c7baf885736c1a9060": {
          "model_module": "@jupyter-widgets/controls",
          "model_name": "DescriptionStyleModel",
          "model_module_version": "1.5.0",
          "state": {
            "_model_module": "@jupyter-widgets/controls",
            "_model_module_version": "1.5.0",
            "_model_name": "DescriptionStyleModel",
            "_view_count": null,
            "_view_module": "@jupyter-widgets/base",
            "_view_module_version": "1.2.0",
            "_view_name": "StyleView",
            "description_width": ""
          }
        },
        "a24702a8b38a4b96bebd35e958b246fe": {
          "model_module": "@jupyter-widgets/base",
          "model_name": "LayoutModel",
          "model_module_version": "1.2.0",
          "state": {
            "_model_module": "@jupyter-widgets/base",
            "_model_module_version": "1.2.0",
            "_model_name": "LayoutModel",
            "_view_count": null,
            "_view_module": "@jupyter-widgets/base",
            "_view_module_version": "1.2.0",
            "_view_name": "LayoutView",
            "align_content": null,
            "align_items": null,
            "align_self": null,
            "border": null,
            "bottom": null,
            "display": null,
            "flex": null,
            "flex_flow": null,
            "grid_area": null,
            "grid_auto_columns": null,
            "grid_auto_flow": null,
            "grid_auto_rows": null,
            "grid_column": null,
            "grid_gap": null,
            "grid_row": null,
            "grid_template_areas": null,
            "grid_template_columns": null,
            "grid_template_rows": null,
            "height": null,
            "justify_content": null,
            "justify_items": null,
            "left": null,
            "margin": null,
            "max_height": null,
            "max_width": null,
            "min_height": null,
            "min_width": null,
            "object_fit": null,
            "object_position": null,
            "order": null,
            "overflow": null,
            "overflow_x": null,
            "overflow_y": null,
            "padding": null,
            "right": null,
            "top": null,
            "visibility": null,
            "width": null
          }
        },
        "5e96ad4d3d3147089717062ea94c4cc9": {
          "model_module": "@jupyter-widgets/controls",
          "model_name": "ProgressStyleModel",
          "model_module_version": "1.5.0",
          "state": {
            "_model_module": "@jupyter-widgets/controls",
            "_model_module_version": "1.5.0",
            "_model_name": "ProgressStyleModel",
            "_view_count": null,
            "_view_module": "@jupyter-widgets/base",
            "_view_module_version": "1.2.0",
            "_view_name": "StyleView",
            "bar_color": null,
            "description_width": ""
          }
        },
        "c86b6d6e2e054e86855d7f9554f2a754": {
          "model_module": "@jupyter-widgets/base",
          "model_name": "LayoutModel",
          "model_module_version": "1.2.0",
          "state": {
            "_model_module": "@jupyter-widgets/base",
            "_model_module_version": "1.2.0",
            "_model_name": "LayoutModel",
            "_view_count": null,
            "_view_module": "@jupyter-widgets/base",
            "_view_module_version": "1.2.0",
            "_view_name": "LayoutView",
            "align_content": null,
            "align_items": null,
            "align_self": null,
            "border": null,
            "bottom": null,
            "display": null,
            "flex": null,
            "flex_flow": null,
            "grid_area": null,
            "grid_auto_columns": null,
            "grid_auto_flow": null,
            "grid_auto_rows": null,
            "grid_column": null,
            "grid_gap": null,
            "grid_row": null,
            "grid_template_areas": null,
            "grid_template_columns": null,
            "grid_template_rows": null,
            "height": null,
            "justify_content": null,
            "justify_items": null,
            "left": null,
            "margin": null,
            "max_height": null,
            "max_width": null,
            "min_height": null,
            "min_width": null,
            "object_fit": null,
            "object_position": null,
            "order": null,
            "overflow": null,
            "overflow_x": null,
            "overflow_y": null,
            "padding": null,
            "right": null,
            "top": null,
            "visibility": null,
            "width": null
          }
        },
        "d5e97769dea24ed183058cd936be2494": {
          "model_module": "@jupyter-widgets/controls",
          "model_name": "DescriptionStyleModel",
          "model_module_version": "1.5.0",
          "state": {
            "_model_module": "@jupyter-widgets/controls",
            "_model_module_version": "1.5.0",
            "_model_name": "DescriptionStyleModel",
            "_view_count": null,
            "_view_module": "@jupyter-widgets/base",
            "_view_module_version": "1.2.0",
            "_view_name": "StyleView",
            "description_width": ""
          }
        },
        "1080b9fb236046a3831ef043321dcc5d": {
          "model_module": "@jupyter-widgets/controls",
          "model_name": "HBoxModel",
          "model_module_version": "1.5.0",
          "state": {
            "_dom_classes": [],
            "_model_module": "@jupyter-widgets/controls",
            "_model_module_version": "1.5.0",
            "_model_name": "HBoxModel",
            "_view_count": null,
            "_view_module": "@jupyter-widgets/controls",
            "_view_module_version": "1.5.0",
            "_view_name": "HBoxView",
            "box_style": "",
            "children": [
              "IPY_MODEL_2a1a448c72d64936a9b0dcbb288169a3",
              "IPY_MODEL_c0b9d16f8c6c4b54bbd410e0a248a64f",
              "IPY_MODEL_2dc9dd7936bf49dc954835b8d6739c24"
            ],
            "layout": "IPY_MODEL_9fcfee2427d3461fb984130ba4d638cb"
          }
        },
        "2a1a448c72d64936a9b0dcbb288169a3": {
          "model_module": "@jupyter-widgets/controls",
          "model_name": "HTMLModel",
          "model_module_version": "1.5.0",
          "state": {
            "_dom_classes": [],
            "_model_module": "@jupyter-widgets/controls",
            "_model_module_version": "1.5.0",
            "_model_name": "HTMLModel",
            "_view_count": null,
            "_view_module": "@jupyter-widgets/controls",
            "_view_module_version": "1.5.0",
            "_view_name": "HTMLView",
            "description": "",
            "description_tooltip": null,
            "layout": "IPY_MODEL_942da2d1f74a4c7c8a285f5930c3c704",
            "placeholder": "​",
            "style": "IPY_MODEL_79cfe3270cee4d569374670643284699",
            "value": "Downloading (…)lve/main/config.json: 100%"
          }
        },
        "c0b9d16f8c6c4b54bbd410e0a248a64f": {
          "model_module": "@jupyter-widgets/controls",
          "model_name": "FloatProgressModel",
          "model_module_version": "1.5.0",
          "state": {
            "_dom_classes": [],
            "_model_module": "@jupyter-widgets/controls",
            "_model_module_version": "1.5.0",
            "_model_name": "FloatProgressModel",
            "_view_count": null,
            "_view_module": "@jupyter-widgets/controls",
            "_view_module_version": "1.5.0",
            "_view_name": "ProgressView",
            "bar_style": "success",
            "description": "",
            "description_tooltip": null,
            "layout": "IPY_MODEL_a2a1568bc7b14439bd57cef24587395c",
            "max": 642,
            "min": 0,
            "orientation": "horizontal",
            "style": "IPY_MODEL_0fa748190dd948129a872490692ee16c",
            "value": 642
          }
        },
        "2dc9dd7936bf49dc954835b8d6739c24": {
          "model_module": "@jupyter-widgets/controls",
          "model_name": "HTMLModel",
          "model_module_version": "1.5.0",
          "state": {
            "_dom_classes": [],
            "_model_module": "@jupyter-widgets/controls",
            "_model_module_version": "1.5.0",
            "_model_name": "HTMLModel",
            "_view_count": null,
            "_view_module": "@jupyter-widgets/controls",
            "_view_module_version": "1.5.0",
            "_view_name": "HTMLView",
            "description": "",
            "description_tooltip": null,
            "layout": "IPY_MODEL_5102bd7b88c647eeb987f7f6bb506c84",
            "placeholder": "​",
            "style": "IPY_MODEL_85f41e2925be4ccdb51f5bfbfe97a6e8",
            "value": " 642/642 [00:00&lt;00:00, 23.7kB/s]"
          }
        },
        "9fcfee2427d3461fb984130ba4d638cb": {
          "model_module": "@jupyter-widgets/base",
          "model_name": "LayoutModel",
          "model_module_version": "1.2.0",
          "state": {
            "_model_module": "@jupyter-widgets/base",
            "_model_module_version": "1.2.0",
            "_model_name": "LayoutModel",
            "_view_count": null,
            "_view_module": "@jupyter-widgets/base",
            "_view_module_version": "1.2.0",
            "_view_name": "LayoutView",
            "align_content": null,
            "align_items": null,
            "align_self": null,
            "border": null,
            "bottom": null,
            "display": null,
            "flex": null,
            "flex_flow": null,
            "grid_area": null,
            "grid_auto_columns": null,
            "grid_auto_flow": null,
            "grid_auto_rows": null,
            "grid_column": null,
            "grid_gap": null,
            "grid_row": null,
            "grid_template_areas": null,
            "grid_template_columns": null,
            "grid_template_rows": null,
            "height": null,
            "justify_content": null,
            "justify_items": null,
            "left": null,
            "margin": null,
            "max_height": null,
            "max_width": null,
            "min_height": null,
            "min_width": null,
            "object_fit": null,
            "object_position": null,
            "order": null,
            "overflow": null,
            "overflow_x": null,
            "overflow_y": null,
            "padding": null,
            "right": null,
            "top": null,
            "visibility": null,
            "width": null
          }
        },
        "942da2d1f74a4c7c8a285f5930c3c704": {
          "model_module": "@jupyter-widgets/base",
          "model_name": "LayoutModel",
          "model_module_version": "1.2.0",
          "state": {
            "_model_module": "@jupyter-widgets/base",
            "_model_module_version": "1.2.0",
            "_model_name": "LayoutModel",
            "_view_count": null,
            "_view_module": "@jupyter-widgets/base",
            "_view_module_version": "1.2.0",
            "_view_name": "LayoutView",
            "align_content": null,
            "align_items": null,
            "align_self": null,
            "border": null,
            "bottom": null,
            "display": null,
            "flex": null,
            "flex_flow": null,
            "grid_area": null,
            "grid_auto_columns": null,
            "grid_auto_flow": null,
            "grid_auto_rows": null,
            "grid_column": null,
            "grid_gap": null,
            "grid_row": null,
            "grid_template_areas": null,
            "grid_template_columns": null,
            "grid_template_rows": null,
            "height": null,
            "justify_content": null,
            "justify_items": null,
            "left": null,
            "margin": null,
            "max_height": null,
            "max_width": null,
            "min_height": null,
            "min_width": null,
            "object_fit": null,
            "object_position": null,
            "order": null,
            "overflow": null,
            "overflow_x": null,
            "overflow_y": null,
            "padding": null,
            "right": null,
            "top": null,
            "visibility": null,
            "width": null
          }
        },
        "79cfe3270cee4d569374670643284699": {
          "model_module": "@jupyter-widgets/controls",
          "model_name": "DescriptionStyleModel",
          "model_module_version": "1.5.0",
          "state": {
            "_model_module": "@jupyter-widgets/controls",
            "_model_module_version": "1.5.0",
            "_model_name": "DescriptionStyleModel",
            "_view_count": null,
            "_view_module": "@jupyter-widgets/base",
            "_view_module_version": "1.2.0",
            "_view_name": "StyleView",
            "description_width": ""
          }
        },
        "a2a1568bc7b14439bd57cef24587395c": {
          "model_module": "@jupyter-widgets/base",
          "model_name": "LayoutModel",
          "model_module_version": "1.2.0",
          "state": {
            "_model_module": "@jupyter-widgets/base",
            "_model_module_version": "1.2.0",
            "_model_name": "LayoutModel",
            "_view_count": null,
            "_view_module": "@jupyter-widgets/base",
            "_view_module_version": "1.2.0",
            "_view_name": "LayoutView",
            "align_content": null,
            "align_items": null,
            "align_self": null,
            "border": null,
            "bottom": null,
            "display": null,
            "flex": null,
            "flex_flow": null,
            "grid_area": null,
            "grid_auto_columns": null,
            "grid_auto_flow": null,
            "grid_auto_rows": null,
            "grid_column": null,
            "grid_gap": null,
            "grid_row": null,
            "grid_template_areas": null,
            "grid_template_columns": null,
            "grid_template_rows": null,
            "height": null,
            "justify_content": null,
            "justify_items": null,
            "left": null,
            "margin": null,
            "max_height": null,
            "max_width": null,
            "min_height": null,
            "min_width": null,
            "object_fit": null,
            "object_position": null,
            "order": null,
            "overflow": null,
            "overflow_x": null,
            "overflow_y": null,
            "padding": null,
            "right": null,
            "top": null,
            "visibility": null,
            "width": null
          }
        },
        "0fa748190dd948129a872490692ee16c": {
          "model_module": "@jupyter-widgets/controls",
          "model_name": "ProgressStyleModel",
          "model_module_version": "1.5.0",
          "state": {
            "_model_module": "@jupyter-widgets/controls",
            "_model_module_version": "1.5.0",
            "_model_name": "ProgressStyleModel",
            "_view_count": null,
            "_view_module": "@jupyter-widgets/base",
            "_view_module_version": "1.2.0",
            "_view_name": "StyleView",
            "bar_color": null,
            "description_width": ""
          }
        },
        "5102bd7b88c647eeb987f7f6bb506c84": {
          "model_module": "@jupyter-widgets/base",
          "model_name": "LayoutModel",
          "model_module_version": "1.2.0",
          "state": {
            "_model_module": "@jupyter-widgets/base",
            "_model_module_version": "1.2.0",
            "_model_name": "LayoutModel",
            "_view_count": null,
            "_view_module": "@jupyter-widgets/base",
            "_view_module_version": "1.2.0",
            "_view_name": "LayoutView",
            "align_content": null,
            "align_items": null,
            "align_self": null,
            "border": null,
            "bottom": null,
            "display": null,
            "flex": null,
            "flex_flow": null,
            "grid_area": null,
            "grid_auto_columns": null,
            "grid_auto_flow": null,
            "grid_auto_rows": null,
            "grid_column": null,
            "grid_gap": null,
            "grid_row": null,
            "grid_template_areas": null,
            "grid_template_columns": null,
            "grid_template_rows": null,
            "height": null,
            "justify_content": null,
            "justify_items": null,
            "left": null,
            "margin": null,
            "max_height": null,
            "max_width": null,
            "min_height": null,
            "min_width": null,
            "object_fit": null,
            "object_position": null,
            "order": null,
            "overflow": null,
            "overflow_x": null,
            "overflow_y": null,
            "padding": null,
            "right": null,
            "top": null,
            "visibility": null,
            "width": null
          }
        },
        "85f41e2925be4ccdb51f5bfbfe97a6e8": {
          "model_module": "@jupyter-widgets/controls",
          "model_name": "DescriptionStyleModel",
          "model_module_version": "1.5.0",
          "state": {
            "_model_module": "@jupyter-widgets/controls",
            "_model_module_version": "1.5.0",
            "_model_name": "DescriptionStyleModel",
            "_view_count": null,
            "_view_module": "@jupyter-widgets/base",
            "_view_module_version": "1.2.0",
            "_view_name": "StyleView",
            "description_width": ""
          }
        },
        "d92f85b1277c4fa9bdf43e5dbf55399a": {
          "model_module": "@jupyter-widgets/controls",
          "model_name": "HBoxModel",
          "model_module_version": "1.5.0",
          "state": {
            "_dom_classes": [],
            "_model_module": "@jupyter-widgets/controls",
            "_model_module_version": "1.5.0",
            "_model_name": "HBoxModel",
            "_view_count": null,
            "_view_module": "@jupyter-widgets/controls",
            "_view_module_version": "1.5.0",
            "_view_name": "HBoxView",
            "box_style": "",
            "children": [
              "IPY_MODEL_a40741eaa5234f22ba49c98c89a2309f",
              "IPY_MODEL_325004036d9b4847bfa2a61e7553c1c5",
              "IPY_MODEL_2d8dfe4cf78243ea9ca953e71c8b5887"
            ],
            "layout": "IPY_MODEL_460da3ee3d3645a9b102efcc64be88ad"
          }
        },
        "a40741eaa5234f22ba49c98c89a2309f": {
          "model_module": "@jupyter-widgets/controls",
          "model_name": "HTMLModel",
          "model_module_version": "1.5.0",
          "state": {
            "_dom_classes": [],
            "_model_module": "@jupyter-widgets/controls",
            "_model_module_version": "1.5.0",
            "_model_name": "HTMLModel",
            "_view_count": null,
            "_view_module": "@jupyter-widgets/controls",
            "_view_module_version": "1.5.0",
            "_view_name": "HTMLView",
            "description": "",
            "description_tooltip": null,
            "layout": "IPY_MODEL_752c99df91724b33846ba9ee286bd31e",
            "placeholder": "​",
            "style": "IPY_MODEL_07a6c6bb47aa4517bdf7dca5a3ed38b5",
            "value": "Downloading (…)olve/main/vocab.json: 100%"
          }
        },
        "325004036d9b4847bfa2a61e7553c1c5": {
          "model_module": "@jupyter-widgets/controls",
          "model_name": "FloatProgressModel",
          "model_module_version": "1.5.0",
          "state": {
            "_dom_classes": [],
            "_model_module": "@jupyter-widgets/controls",
            "_model_module_version": "1.5.0",
            "_model_name": "FloatProgressModel",
            "_view_count": null,
            "_view_module": "@jupyter-widgets/controls",
            "_view_module_version": "1.5.0",
            "_view_name": "ProgressView",
            "bar_style": "success",
            "description": "",
            "description_tooltip": null,
            "layout": "IPY_MODEL_43eebb8f875c45a286fb0d361b616f1d",
            "max": 1042301,
            "min": 0,
            "orientation": "horizontal",
            "style": "IPY_MODEL_2f4b1f92cfe34cab810616b4b5157df8",
            "value": 1042301
          }
        },
        "2d8dfe4cf78243ea9ca953e71c8b5887": {
          "model_module": "@jupyter-widgets/controls",
          "model_name": "HTMLModel",
          "model_module_version": "1.5.0",
          "state": {
            "_dom_classes": [],
            "_model_module": "@jupyter-widgets/controls",
            "_model_module_version": "1.5.0",
            "_model_name": "HTMLModel",
            "_view_count": null,
            "_view_module": "@jupyter-widgets/controls",
            "_view_module_version": "1.5.0",
            "_view_name": "HTMLView",
            "description": "",
            "description_tooltip": null,
            "layout": "IPY_MODEL_49e8721af9014e52b737403eff459eda",
            "placeholder": "​",
            "style": "IPY_MODEL_afcc00c2ec0a4f03b5eff83a65ec707f",
            "value": " 1.04M/1.04M [00:00&lt;00:00, 1.23MB/s]"
          }
        },
        "460da3ee3d3645a9b102efcc64be88ad": {
          "model_module": "@jupyter-widgets/base",
          "model_name": "LayoutModel",
          "model_module_version": "1.2.0",
          "state": {
            "_model_module": "@jupyter-widgets/base",
            "_model_module_version": "1.2.0",
            "_model_name": "LayoutModel",
            "_view_count": null,
            "_view_module": "@jupyter-widgets/base",
            "_view_module_version": "1.2.0",
            "_view_name": "LayoutView",
            "align_content": null,
            "align_items": null,
            "align_self": null,
            "border": null,
            "bottom": null,
            "display": null,
            "flex": null,
            "flex_flow": null,
            "grid_area": null,
            "grid_auto_columns": null,
            "grid_auto_flow": null,
            "grid_auto_rows": null,
            "grid_column": null,
            "grid_gap": null,
            "grid_row": null,
            "grid_template_areas": null,
            "grid_template_columns": null,
            "grid_template_rows": null,
            "height": null,
            "justify_content": null,
            "justify_items": null,
            "left": null,
            "margin": null,
            "max_height": null,
            "max_width": null,
            "min_height": null,
            "min_width": null,
            "object_fit": null,
            "object_position": null,
            "order": null,
            "overflow": null,
            "overflow_x": null,
            "overflow_y": null,
            "padding": null,
            "right": null,
            "top": null,
            "visibility": null,
            "width": null
          }
        },
        "752c99df91724b33846ba9ee286bd31e": {
          "model_module": "@jupyter-widgets/base",
          "model_name": "LayoutModel",
          "model_module_version": "1.2.0",
          "state": {
            "_model_module": "@jupyter-widgets/base",
            "_model_module_version": "1.2.0",
            "_model_name": "LayoutModel",
            "_view_count": null,
            "_view_module": "@jupyter-widgets/base",
            "_view_module_version": "1.2.0",
            "_view_name": "LayoutView",
            "align_content": null,
            "align_items": null,
            "align_self": null,
            "border": null,
            "bottom": null,
            "display": null,
            "flex": null,
            "flex_flow": null,
            "grid_area": null,
            "grid_auto_columns": null,
            "grid_auto_flow": null,
            "grid_auto_rows": null,
            "grid_column": null,
            "grid_gap": null,
            "grid_row": null,
            "grid_template_areas": null,
            "grid_template_columns": null,
            "grid_template_rows": null,
            "height": null,
            "justify_content": null,
            "justify_items": null,
            "left": null,
            "margin": null,
            "max_height": null,
            "max_width": null,
            "min_height": null,
            "min_width": null,
            "object_fit": null,
            "object_position": null,
            "order": null,
            "overflow": null,
            "overflow_x": null,
            "overflow_y": null,
            "padding": null,
            "right": null,
            "top": null,
            "visibility": null,
            "width": null
          }
        },
        "07a6c6bb47aa4517bdf7dca5a3ed38b5": {
          "model_module": "@jupyter-widgets/controls",
          "model_name": "DescriptionStyleModel",
          "model_module_version": "1.5.0",
          "state": {
            "_model_module": "@jupyter-widgets/controls",
            "_model_module_version": "1.5.0",
            "_model_name": "DescriptionStyleModel",
            "_view_count": null,
            "_view_module": "@jupyter-widgets/base",
            "_view_module_version": "1.2.0",
            "_view_name": "StyleView",
            "description_width": ""
          }
        },
        "43eebb8f875c45a286fb0d361b616f1d": {
          "model_module": "@jupyter-widgets/base",
          "model_name": "LayoutModel",
          "model_module_version": "1.2.0",
          "state": {
            "_model_module": "@jupyter-widgets/base",
            "_model_module_version": "1.2.0",
            "_model_name": "LayoutModel",
            "_view_count": null,
            "_view_module": "@jupyter-widgets/base",
            "_view_module_version": "1.2.0",
            "_view_name": "LayoutView",
            "align_content": null,
            "align_items": null,
            "align_self": null,
            "border": null,
            "bottom": null,
            "display": null,
            "flex": null,
            "flex_flow": null,
            "grid_area": null,
            "grid_auto_columns": null,
            "grid_auto_flow": null,
            "grid_auto_rows": null,
            "grid_column": null,
            "grid_gap": null,
            "grid_row": null,
            "grid_template_areas": null,
            "grid_template_columns": null,
            "grid_template_rows": null,
            "height": null,
            "justify_content": null,
            "justify_items": null,
            "left": null,
            "margin": null,
            "max_height": null,
            "max_width": null,
            "min_height": null,
            "min_width": null,
            "object_fit": null,
            "object_position": null,
            "order": null,
            "overflow": null,
            "overflow_x": null,
            "overflow_y": null,
            "padding": null,
            "right": null,
            "top": null,
            "visibility": null,
            "width": null
          }
        },
        "2f4b1f92cfe34cab810616b4b5157df8": {
          "model_module": "@jupyter-widgets/controls",
          "model_name": "ProgressStyleModel",
          "model_module_version": "1.5.0",
          "state": {
            "_model_module": "@jupyter-widgets/controls",
            "_model_module_version": "1.5.0",
            "_model_name": "ProgressStyleModel",
            "_view_count": null,
            "_view_module": "@jupyter-widgets/base",
            "_view_module_version": "1.2.0",
            "_view_name": "StyleView",
            "bar_color": null,
            "description_width": ""
          }
        },
        "49e8721af9014e52b737403eff459eda": {
          "model_module": "@jupyter-widgets/base",
          "model_name": "LayoutModel",
          "model_module_version": "1.2.0",
          "state": {
            "_model_module": "@jupyter-widgets/base",
            "_model_module_version": "1.2.0",
            "_model_name": "LayoutModel",
            "_view_count": null,
            "_view_module": "@jupyter-widgets/base",
            "_view_module_version": "1.2.0",
            "_view_name": "LayoutView",
            "align_content": null,
            "align_items": null,
            "align_self": null,
            "border": null,
            "bottom": null,
            "display": null,
            "flex": null,
            "flex_flow": null,
            "grid_area": null,
            "grid_auto_columns": null,
            "grid_auto_flow": null,
            "grid_auto_rows": null,
            "grid_column": null,
            "grid_gap": null,
            "grid_row": null,
            "grid_template_areas": null,
            "grid_template_columns": null,
            "grid_template_rows": null,
            "height": null,
            "justify_content": null,
            "justify_items": null,
            "left": null,
            "margin": null,
            "max_height": null,
            "max_width": null,
            "min_height": null,
            "min_width": null,
            "object_fit": null,
            "object_position": null,
            "order": null,
            "overflow": null,
            "overflow_x": null,
            "overflow_y": null,
            "padding": null,
            "right": null,
            "top": null,
            "visibility": null,
            "width": null
          }
        },
        "afcc00c2ec0a4f03b5eff83a65ec707f": {
          "model_module": "@jupyter-widgets/controls",
          "model_name": "DescriptionStyleModel",
          "model_module_version": "1.5.0",
          "state": {
            "_model_module": "@jupyter-widgets/controls",
            "_model_module_version": "1.5.0",
            "_model_name": "DescriptionStyleModel",
            "_view_count": null,
            "_view_module": "@jupyter-widgets/base",
            "_view_module_version": "1.2.0",
            "_view_name": "StyleView",
            "description_width": ""
          }
        },
        "2aa3b14b200b4b2286a38ab3e6dd4534": {
          "model_module": "@jupyter-widgets/controls",
          "model_name": "HBoxModel",
          "model_module_version": "1.5.0",
          "state": {
            "_dom_classes": [],
            "_model_module": "@jupyter-widgets/controls",
            "_model_module_version": "1.5.0",
            "_model_name": "HBoxModel",
            "_view_count": null,
            "_view_module": "@jupyter-widgets/controls",
            "_view_module_version": "1.5.0",
            "_view_name": "HBoxView",
            "box_style": "",
            "children": [
              "IPY_MODEL_521a843db28c495ea17f85371efbd1b5",
              "IPY_MODEL_1c6176303e5d4965a8785344c7c1d786",
              "IPY_MODEL_6df831052a4640f5bcfa40bfb574d52b"
            ],
            "layout": "IPY_MODEL_9002baebdc45423c8bc617570e78f3db"
          }
        },
        "521a843db28c495ea17f85371efbd1b5": {
          "model_module": "@jupyter-widgets/controls",
          "model_name": "HTMLModel",
          "model_module_version": "1.5.0",
          "state": {
            "_dom_classes": [],
            "_model_module": "@jupyter-widgets/controls",
            "_model_module_version": "1.5.0",
            "_model_name": "HTMLModel",
            "_view_count": null,
            "_view_module": "@jupyter-widgets/controls",
            "_view_module_version": "1.5.0",
            "_view_name": "HTMLView",
            "description": "",
            "description_tooltip": null,
            "layout": "IPY_MODEL_4717b135348544d1a785f7de4a4ddb0a",
            "placeholder": "​",
            "style": "IPY_MODEL_d9f7773be3c440d4b52a132469bda097",
            "value": "Downloading (…)olve/main/merges.txt: 100%"
          }
        },
        "1c6176303e5d4965a8785344c7c1d786": {
          "model_module": "@jupyter-widgets/controls",
          "model_name": "FloatProgressModel",
          "model_module_version": "1.5.0",
          "state": {
            "_dom_classes": [],
            "_model_module": "@jupyter-widgets/controls",
            "_model_module_version": "1.5.0",
            "_model_name": "FloatProgressModel",
            "_view_count": null,
            "_view_module": "@jupyter-widgets/controls",
            "_view_module_version": "1.5.0",
            "_view_name": "ProgressView",
            "bar_style": "success",
            "description": "",
            "description_tooltip": null,
            "layout": "IPY_MODEL_12c3f668101c4bed981fcf388468b6c5",
            "max": 456318,
            "min": 0,
            "orientation": "horizontal",
            "style": "IPY_MODEL_87ce2aba68e14d849a7b5aff3a86d38c",
            "value": 456318
          }
        },
        "6df831052a4640f5bcfa40bfb574d52b": {
          "model_module": "@jupyter-widgets/controls",
          "model_name": "HTMLModel",
          "model_module_version": "1.5.0",
          "state": {
            "_dom_classes": [],
            "_model_module": "@jupyter-widgets/controls",
            "_model_module_version": "1.5.0",
            "_model_name": "HTMLModel",
            "_view_count": null,
            "_view_module": "@jupyter-widgets/controls",
            "_view_module_version": "1.5.0",
            "_view_name": "HTMLView",
            "description": "",
            "description_tooltip": null,
            "layout": "IPY_MODEL_5e384ae9034d4a81b2728191cbdd6c2f",
            "placeholder": "​",
            "style": "IPY_MODEL_5f622cf85db14763b4d30a861c89dd58",
            "value": " 456k/456k [00:00&lt;00:00, 7.83MB/s]"
          }
        },
        "9002baebdc45423c8bc617570e78f3db": {
          "model_module": "@jupyter-widgets/base",
          "model_name": "LayoutModel",
          "model_module_version": "1.2.0",
          "state": {
            "_model_module": "@jupyter-widgets/base",
            "_model_module_version": "1.2.0",
            "_model_name": "LayoutModel",
            "_view_count": null,
            "_view_module": "@jupyter-widgets/base",
            "_view_module_version": "1.2.0",
            "_view_name": "LayoutView",
            "align_content": null,
            "align_items": null,
            "align_self": null,
            "border": null,
            "bottom": null,
            "display": null,
            "flex": null,
            "flex_flow": null,
            "grid_area": null,
            "grid_auto_columns": null,
            "grid_auto_flow": null,
            "grid_auto_rows": null,
            "grid_column": null,
            "grid_gap": null,
            "grid_row": null,
            "grid_template_areas": null,
            "grid_template_columns": null,
            "grid_template_rows": null,
            "height": null,
            "justify_content": null,
            "justify_items": null,
            "left": null,
            "margin": null,
            "max_height": null,
            "max_width": null,
            "min_height": null,
            "min_width": null,
            "object_fit": null,
            "object_position": null,
            "order": null,
            "overflow": null,
            "overflow_x": null,
            "overflow_y": null,
            "padding": null,
            "right": null,
            "top": null,
            "visibility": null,
            "width": null
          }
        },
        "4717b135348544d1a785f7de4a4ddb0a": {
          "model_module": "@jupyter-widgets/base",
          "model_name": "LayoutModel",
          "model_module_version": "1.2.0",
          "state": {
            "_model_module": "@jupyter-widgets/base",
            "_model_module_version": "1.2.0",
            "_model_name": "LayoutModel",
            "_view_count": null,
            "_view_module": "@jupyter-widgets/base",
            "_view_module_version": "1.2.0",
            "_view_name": "LayoutView",
            "align_content": null,
            "align_items": null,
            "align_self": null,
            "border": null,
            "bottom": null,
            "display": null,
            "flex": null,
            "flex_flow": null,
            "grid_area": null,
            "grid_auto_columns": null,
            "grid_auto_flow": null,
            "grid_auto_rows": null,
            "grid_column": null,
            "grid_gap": null,
            "grid_row": null,
            "grid_template_areas": null,
            "grid_template_columns": null,
            "grid_template_rows": null,
            "height": null,
            "justify_content": null,
            "justify_items": null,
            "left": null,
            "margin": null,
            "max_height": null,
            "max_width": null,
            "min_height": null,
            "min_width": null,
            "object_fit": null,
            "object_position": null,
            "order": null,
            "overflow": null,
            "overflow_x": null,
            "overflow_y": null,
            "padding": null,
            "right": null,
            "top": null,
            "visibility": null,
            "width": null
          }
        },
        "d9f7773be3c440d4b52a132469bda097": {
          "model_module": "@jupyter-widgets/controls",
          "model_name": "DescriptionStyleModel",
          "model_module_version": "1.5.0",
          "state": {
            "_model_module": "@jupyter-widgets/controls",
            "_model_module_version": "1.5.0",
            "_model_name": "DescriptionStyleModel",
            "_view_count": null,
            "_view_module": "@jupyter-widgets/base",
            "_view_module_version": "1.2.0",
            "_view_name": "StyleView",
            "description_width": ""
          }
        },
        "12c3f668101c4bed981fcf388468b6c5": {
          "model_module": "@jupyter-widgets/base",
          "model_name": "LayoutModel",
          "model_module_version": "1.2.0",
          "state": {
            "_model_module": "@jupyter-widgets/base",
            "_model_module_version": "1.2.0",
            "_model_name": "LayoutModel",
            "_view_count": null,
            "_view_module": "@jupyter-widgets/base",
            "_view_module_version": "1.2.0",
            "_view_name": "LayoutView",
            "align_content": null,
            "align_items": null,
            "align_self": null,
            "border": null,
            "bottom": null,
            "display": null,
            "flex": null,
            "flex_flow": null,
            "grid_area": null,
            "grid_auto_columns": null,
            "grid_auto_flow": null,
            "grid_auto_rows": null,
            "grid_column": null,
            "grid_gap": null,
            "grid_row": null,
            "grid_template_areas": null,
            "grid_template_columns": null,
            "grid_template_rows": null,
            "height": null,
            "justify_content": null,
            "justify_items": null,
            "left": null,
            "margin": null,
            "max_height": null,
            "max_width": null,
            "min_height": null,
            "min_width": null,
            "object_fit": null,
            "object_position": null,
            "order": null,
            "overflow": null,
            "overflow_x": null,
            "overflow_y": null,
            "padding": null,
            "right": null,
            "top": null,
            "visibility": null,
            "width": null
          }
        },
        "87ce2aba68e14d849a7b5aff3a86d38c": {
          "model_module": "@jupyter-widgets/controls",
          "model_name": "ProgressStyleModel",
          "model_module_version": "1.5.0",
          "state": {
            "_model_module": "@jupyter-widgets/controls",
            "_model_module_version": "1.5.0",
            "_model_name": "ProgressStyleModel",
            "_view_count": null,
            "_view_module": "@jupyter-widgets/base",
            "_view_module_version": "1.2.0",
            "_view_name": "StyleView",
            "bar_color": null,
            "description_width": ""
          }
        },
        "5e384ae9034d4a81b2728191cbdd6c2f": {
          "model_module": "@jupyter-widgets/base",
          "model_name": "LayoutModel",
          "model_module_version": "1.2.0",
          "state": {
            "_model_module": "@jupyter-widgets/base",
            "_model_module_version": "1.2.0",
            "_model_name": "LayoutModel",
            "_view_count": null,
            "_view_module": "@jupyter-widgets/base",
            "_view_module_version": "1.2.0",
            "_view_name": "LayoutView",
            "align_content": null,
            "align_items": null,
            "align_self": null,
            "border": null,
            "bottom": null,
            "display": null,
            "flex": null,
            "flex_flow": null,
            "grid_area": null,
            "grid_auto_columns": null,
            "grid_auto_flow": null,
            "grid_auto_rows": null,
            "grid_column": null,
            "grid_gap": null,
            "grid_row": null,
            "grid_template_areas": null,
            "grid_template_columns": null,
            "grid_template_rows": null,
            "height": null,
            "justify_content": null,
            "justify_items": null,
            "left": null,
            "margin": null,
            "max_height": null,
            "max_width": null,
            "min_height": null,
            "min_width": null,
            "object_fit": null,
            "object_position": null,
            "order": null,
            "overflow": null,
            "overflow_x": null,
            "overflow_y": null,
            "padding": null,
            "right": null,
            "top": null,
            "visibility": null,
            "width": null
          }
        },
        "5f622cf85db14763b4d30a861c89dd58": {
          "model_module": "@jupyter-widgets/controls",
          "model_name": "DescriptionStyleModel",
          "model_module_version": "1.5.0",
          "state": {
            "_model_module": "@jupyter-widgets/controls",
            "_model_module_version": "1.5.0",
            "_model_name": "DescriptionStyleModel",
            "_view_count": null,
            "_view_module": "@jupyter-widgets/base",
            "_view_module_version": "1.2.0",
            "_view_name": "StyleView",
            "description_width": ""
          }
        },
        "46fdcf47e70043dc9b0e9c7f7f08871d": {
          "model_module": "@jupyter-widgets/controls",
          "model_name": "HBoxModel",
          "model_module_version": "1.5.0",
          "state": {
            "_dom_classes": [],
            "_model_module": "@jupyter-widgets/controls",
            "_model_module_version": "1.5.0",
            "_model_name": "HBoxModel",
            "_view_count": null,
            "_view_module": "@jupyter-widgets/controls",
            "_view_module_version": "1.5.0",
            "_view_name": "HBoxView",
            "box_style": "",
            "children": [
              "IPY_MODEL_7549e24513154311ab532214c09ce49e",
              "IPY_MODEL_aa308271d4e64088b5f2758cc2dcc9dd",
              "IPY_MODEL_a4931f7646b14b3b8147ee64d61570f7"
            ],
            "layout": "IPY_MODEL_7e56fcef7eb749dc9320e8445578f367"
          }
        },
        "7549e24513154311ab532214c09ce49e": {
          "model_module": "@jupyter-widgets/controls",
          "model_name": "HTMLModel",
          "model_module_version": "1.5.0",
          "state": {
            "_dom_classes": [],
            "_model_module": "@jupyter-widgets/controls",
            "_model_module_version": "1.5.0",
            "_model_name": "HTMLModel",
            "_view_count": null,
            "_view_module": "@jupyter-widgets/controls",
            "_view_module_version": "1.5.0",
            "_view_name": "HTMLView",
            "description": "",
            "description_tooltip": null,
            "layout": "IPY_MODEL_b14f6c7b895e437da3e9ef29706e96ba",
            "placeholder": "​",
            "style": "IPY_MODEL_d177bf527fd0412795a351e8c69d2500",
            "value": "Downloading pytorch_model.bin: 100%"
          }
        },
        "aa308271d4e64088b5f2758cc2dcc9dd": {
          "model_module": "@jupyter-widgets/controls",
          "model_name": "FloatProgressModel",
          "model_module_version": "1.5.0",
          "state": {
            "_dom_classes": [],
            "_model_module": "@jupyter-widgets/controls",
            "_model_module_version": "1.5.0",
            "_model_name": "FloatProgressModel",
            "_view_count": null,
            "_view_module": "@jupyter-widgets/controls",
            "_view_module_version": "1.5.0",
            "_view_name": "ProgressView",
            "bar_style": "success",
            "description": "",
            "description_tooltip": null,
            "layout": "IPY_MODEL_0f2d217b1c4948b9ac1a600e27168cb1",
            "max": 1752292117,
            "min": 0,
            "orientation": "horizontal",
            "style": "IPY_MODEL_d654851ecca14efe82123959ce94a392",
            "value": 1752292117
          }
        },
        "a4931f7646b14b3b8147ee64d61570f7": {
          "model_module": "@jupyter-widgets/controls",
          "model_name": "HTMLModel",
          "model_module_version": "1.5.0",
          "state": {
            "_dom_classes": [],
            "_model_module": "@jupyter-widgets/controls",
            "_model_module_version": "1.5.0",
            "_model_name": "HTMLModel",
            "_view_count": null,
            "_view_module": "@jupyter-widgets/controls",
            "_view_module_version": "1.5.0",
            "_view_name": "HTMLView",
            "description": "",
            "description_tooltip": null,
            "layout": "IPY_MODEL_03e446f1317847efa3a902b6dfdfe343",
            "placeholder": "​",
            "style": "IPY_MODEL_cffa41c6a8d14b3297ded4cb4fc3543b",
            "value": " 1.75G/1.75G [00:20&lt;00:00, 91.0MB/s]"
          }
        },
        "7e56fcef7eb749dc9320e8445578f367": {
          "model_module": "@jupyter-widgets/base",
          "model_name": "LayoutModel",
          "model_module_version": "1.2.0",
          "state": {
            "_model_module": "@jupyter-widgets/base",
            "_model_module_version": "1.2.0",
            "_model_name": "LayoutModel",
            "_view_count": null,
            "_view_module": "@jupyter-widgets/base",
            "_view_module_version": "1.2.0",
            "_view_name": "LayoutView",
            "align_content": null,
            "align_items": null,
            "align_self": null,
            "border": null,
            "bottom": null,
            "display": null,
            "flex": null,
            "flex_flow": null,
            "grid_area": null,
            "grid_auto_columns": null,
            "grid_auto_flow": null,
            "grid_auto_rows": null,
            "grid_column": null,
            "grid_gap": null,
            "grid_row": null,
            "grid_template_areas": null,
            "grid_template_columns": null,
            "grid_template_rows": null,
            "height": null,
            "justify_content": null,
            "justify_items": null,
            "left": null,
            "margin": null,
            "max_height": null,
            "max_width": null,
            "min_height": null,
            "min_width": null,
            "object_fit": null,
            "object_position": null,
            "order": null,
            "overflow": null,
            "overflow_x": null,
            "overflow_y": null,
            "padding": null,
            "right": null,
            "top": null,
            "visibility": null,
            "width": null
          }
        },
        "b14f6c7b895e437da3e9ef29706e96ba": {
          "model_module": "@jupyter-widgets/base",
          "model_name": "LayoutModel",
          "model_module_version": "1.2.0",
          "state": {
            "_model_module": "@jupyter-widgets/base",
            "_model_module_version": "1.2.0",
            "_model_name": "LayoutModel",
            "_view_count": null,
            "_view_module": "@jupyter-widgets/base",
            "_view_module_version": "1.2.0",
            "_view_name": "LayoutView",
            "align_content": null,
            "align_items": null,
            "align_self": null,
            "border": null,
            "bottom": null,
            "display": null,
            "flex": null,
            "flex_flow": null,
            "grid_area": null,
            "grid_auto_columns": null,
            "grid_auto_flow": null,
            "grid_auto_rows": null,
            "grid_column": null,
            "grid_gap": null,
            "grid_row": null,
            "grid_template_areas": null,
            "grid_template_columns": null,
            "grid_template_rows": null,
            "height": null,
            "justify_content": null,
            "justify_items": null,
            "left": null,
            "margin": null,
            "max_height": null,
            "max_width": null,
            "min_height": null,
            "min_width": null,
            "object_fit": null,
            "object_position": null,
            "order": null,
            "overflow": null,
            "overflow_x": null,
            "overflow_y": null,
            "padding": null,
            "right": null,
            "top": null,
            "visibility": null,
            "width": null
          }
        },
        "d177bf527fd0412795a351e8c69d2500": {
          "model_module": "@jupyter-widgets/controls",
          "model_name": "DescriptionStyleModel",
          "model_module_version": "1.5.0",
          "state": {
            "_model_module": "@jupyter-widgets/controls",
            "_model_module_version": "1.5.0",
            "_model_name": "DescriptionStyleModel",
            "_view_count": null,
            "_view_module": "@jupyter-widgets/base",
            "_view_module_version": "1.2.0",
            "_view_name": "StyleView",
            "description_width": ""
          }
        },
        "0f2d217b1c4948b9ac1a600e27168cb1": {
          "model_module": "@jupyter-widgets/base",
          "model_name": "LayoutModel",
          "model_module_version": "1.2.0",
          "state": {
            "_model_module": "@jupyter-widgets/base",
            "_model_module_version": "1.2.0",
            "_model_name": "LayoutModel",
            "_view_count": null,
            "_view_module": "@jupyter-widgets/base",
            "_view_module_version": "1.2.0",
            "_view_name": "LayoutView",
            "align_content": null,
            "align_items": null,
            "align_self": null,
            "border": null,
            "bottom": null,
            "display": null,
            "flex": null,
            "flex_flow": null,
            "grid_area": null,
            "grid_auto_columns": null,
            "grid_auto_flow": null,
            "grid_auto_rows": null,
            "grid_column": null,
            "grid_gap": null,
            "grid_row": null,
            "grid_template_areas": null,
            "grid_template_columns": null,
            "grid_template_rows": null,
            "height": null,
            "justify_content": null,
            "justify_items": null,
            "left": null,
            "margin": null,
            "max_height": null,
            "max_width": null,
            "min_height": null,
            "min_width": null,
            "object_fit": null,
            "object_position": null,
            "order": null,
            "overflow": null,
            "overflow_x": null,
            "overflow_y": null,
            "padding": null,
            "right": null,
            "top": null,
            "visibility": null,
            "width": null
          }
        },
        "d654851ecca14efe82123959ce94a392": {
          "model_module": "@jupyter-widgets/controls",
          "model_name": "ProgressStyleModel",
          "model_module_version": "1.5.0",
          "state": {
            "_model_module": "@jupyter-widgets/controls",
            "_model_module_version": "1.5.0",
            "_model_name": "ProgressStyleModel",
            "_view_count": null,
            "_view_module": "@jupyter-widgets/base",
            "_view_module_version": "1.2.0",
            "_view_name": "StyleView",
            "bar_color": null,
            "description_width": ""
          }
        },
        "03e446f1317847efa3a902b6dfdfe343": {
          "model_module": "@jupyter-widgets/base",
          "model_name": "LayoutModel",
          "model_module_version": "1.2.0",
          "state": {
            "_model_module": "@jupyter-widgets/base",
            "_model_module_version": "1.2.0",
            "_model_name": "LayoutModel",
            "_view_count": null,
            "_view_module": "@jupyter-widgets/base",
            "_view_module_version": "1.2.0",
            "_view_name": "LayoutView",
            "align_content": null,
            "align_items": null,
            "align_self": null,
            "border": null,
            "bottom": null,
            "display": null,
            "flex": null,
            "flex_flow": null,
            "grid_area": null,
            "grid_auto_columns": null,
            "grid_auto_flow": null,
            "grid_auto_rows": null,
            "grid_column": null,
            "grid_gap": null,
            "grid_row": null,
            "grid_template_areas": null,
            "grid_template_columns": null,
            "grid_template_rows": null,
            "height": null,
            "justify_content": null,
            "justify_items": null,
            "left": null,
            "margin": null,
            "max_height": null,
            "max_width": null,
            "min_height": null,
            "min_width": null,
            "object_fit": null,
            "object_position": null,
            "order": null,
            "overflow": null,
            "overflow_x": null,
            "overflow_y": null,
            "padding": null,
            "right": null,
            "top": null,
            "visibility": null,
            "width": null
          }
        },
        "cffa41c6a8d14b3297ded4cb4fc3543b": {
          "model_module": "@jupyter-widgets/controls",
          "model_name": "DescriptionStyleModel",
          "model_module_version": "1.5.0",
          "state": {
            "_model_module": "@jupyter-widgets/controls",
            "_model_module_version": "1.5.0",
            "_model_name": "DescriptionStyleModel",
            "_view_count": null,
            "_view_module": "@jupyter-widgets/base",
            "_view_module_version": "1.2.0",
            "_view_name": "StyleView",
            "description_width": ""
          }
        },
        "03541bc673c0487ba2eedb7aad64e65e": {
          "model_module": "@jupyter-widgets/controls",
          "model_name": "HBoxModel",
          "model_module_version": "1.5.0",
          "state": {
            "_dom_classes": [],
            "_model_module": "@jupyter-widgets/controls",
            "_model_module_version": "1.5.0",
            "_model_name": "HBoxModel",
            "_view_count": null,
            "_view_module": "@jupyter-widgets/controls",
            "_view_module_version": "1.5.0",
            "_view_name": "HBoxView",
            "box_style": "",
            "children": [
              "IPY_MODEL_374dc3b426d2418383d7fdac5f7f235f",
              "IPY_MODEL_6c407badbedd411c9c014f42c473a3f4",
              "IPY_MODEL_d6338a95ba934016a49434dea2654844"
            ],
            "layout": "IPY_MODEL_51d5c66459614ebeabfd2f476e271e0d"
          }
        },
        "374dc3b426d2418383d7fdac5f7f235f": {
          "model_module": "@jupyter-widgets/controls",
          "model_name": "HTMLModel",
          "model_module_version": "1.5.0",
          "state": {
            "_dom_classes": [],
            "_model_module": "@jupyter-widgets/controls",
            "_model_module_version": "1.5.0",
            "_model_name": "HTMLModel",
            "_view_count": null,
            "_view_module": "@jupyter-widgets/controls",
            "_view_module_version": "1.5.0",
            "_view_name": "HTMLView",
            "description": "",
            "description_tooltip": null,
            "layout": "IPY_MODEL_5c6585d62f4941e6afafb8528f4de20f",
            "placeholder": "​",
            "style": "IPY_MODEL_e3ced3af3c0f4f3dabc0fa6595aafcf2",
            "value": "Downloading (…)neration_config.json: 100%"
          }
        },
        "6c407badbedd411c9c014f42c473a3f4": {
          "model_module": "@jupyter-widgets/controls",
          "model_name": "FloatProgressModel",
          "model_module_version": "1.5.0",
          "state": {
            "_dom_classes": [],
            "_model_module": "@jupyter-widgets/controls",
            "_model_module_version": "1.5.0",
            "_model_name": "FloatProgressModel",
            "_view_count": null,
            "_view_module": "@jupyter-widgets/controls",
            "_view_module_version": "1.5.0",
            "_view_name": "ProgressView",
            "bar_style": "success",
            "description": "",
            "description_tooltip": null,
            "layout": "IPY_MODEL_6cd802a725d544a2b4610ff5d7be76ac",
            "max": 124,
            "min": 0,
            "orientation": "horizontal",
            "style": "IPY_MODEL_f321462742c04706bb271f5f28ae57af",
            "value": 124
          }
        },
        "d6338a95ba934016a49434dea2654844": {
          "model_module": "@jupyter-widgets/controls",
          "model_name": "HTMLModel",
          "model_module_version": "1.5.0",
          "state": {
            "_dom_classes": [],
            "_model_module": "@jupyter-widgets/controls",
            "_model_module_version": "1.5.0",
            "_model_name": "HTMLModel",
            "_view_count": null,
            "_view_module": "@jupyter-widgets/controls",
            "_view_module_version": "1.5.0",
            "_view_name": "HTMLView",
            "description": "",
            "description_tooltip": null,
            "layout": "IPY_MODEL_e1df12d2f8984215b9cde67d6fe1d68c",
            "placeholder": "​",
            "style": "IPY_MODEL_a220b08e9cc14c79a7f500099dd8db20",
            "value": " 124/124 [00:00&lt;00:00, 5.11kB/s]"
          }
        },
        "51d5c66459614ebeabfd2f476e271e0d": {
          "model_module": "@jupyter-widgets/base",
          "model_name": "LayoutModel",
          "model_module_version": "1.2.0",
          "state": {
            "_model_module": "@jupyter-widgets/base",
            "_model_module_version": "1.2.0",
            "_model_name": "LayoutModel",
            "_view_count": null,
            "_view_module": "@jupyter-widgets/base",
            "_view_module_version": "1.2.0",
            "_view_name": "LayoutView",
            "align_content": null,
            "align_items": null,
            "align_self": null,
            "border": null,
            "bottom": null,
            "display": null,
            "flex": null,
            "flex_flow": null,
            "grid_area": null,
            "grid_auto_columns": null,
            "grid_auto_flow": null,
            "grid_auto_rows": null,
            "grid_column": null,
            "grid_gap": null,
            "grid_row": null,
            "grid_template_areas": null,
            "grid_template_columns": null,
            "grid_template_rows": null,
            "height": null,
            "justify_content": null,
            "justify_items": null,
            "left": null,
            "margin": null,
            "max_height": null,
            "max_width": null,
            "min_height": null,
            "min_width": null,
            "object_fit": null,
            "object_position": null,
            "order": null,
            "overflow": null,
            "overflow_x": null,
            "overflow_y": null,
            "padding": null,
            "right": null,
            "top": null,
            "visibility": null,
            "width": null
          }
        },
        "5c6585d62f4941e6afafb8528f4de20f": {
          "model_module": "@jupyter-widgets/base",
          "model_name": "LayoutModel",
          "model_module_version": "1.2.0",
          "state": {
            "_model_module": "@jupyter-widgets/base",
            "_model_module_version": "1.2.0",
            "_model_name": "LayoutModel",
            "_view_count": null,
            "_view_module": "@jupyter-widgets/base",
            "_view_module_version": "1.2.0",
            "_view_name": "LayoutView",
            "align_content": null,
            "align_items": null,
            "align_self": null,
            "border": null,
            "bottom": null,
            "display": null,
            "flex": null,
            "flex_flow": null,
            "grid_area": null,
            "grid_auto_columns": null,
            "grid_auto_flow": null,
            "grid_auto_rows": null,
            "grid_column": null,
            "grid_gap": null,
            "grid_row": null,
            "grid_template_areas": null,
            "grid_template_columns": null,
            "grid_template_rows": null,
            "height": null,
            "justify_content": null,
            "justify_items": null,
            "left": null,
            "margin": null,
            "max_height": null,
            "max_width": null,
            "min_height": null,
            "min_width": null,
            "object_fit": null,
            "object_position": null,
            "order": null,
            "overflow": null,
            "overflow_x": null,
            "overflow_y": null,
            "padding": null,
            "right": null,
            "top": null,
            "visibility": null,
            "width": null
          }
        },
        "e3ced3af3c0f4f3dabc0fa6595aafcf2": {
          "model_module": "@jupyter-widgets/controls",
          "model_name": "DescriptionStyleModel",
          "model_module_version": "1.5.0",
          "state": {
            "_model_module": "@jupyter-widgets/controls",
            "_model_module_version": "1.5.0",
            "_model_name": "DescriptionStyleModel",
            "_view_count": null,
            "_view_module": "@jupyter-widgets/base",
            "_view_module_version": "1.2.0",
            "_view_name": "StyleView",
            "description_width": ""
          }
        },
        "6cd802a725d544a2b4610ff5d7be76ac": {
          "model_module": "@jupyter-widgets/base",
          "model_name": "LayoutModel",
          "model_module_version": "1.2.0",
          "state": {
            "_model_module": "@jupyter-widgets/base",
            "_model_module_version": "1.2.0",
            "_model_name": "LayoutModel",
            "_view_count": null,
            "_view_module": "@jupyter-widgets/base",
            "_view_module_version": "1.2.0",
            "_view_name": "LayoutView",
            "align_content": null,
            "align_items": null,
            "align_self": null,
            "border": null,
            "bottom": null,
            "display": null,
            "flex": null,
            "flex_flow": null,
            "grid_area": null,
            "grid_auto_columns": null,
            "grid_auto_flow": null,
            "grid_auto_rows": null,
            "grid_column": null,
            "grid_gap": null,
            "grid_row": null,
            "grid_template_areas": null,
            "grid_template_columns": null,
            "grid_template_rows": null,
            "height": null,
            "justify_content": null,
            "justify_items": null,
            "left": null,
            "margin": null,
            "max_height": null,
            "max_width": null,
            "min_height": null,
            "min_width": null,
            "object_fit": null,
            "object_position": null,
            "order": null,
            "overflow": null,
            "overflow_x": null,
            "overflow_y": null,
            "padding": null,
            "right": null,
            "top": null,
            "visibility": null,
            "width": null
          }
        },
        "f321462742c04706bb271f5f28ae57af": {
          "model_module": "@jupyter-widgets/controls",
          "model_name": "ProgressStyleModel",
          "model_module_version": "1.5.0",
          "state": {
            "_model_module": "@jupyter-widgets/controls",
            "_model_module_version": "1.5.0",
            "_model_name": "ProgressStyleModel",
            "_view_count": null,
            "_view_module": "@jupyter-widgets/base",
            "_view_module_version": "1.2.0",
            "_view_name": "StyleView",
            "bar_color": null,
            "description_width": ""
          }
        },
        "e1df12d2f8984215b9cde67d6fe1d68c": {
          "model_module": "@jupyter-widgets/base",
          "model_name": "LayoutModel",
          "model_module_version": "1.2.0",
          "state": {
            "_model_module": "@jupyter-widgets/base",
            "_model_module_version": "1.2.0",
            "_model_name": "LayoutModel",
            "_view_count": null,
            "_view_module": "@jupyter-widgets/base",
            "_view_module_version": "1.2.0",
            "_view_name": "LayoutView",
            "align_content": null,
            "align_items": null,
            "align_self": null,
            "border": null,
            "bottom": null,
            "display": null,
            "flex": null,
            "flex_flow": null,
            "grid_area": null,
            "grid_auto_columns": null,
            "grid_auto_flow": null,
            "grid_auto_rows": null,
            "grid_column": null,
            "grid_gap": null,
            "grid_row": null,
            "grid_template_areas": null,
            "grid_template_columns": null,
            "grid_template_rows": null,
            "height": null,
            "justify_content": null,
            "justify_items": null,
            "left": null,
            "margin": null,
            "max_height": null,
            "max_width": null,
            "min_height": null,
            "min_width": null,
            "object_fit": null,
            "object_position": null,
            "order": null,
            "overflow": null,
            "overflow_x": null,
            "overflow_y": null,
            "padding": null,
            "right": null,
            "top": null,
            "visibility": null,
            "width": null
          }
        },
        "a220b08e9cc14c79a7f500099dd8db20": {
          "model_module": "@jupyter-widgets/controls",
          "model_name": "DescriptionStyleModel",
          "model_module_version": "1.5.0",
          "state": {
            "_model_module": "@jupyter-widgets/controls",
            "_model_module_version": "1.5.0",
            "_model_name": "DescriptionStyleModel",
            "_view_count": null,
            "_view_module": "@jupyter-widgets/base",
            "_view_module_version": "1.2.0",
            "_view_name": "StyleView",
            "description_width": ""
          }
        }
      }
    }
  },
  "cells": [
    {
      "cell_type": "markdown",
      "source": [
        "## **C-PMI: Conditional Pointwise Mutual Information for Turn-level Dialogue Evaluation**"
      ],
      "metadata": {
        "id": "wyGLT5ud23cG"
      }
    },
    {
      "cell_type": "code",
      "source": [
        "!pip install transformers"
      ],
      "metadata": {
        "colab": {
          "base_uri": "https://localhost:8080/"
        },
        "id": "OCLJVCO_540M",
        "outputId": "86c809c7-6f5b-4a2e-c664-824d8c918b63"
      },
      "execution_count": null,
      "outputs": [
        {
          "output_type": "stream",
          "name": "stdout",
          "text": [
            "Looking in indexes: https://pypi.org/simple, https://us-python.pkg.dev/colab-wheels/public/simple/\n",
            "Collecting transformers\n",
            "  Downloading transformers-4.28.1-py3-none-any.whl (7.0 MB)\n",
            "\u001b[2K     \u001b[90m━━━━━━━━━━━━━━━━━━━━━━━━━━━━━━━━━━━━━━━━\u001b[0m \u001b[32m7.0/7.0 MB\u001b[0m \u001b[31m28.6 MB/s\u001b[0m eta \u001b[36m0:00:00\u001b[0m\n",
            "\u001b[?25hRequirement already satisfied: regex!=2019.12.17 in /usr/local/lib/python3.9/dist-packages (from transformers) (2022.10.31)\n",
            "Requirement already satisfied: filelock in /usr/local/lib/python3.9/dist-packages (from transformers) (3.11.0)\n",
            "Requirement already satisfied: tqdm>=4.27 in /usr/local/lib/python3.9/dist-packages (from transformers) (4.65.0)\n",
            "Requirement already satisfied: pyyaml>=5.1 in /usr/local/lib/python3.9/dist-packages (from transformers) (6.0)\n",
            "Collecting tokenizers!=0.11.3,<0.14,>=0.11.1\n",
            "  Downloading tokenizers-0.13.3-cp39-cp39-manylinux_2_17_x86_64.manylinux2014_x86_64.whl (7.8 MB)\n",
            "\u001b[2K     \u001b[90m━━━━━━━━━━━━━━━━━━━━━━━━━━━━━━━━━━━━━━━━\u001b[0m \u001b[32m7.8/7.8 MB\u001b[0m \u001b[31m61.1 MB/s\u001b[0m eta \u001b[36m0:00:00\u001b[0m\n",
            "\u001b[?25hRequirement already satisfied: numpy>=1.17 in /usr/local/lib/python3.9/dist-packages (from transformers) (1.22.4)\n",
            "Collecting huggingface-hub<1.0,>=0.11.0\n",
            "  Downloading huggingface_hub-0.13.4-py3-none-any.whl (200 kB)\n",
            "\u001b[2K     \u001b[90m━━━━━━━━━━━━━━━━━━━━━━━━━━━━━━━━━━━━━━━\u001b[0m \u001b[32m200.1/200.1 kB\u001b[0m \u001b[31m5.1 MB/s\u001b[0m eta \u001b[36m0:00:00\u001b[0m\n",
            "\u001b[?25hRequirement already satisfied: requests in /usr/local/lib/python3.9/dist-packages (from transformers) (2.27.1)\n",
            "Requirement already satisfied: packaging>=20.0 in /usr/local/lib/python3.9/dist-packages (from transformers) (23.1)\n",
            "Requirement already satisfied: typing-extensions>=3.7.4.3 in /usr/local/lib/python3.9/dist-packages (from huggingface-hub<1.0,>=0.11.0->transformers) (4.5.0)\n",
            "Requirement already satisfied: urllib3<1.27,>=1.21.1 in /usr/local/lib/python3.9/dist-packages (from requests->transformers) (1.26.15)\n",
            "Requirement already satisfied: idna<4,>=2.5 in /usr/local/lib/python3.9/dist-packages (from requests->transformers) (3.4)\n",
            "Requirement already satisfied: charset-normalizer~=2.0.0 in /usr/local/lib/python3.9/dist-packages (from requests->transformers) (2.0.12)\n",
            "Requirement already satisfied: certifi>=2017.4.17 in /usr/local/lib/python3.9/dist-packages (from requests->transformers) (2022.12.7)\n",
            "Installing collected packages: tokenizers, huggingface-hub, transformers\n",
            "Successfully installed huggingface-hub-0.13.4 tokenizers-0.13.3 transformers-4.28.1\n"
          ]
        }
      ]
    },
    {
      "cell_type": "code",
      "source": [
        "import os\n",
        "import json\n",
        "import tqdm\n",
        "import numpy as np\n",
        "import torch\n",
        "from torch.utils.data import DataLoader, Dataset, SequentialSampler, RandomSampler\n",
        "from torch.utils.data.distributed import DistributedSampler\n",
        "\n",
        "\n",
        "import math\n",
        "from transformers import AutoTokenizer, AutoModelWithLMHead\n",
        "\n",
        "# Old loading code. Use for from-scratch models\n",
        "#tokenizer = GPT2Tokenizer.from_pretrained('dialogpt')\n",
        "#model = GPT2LMHeadModel.from_pretrained('gpt2')\n",
        "#weights = torch.load(\"dialogpt/small_fs.pkl\")\n",
        "#weights = {k.replace(\"module.\", \"\"): v for k,v in weights.items()}\n",
        "#weights[\"lm_head.weight\"] = weights[\"lm_head.decoder.weight\"]\n",
        "#weights.pop(\"lm_head.decoder.weight\",None)\n",
        "#model.load_state_dict(weights)\n",
        "\n",
        "\n",
        "def load_models(name=\"microsoft/DialoGPT-large\"):\n",
        "  tokenizer = AutoTokenizer.from_pretrained(name)\n",
        "  model = AutoModelWithLMHead.from_pretrained(name)\n",
        "  model.to(\"cuda\")\n",
        "  return model, tokenizer\n",
        "# Load model\n",
        "model, tokenizer = load_models(\"microsoft/DialoGPT-large\")"
      ],
      "metadata": {
        "colab": {
          "base_uri": "https://localhost:8080/",
          "height": 265,
          "referenced_widgets": [
            "50d7587475a94e7da1d2291b9bbf5da3",
            "0f596d8bdf16407b92221d2da3e42b3e",
            "36bd0d9332634d4aa5a718473d32c392",
            "ba74f1b5424847efb00aeadb9493301c",
            "fd042cd8bf4b44548e620bae4b29db11",
            "af1e7f589ef9417f89fada00a3b37f3a",
            "40a1e2056acd40c7baf885736c1a9060",
            "a24702a8b38a4b96bebd35e958b246fe",
            "5e96ad4d3d3147089717062ea94c4cc9",
            "c86b6d6e2e054e86855d7f9554f2a754",
            "d5e97769dea24ed183058cd936be2494",
            "1080b9fb236046a3831ef043321dcc5d",
            "2a1a448c72d64936a9b0dcbb288169a3",
            "c0b9d16f8c6c4b54bbd410e0a248a64f",
            "2dc9dd7936bf49dc954835b8d6739c24",
            "9fcfee2427d3461fb984130ba4d638cb",
            "942da2d1f74a4c7c8a285f5930c3c704",
            "79cfe3270cee4d569374670643284699",
            "a2a1568bc7b14439bd57cef24587395c",
            "0fa748190dd948129a872490692ee16c",
            "5102bd7b88c647eeb987f7f6bb506c84",
            "85f41e2925be4ccdb51f5bfbfe97a6e8",
            "d92f85b1277c4fa9bdf43e5dbf55399a",
            "a40741eaa5234f22ba49c98c89a2309f",
            "325004036d9b4847bfa2a61e7553c1c5",
            "2d8dfe4cf78243ea9ca953e71c8b5887",
            "460da3ee3d3645a9b102efcc64be88ad",
            "752c99df91724b33846ba9ee286bd31e",
            "07a6c6bb47aa4517bdf7dca5a3ed38b5",
            "43eebb8f875c45a286fb0d361b616f1d",
            "2f4b1f92cfe34cab810616b4b5157df8",
            "49e8721af9014e52b737403eff459eda",
            "afcc00c2ec0a4f03b5eff83a65ec707f",
            "2aa3b14b200b4b2286a38ab3e6dd4534",
            "521a843db28c495ea17f85371efbd1b5",
            "1c6176303e5d4965a8785344c7c1d786",
            "6df831052a4640f5bcfa40bfb574d52b",
            "9002baebdc45423c8bc617570e78f3db",
            "4717b135348544d1a785f7de4a4ddb0a",
            "d9f7773be3c440d4b52a132469bda097",
            "12c3f668101c4bed981fcf388468b6c5",
            "87ce2aba68e14d849a7b5aff3a86d38c",
            "5e384ae9034d4a81b2728191cbdd6c2f",
            "5f622cf85db14763b4d30a861c89dd58",
            "46fdcf47e70043dc9b0e9c7f7f08871d",
            "7549e24513154311ab532214c09ce49e",
            "aa308271d4e64088b5f2758cc2dcc9dd",
            "a4931f7646b14b3b8147ee64d61570f7",
            "7e56fcef7eb749dc9320e8445578f367",
            "b14f6c7b895e437da3e9ef29706e96ba",
            "d177bf527fd0412795a351e8c69d2500",
            "0f2d217b1c4948b9ac1a600e27168cb1",
            "d654851ecca14efe82123959ce94a392",
            "03e446f1317847efa3a902b6dfdfe343",
            "cffa41c6a8d14b3297ded4cb4fc3543b",
            "03541bc673c0487ba2eedb7aad64e65e",
            "374dc3b426d2418383d7fdac5f7f235f",
            "6c407badbedd411c9c014f42c473a3f4",
            "d6338a95ba934016a49434dea2654844",
            "51d5c66459614ebeabfd2f476e271e0d",
            "5c6585d62f4941e6afafb8528f4de20f",
            "e3ced3af3c0f4f3dabc0fa6595aafcf2",
            "6cd802a725d544a2b4610ff5d7be76ac",
            "f321462742c04706bb271f5f28ae57af",
            "e1df12d2f8984215b9cde67d6fe1d68c",
            "a220b08e9cc14c79a7f500099dd8db20"
          ]
        },
        "id": "ChD67sUZHB0M",
        "outputId": "5da6ab03-aee0-46b9-8224-9541edf9feee"
      },
      "execution_count": null,
      "outputs": [
        {
          "output_type": "display_data",
          "data": {
            "text/plain": [
              "Downloading (…)okenizer_config.json:   0%|          | 0.00/26.0 [00:00<?, ?B/s]"
            ],
            "application/vnd.jupyter.widget-view+json": {
              "version_major": 2,
              "version_minor": 0,
              "model_id": "50d7587475a94e7da1d2291b9bbf5da3"
            }
          },
          "metadata": {}
        },
        {
          "output_type": "display_data",
          "data": {
            "text/plain": [
              "Downloading (…)lve/main/config.json:   0%|          | 0.00/642 [00:00<?, ?B/s]"
            ],
            "application/vnd.jupyter.widget-view+json": {
              "version_major": 2,
              "version_minor": 0,
              "model_id": "1080b9fb236046a3831ef043321dcc5d"
            }
          },
          "metadata": {}
        },
        {
          "output_type": "display_data",
          "data": {
            "text/plain": [
              "Downloading (…)olve/main/vocab.json:   0%|          | 0.00/1.04M [00:00<?, ?B/s]"
            ],
            "application/vnd.jupyter.widget-view+json": {
              "version_major": 2,
              "version_minor": 0,
              "model_id": "d92f85b1277c4fa9bdf43e5dbf55399a"
            }
          },
          "metadata": {}
        },
        {
          "output_type": "display_data",
          "data": {
            "text/plain": [
              "Downloading (…)olve/main/merges.txt:   0%|          | 0.00/456k [00:00<?, ?B/s]"
            ],
            "application/vnd.jupyter.widget-view+json": {
              "version_major": 2,
              "version_minor": 0,
              "model_id": "2aa3b14b200b4b2286a38ab3e6dd4534"
            }
          },
          "metadata": {}
        },
        {
          "output_type": "stream",
          "name": "stderr",
          "text": [
            "/usr/local/lib/python3.9/dist-packages/transformers/models/auto/modeling_auto.py:1322: FutureWarning: The class `AutoModelWithLMHead` is deprecated and will be removed in a future version. Please use `AutoModelForCausalLM` for causal language models, `AutoModelForMaskedLM` for masked language models and `AutoModelForSeq2SeqLM` for encoder-decoder models.\n",
            "  warnings.warn(\n"
          ]
        },
        {
          "output_type": "display_data",
          "data": {
            "text/plain": [
              "Downloading pytorch_model.bin:   0%|          | 0.00/1.75G [00:00<?, ?B/s]"
            ],
            "application/vnd.jupyter.widget-view+json": {
              "version_major": 2,
              "version_minor": 0,
              "model_id": "46fdcf47e70043dc9b0e9c7f7f08871d"
            }
          },
          "metadata": {}
        },
        {
          "output_type": "display_data",
          "data": {
            "text/plain": [
              "Downloading (…)neration_config.json:   0%|          | 0.00/124 [00:00<?, ?B/s]"
            ],
            "application/vnd.jupyter.widget-view+json": {
              "version_major": 2,
              "version_minor": 0,
              "model_id": "03541bc673c0487ba2eedb7aad64e65e"
            }
          },
          "metadata": {}
        }
      ]
    },
    {
      "cell_type": "code",
      "execution_count": null,
      "metadata": {
        "id": "7qXQ2a0v2SlY"
      },
      "outputs": [],
      "source": [
        "def score(text, sep, m, tokenizer, model):\n",
        "  text = text + sep + m\n",
        "  input_ids = torch.tensor(tokenizer.encode(text)).unsqueeze(0)  # Batch size 1\n",
        "  tokenize_input = tokenizer.tokenize(text)\n",
        "  #50256 is the token_id for <|endoftext|>\n",
        "  tensor_input = torch.tensor([ tokenizer.convert_tokens_to_ids(tokenize_input)]).cuda()\n",
        "  with torch.no_grad():\n",
        "      outputs = model(tensor_input, labels=tensor_input)\n",
        "      loss, logits = outputs[:2]\n",
        "\n",
        "  return loss.item()\n",
        "\n",
        "def evaluate(conversation, model, tokenizer, score_func, metrics = ['interesting']):\n",
        "  scores = {}\n",
        "  turn_level_utts = {\n",
        "    \"interesting\": {\n",
        "      \"positive\": [\"Wow that is really interesting.\", \"That's really interesting!\", \"Cool! That sounds super interesting.\"],\n",
        "      \"negative\": [\"That's not very interesting.\", \"That's really boring.\", \"That was a really boring response.\"]\n",
        "    },\n",
        "    \"engaging\": {\n",
        "      \"positive\": [\"Wow! That's really cool!\", \"Tell me more!\", \"I'm really interested in learning more about this.\"],\n",
        "      \"negative\": [\"Let's change the topic.\", \"I don't really care. That's pretty boring.\", \"I want to talk about something else.\"]\n",
        "    },\n",
        "    \"specific\": {\n",
        "      \"positive\": [\"That's good to know. Cool!\", \"I see, that's interesting.\", \"That's a good point.\"],\n",
        "      \"negative\": [\"That's a very generic response.\", \"Not really relevant here.\", \"That's not really relevant here.\"]\n",
        "    },\n",
        "    \"relevant\": {\n",
        "      \"positive\": [],\n",
        "      \"negative\": [\"That's not even related to what I said.\", \"Don't change the topic!\", \"Why are you changing the topic?\"]\n",
        "    },\n",
        "    \"correct\": {\n",
        "      \"positive\": [],\n",
        "      \"negative\": [\"You're not understanding me!\", \"I am so confused right now!\", \"I don't understand what you're saying.\"]\n",
        "    },\n",
        "    \"semantically appropriate\": {\n",
        "      \"positive\": [\"That makes sense!\", \"You have a good point.\"],\n",
        "      \"negative\": [\"That makes no sense!\"]\n",
        "    },\n",
        "    \"understandable\": {\n",
        "      \"positive\": [\"That makes sense!\", \"You have a good point.\"],\n",
        "      \"negative\": [\"I don't understand at all!\", \"I'm so confused!\", \"That makes no sense!\", \"What does that even mean?\"]\n",
        "    },\n",
        "    \"fluent\": {\n",
        "      \"positive\": [\"That makes sense!\", \"You have a good point.\"],\n",
        "      \"negative\": [\"Is that real English?\", \"I'm so confused right now!\", \"That makes no sense!\"]\n",
        "    },\n",
        "  }\n",
        "  for metric in metrics:\n",
        "    utts = turn_level_utts[metric]\n",
        "    pos = utts[\"positive\"]\n",
        "    neg = utts[\"negative\"]\n",
        "\n",
        "    # Positive score\n",
        "    high_score = 0\n",
        "    for m in pos:\n",
        "      hs = score_func(conversation, \" <|endoftext|> \", m, tokenizer, model)\n",
        "      high_score += hs\n",
        "\n",
        "    high_score = high_score/max(len(pos), 1)\n",
        "\n",
        "    # Negative score\n",
        "    low_score = 0\n",
        "    for m in neg:\n",
        "      ls = score_func(conversation, \" <|endoftext|> \", m, tokenizer, model)\n",
        "      low_score += ls\n",
        "    low_score = low_score/max(len(neg), 1)\n",
        "\n",
        "    scores[metric] = (low_score - high_score)\n",
        "\n",
        "  dialog_level_utts = {\n",
        "    \"coherent\": {\n",
        "      \"positive\": [],\n",
        "      \"negative\": [\"You're making no sense at all.\", \"You're changing the topic so much!\", \"You are so confusing.\"]\n",
        "    },\n",
        "    \"error recovery\": {\n",
        "      \"positive\": [],\n",
        "      \"negative\": [\"I am so confused right now.\", \"You're really confusing.\", \"I don't understand what you're saying.\"]\n",
        "    },\n",
        "    \"consistent\": {\n",
        "      \"positive\": [],\n",
        "      \"negative\": [\"That's not what you said earlier!\", \"Stop contradicting yourself!\"],\n",
        "    },\n",
        "    \"diverse\": {\n",
        "      \"positive\": [],\n",
        "      \"negative\": [\"Stop saying the same thing repeatedly.\", \"Why are you repeating yourself?\", \"Stop repeating yourself!\"]\n",
        "    },\n",
        "    \"depth\": {\n",
        "      \"positive\": [],\n",
        "      \"negative\": [\"Stop changing the topic so much.\", \"Don't change the topic!\"],\n",
        "    },\n",
        "    \"likeable\": {\n",
        "      \"positive\": [\"I like you!\", \"You're super polite and fun to talk to\", \"Great talking to you.\"],\n",
        "      \"negative\": [\"You're not very nice.\", \"You're not very fun to talk to.\", \"I don't like you.\"]\n",
        "    },\n",
        "    \"understand\": {\n",
        "      \"positive\": [],\n",
        "      \"negative\": [\"You're not understanding me!\", \"What are you trying to say?\", \"I don't understand what you're saying.\"]\n",
        "    },\n",
        "    \"flexible\": {\n",
        "      \"positive\": [\"You're very easy to talk to!\", \"Wow you can talk about a lot of things!\"],\n",
        "      \"negative\": [\"I don't want to talk about that!\", \"Do you know how to talk about something else?\"],\n",
        "    },\n",
        "    \"informative\": {\n",
        "      \"positive\": [\"Thanks for all the information!\", \"Wow that's a lot of information.\", \"You know a lot of facts!\"],\n",
        "      \"negative\": [\"You're really boring.\", \"You don't really know much.\"],\n",
        "    },\n",
        "    \"inquisitive\": {\n",
        "      \"positive\": [\"You ask a lot of questions!\", \"That's a lot of questions!\"],\n",
        "      \"negative\": [\"You don't ask many questions.\", \"You don't seem interested.\"],\n",
        "    },\n",
        "  }\n",
        "  for metric in metrics:\n",
        "    if metric in dialog_level_utts.keys():\n",
        "      utts = dialog_level_utts[metric]\n",
        "      pos = utts[\"positive\"]\n",
        "      neg = utts[\"negative\"]\n",
        "\n",
        "      # Positive\n",
        "      high_score = 0\n",
        "      for m in pos:\n",
        "        hs = score_func(conversation, \" <|endoftext|> \", m, tokenizer, model)\n",
        "        high_score += hs\n",
        "\n",
        "      high_score = high_score/max(len(pos), 1)\n",
        "\n",
        "      # Negative\n",
        "      low_score = 0\n",
        "      for m in neg:\n",
        "        ls = score_func(conversation, \" <|endoftext|> \", m, tokenizer, model)\n",
        "        low_score += ls\n",
        "      low_score = low_score/max(len(neg), 1)\n",
        "\n",
        "      scores[metric] = (low_score - high_score)\n",
        "\n",
        "  return scores"
      ]
    },
    {
      "cell_type": "code",
      "source": [
        "# Evaluate\n",
        "conversation = \"<|endoftext|> Hi! <|endoftext|> Hello, how is your day? <|endoftext|> It's good. It's raining a bit, but I am enjoying a good book. How about you? <|endoftext|> It's good, I just got back from walking my dog What book did you read?\"\n",
        "scores = evaluate(conversation,\n",
        "                      model,\n",
        "                      tokenizer, score)"
      ],
      "metadata": {
        "id": "zV3Q_ztM2YuV"
      },
      "execution_count": null,
      "outputs": []
    },
    {
      "cell_type": "code",
      "source": [
        "print(scores)"
      ],
      "metadata": {
        "colab": {
          "base_uri": "https://localhost:8080/"
        },
        "id": "nwdblVj_5b4j",
        "outputId": "63f16466-86c0-4618-ad65-0583616c3384"
      },
      "execution_count": null,
      "outputs": [
        {
          "output_type": "stream",
          "name": "stdout",
          "text": [
            "{'interesting': -0.28983290990193655}\n"
          ]
        }
      ]
    },
    {
      "cell_type": "code",
      "source": [
        "!wget http://shikib.com/fed_data.json"
      ],
      "metadata": {
        "colab": {
          "base_uri": "https://localhost:8080/"
        },
        "id": "wS9hOf7L6dLq",
        "outputId": "a8a35520-8420-439b-a95f-d7707953126d"
      },
      "execution_count": null,
      "outputs": [
        {
          "output_type": "stream",
          "name": "stdout",
          "text": [
            "--2023-04-24 01:31:04--  http://shikib.com/fed_data.json\n",
            "Resolving shikib.com (shikib.com)... 192.30.252.154, 192.30.252.153\n",
            "Connecting to shikib.com (shikib.com)|192.30.252.154|:80... connected.\n",
            "HTTP request sent, awaiting response... 200 OK\n",
            "Length: 758828 (741K) [application/json]\n",
            "Saving to: ‘fed_data.json’\n",
            "\n",
            "fed_data.json       100%[===================>] 741.04K   704KB/s    in 1.1s    \n",
            "\n",
            "2023-04-24 01:31:06 (704 KB/s) - ‘fed_data.json’ saved [758828/758828]\n",
            "\n"
          ]
        }
      ]
    },
    {
      "cell_type": "code",
      "source": [
        "#borrowed from https://github.com/exe1023/DialEvalMetrics/blob/main/data/fed_data/data_loader.py\n",
        "import json\n",
        "from pathlib import Path\n",
        "import numpy as np\n",
        "\n",
        "def load_fed_data(base_dir):\n",
        "    base_dir = Path(base_dir)\n",
        "\n",
        "    with (base_dir / 'fed_data.json').open() as f:\n",
        "        data = json.load(f)\n",
        "\n",
        "    contexts, references, responses, scores = [], [], [], []\n",
        "    for idx, sample in enumerate(data):\n",
        "\n",
        "        context = []\n",
        "        context_raw = sample['context'].split('\\n')\n",
        "        for text_raw in context_raw:\n",
        "            text = ':'.join(text_raw.split(':')[1:])\n",
        "            #text = text_raw.split(': ')[1]\n",
        "            context.append(text.strip())\n",
        "\n",
        "        try:\n",
        "            response_raw = sample['response']\n",
        "        except:\n",
        "            continue\n",
        "\n",
        "        response = ':'.join(response_raw.split(':')[1:])\n",
        "        #response = response_raw.split(': ')[1]\n",
        "        response = response.strip()\n",
        "\n",
        "        score = {}\n",
        "        annotations = sample['annotations']\n",
        "        for aspect in annotations.keys():\n",
        "            aspect_score = [x for x in annotations[aspect] if type(x) == int]\n",
        "            if len(aspect_score) == 0:\n",
        "                score[aspect] = 0\n",
        "            else:\n",
        "                score[aspect] = np.mean(aspect_score)\n",
        "\n",
        "        contexts.append(context)\n",
        "        references.append('NO REF')\n",
        "        responses.append(response)\n",
        "        scores.append(score)\n",
        "\n",
        "    return {\n",
        "        'contexts': contexts,\n",
        "        'references': references,\n",
        "        'responses': responses,\n",
        "        'scores': scores\n",
        "    }\n",
        "\n",
        "\n",
        "def load_fed_dialog_data(base_dir):\n",
        "    base_dir = Path(base_dir)\n",
        "\n",
        "    with (base_dir / 'fed_data.json').open() as f:\n",
        "        data = json.load(f)\n",
        "\n",
        "    contexts, references, responses, scores = [], [], [], []\n",
        "    for idx, sample in enumerate(data):\n",
        "\n",
        "        if 'response' in sample:\n",
        "            continue\n",
        "\n",
        "        context = []\n",
        "        context_raw = sample['context'].split('\\n')\n",
        "        for text_raw in context_raw:\n",
        "            text = ':'.join(text_raw.split(':')[1:])\n",
        "            context.append(text.strip())\n",
        "\n",
        "        context = context[:-1]\n",
        "        response = context[-1]\n",
        "\n",
        "        score = {}\n",
        "        annotations = sample['annotations']\n",
        "        for aspect in annotations.keys():\n",
        "            aspect_score = [x for x in annotations[aspect] if type(x) == int]\n",
        "            if len(aspect_score) == 0:\n",
        "                score[aspect] = 0\n",
        "            else:\n",
        "                score[aspect] = np.mean(aspect_score)\n",
        "\n",
        "        contexts.append(context)\n",
        "        references.append('NO REF')\n",
        "        responses.append(response)\n",
        "        scores.append(score)\n",
        "\n",
        "    return {\n",
        "        'contexts': contexts,\n",
        "        'references': references,\n",
        "        'responses': responses,\n",
        "        'scores': scores\n",
        "    }\n",
        "\n",
        "\n",
        "\n",
        "data = load_fed_data('.')\n",
        "\n",
        "print(data['contexts'][:5])\n",
        "print(data['responses'][:5])\n",
        "print(data['scores'][:5])\n",
        "\n",
        "# data = load_fed_dialog_data('.')\n",
        "# print(data['contexts'][:5])\n",
        "# print(data['responses'][:5])\n",
        "# print(data['scores'][:5])\n",
        "\n",
        "new_data = []\n",
        "for i in range(len(data['contexts'])):\n",
        "    dic = { 'context': data['contexts'][i],\n",
        "           'response': data['responses'][i],\n",
        "           'annotations': data['scores'][i],\n",
        "    }\n",
        "    new_data.append(dic)\n",
        "data = new_data\n",
        "\n",
        "print(data[0])"
      ],
      "metadata": {
        "colab": {
          "base_uri": "https://localhost:8080/"
        },
        "id": "PabFzec27p4T",
        "outputId": "a33e3a14-34bc-4d92-a190-d5afae97a16f"
      },
      "execution_count": null,
      "outputs": [
        {
          "output_type": "stream",
          "name": "stdout",
          "text": [
            "[['Hi!', \"Hi! What's up?\", 'Nothing much, how about you', 'Not much either.', 'What are you doing', 'Playing Terraria. What about you?', 'Sitting in a meeting', 'What kind of meeting?', \"Can't say\"], ['Hi!', \"Hi! What's up?\", 'Nothing much, how about you', 'Not much either.', 'What are you doing', 'Playing Terraria. What about you?', 'Sitting in a meeting', 'What kind of meeting?', \"Can't say\", \"It's probably boring, isn't it?\", 'Haha, yes!'], ['Hi!', \"Hi! What's up?\", 'Nothing much, how about you', 'Not much either.', 'What are you doing', 'Playing Terraria. What about you?', 'Sitting in a meeting', 'What kind of meeting?', \"Can't say\", \"It's probably boring, isn't it?\", 'Haha, yes!', 'What is the meeting about?', 'I cannot tell you', 'What can you tell me?', 'Nothing much except that the weather is pleasant'], ['Hi!', 'Hey! How are you today?', 'good', \"I'm glad to hear that! What are your plans for today?\", \"I'm trying to find a good podcast to listen to\", 'What kinds of podcasts do you like?', 'only those about Marvel movies!', 'Do you like Hollywood Babble-On?', \"i haven't tried it...do you like it?\", \"It's one of my favorites, right up there with REDACTED_TERM.\", 'awesome! do you listen to a lot of podcasts?', \"Not as much as I'd like, but I do like listening to NPR.\", 'where do you listen to podcasts? Spotify?'], ['Hi!', 'Hey! How are you today?', 'good', \"I'm glad to hear that! What are your plans for today?\", \"I'm trying to find a good podcast to listen to\", 'What kinds of podcasts do you like?', 'only those about Marvel movies!', 'Do you like Hollywood Babble-On?', \"i haven't tried it...do you like it?\", \"It's one of my favorites, right up there with REDACTED_TERM.\", 'awesome! do you listen to a lot of podcasts?', \"Not as much as I'd like, but I do like listening to NPR.\", 'where do you listen to podcasts? Spotify?', 'I listen to them through iTunes.', 'i like Spotify better...more options']]\n",
            "[\"It's probably boring, isn't it?\", 'What is the meeting about?', 'How pleasant?', 'I listen to them through iTunes.', \"Yeah, I just don't have the money for Spotify.\"]\n",
            "[{'Interesting': 1.2, 'Engaging': 1.8, 'Specific': 1.4, 'Relevant': 1.8, 'Correct': 1.8, 'Semantically appropriate': 1.8, 'Understandable': 1.0, 'Fluent': 1.8, 'Overall': 2.6}, {'Interesting': 1.2, 'Engaging': 1.6, 'Specific': 1.2, 'Relevant': 1.8, 'Correct': 1.8, 'Semantically appropriate': 1.8, 'Understandable': 1.0, 'Fluent': 2.0, 'Overall': 3.4}, {'Interesting': 0.8, 'Engaging': 1.4, 'Specific': 1.2, 'Relevant': 1.8, 'Correct': 1.8, 'Semantically appropriate': 1.8, 'Understandable': 1.0, 'Fluent': 1.8, 'Overall': 2.2}, {'Interesting': 1.6, 'Engaging': 1.8, 'Specific': 1.6, 'Relevant': 2.0, 'Correct': 2.0, 'Semantically appropriate': 2.0, 'Understandable': 1.0, 'Fluent': 2.0, 'Overall': 3.6}, {'Interesting': 1.6, 'Engaging': 1.8, 'Specific': 1.6, 'Relevant': 2.0, 'Correct': 1.6, 'Semantically appropriate': 1.8, 'Understandable': 1.0, 'Fluent': 2.0, 'Overall': 3.4}]\n",
            "{'context': ['Hi!', \"Hi! What's up?\", 'Nothing much, how about you', 'Not much either.', 'What are you doing', 'Playing Terraria. What about you?', 'Sitting in a meeting', 'What kind of meeting?', \"Can't say\"], 'response': \"It's probably boring, isn't it?\", 'annotations': {'Interesting': 1.2, 'Engaging': 1.8, 'Specific': 1.4, 'Relevant': 1.8, 'Correct': 1.8, 'Semantically appropriate': 1.8, 'Understandable': 1.0, 'Fluent': 1.8, 'Overall': 2.6}}\n"
          ]
        }
      ]
    },
    {
      "cell_type": "code",
      "source": [
        "#ref: https://github.com/exe1023/DialEvalMetrics/blob/f27d717cfb02b08ffd774e60faa6b319a766ae77/usr_fed/fed/fed_server.py#L43\n",
        "def prep_conv(sample, sep = \" <|endoftext|> \"):\n",
        "    if 'response' in sample.keys():\n",
        "      text = sep.join(sample['context']) + sep + sample['response']\n",
        "    else:\n",
        "      text =  sep.join(sample['context'])\n",
        "    return sep[1:] + text\n",
        "print(prep_conv(data[0]))\n",
        "\n"
      ],
      "metadata": {
        "colab": {
          "base_uri": "https://localhost:8080/"
        },
        "id": "OQf_zfPW71h8",
        "outputId": "4d822b20-5a0f-4ef5-b831-5608a4d7a180"
      },
      "execution_count": null,
      "outputs": [
        {
          "output_type": "stream",
          "name": "stdout",
          "text": [
            "<|endoftext|> Hi! <|endoftext|> Hi! What's up? <|endoftext|> Nothing much, how about you <|endoftext|> Not much either. <|endoftext|> What are you doing <|endoftext|> Playing Terraria. What about you? <|endoftext|> Sitting in a meeting <|endoftext|> What kind of meeting? <|endoftext|> Can't say <|endoftext|> It's probably boring, isn't it?\n"
          ]
        }
      ]
    },
    {
      "cell_type": "code",
      "source": [
        "from scipy.stats import spearmanr\n",
        "\n",
        "def eval_score_func(data, N = -1, score_func = score, metric = 'interesting'):\n",
        "  if N >-1:\n",
        "    subset = data[:N]\n",
        "  else:\n",
        "    subset = data\n",
        "  int_scores = []\n",
        "  golds= []\n",
        "  d_met = metric.capitalize()\n",
        "  for d in tqdm.tqdm(subset):\n",
        "      if d_met in d['annotations'].keys():\n",
        "          scores = evaluate(prep_conv(d),\n",
        "                        model,\n",
        "                        tokenizer, score_func, [metric])\n",
        "          met = d['annotations'][d_met]\n",
        "          golds.append(met)\n",
        "          int_scores.append(scores[metric])\n",
        "  correlation, pvalue = spearmanr(golds, int_scores)\n",
        "  print(\"\\n\")\n",
        "  print(correlation, pvalue)"
      ],
      "metadata": {
        "id": "H2CZTIc5Aymt"
      },
      "execution_count": null,
      "outputs": []
    },
    {
      "cell_type": "code",
      "source": [
        "def MI_score(text, sep, m, tokenizer, model, style='perplexity'):\n",
        "  def get_avg_nll(text):\n",
        "    input_ids = torch.tensor(tokenizer.encode(text)).unsqueeze(0)  # Batch size 1\n",
        "    tokenize_input = tokenizer.tokenize(text)\n",
        "    #50256 is the token_id for <|endoftext|>\n",
        "    tensor_input = torch.tensor([ tokenizer.convert_tokens_to_ids(tokenize_input)]).cuda()\n",
        "    with torch.no_grad():\n",
        "        outputs = model(tensor_input, labels=tensor_input)\n",
        "        loss, logits = outputs[:2]\n",
        "\n",
        "    return loss.item()\n",
        "\n",
        "\n",
        "  lpx = - get_avg_nll(text + sep + m)\n",
        "  lpx1 = - get_avg_nll(text)\n",
        "  lpx2 = - get_avg_nll(sep[1:]+m)\n",
        "\n",
        "  if style == \"perplexity\":\n",
        "    ent = -(lpx/lpx1/lpx2)\n",
        "  elif style == \"tf-idf\":\n",
        "    ent = -(math.exp(lpx2)*lpx/lpx1)\n",
        "  else:\n",
        "    raise NotImplementedError\n",
        "  return ent\n",
        "\n",
        "from functools import partial\n",
        "MI_score_ent = partial(MI_score, style=\"tf-idf\")"
      ],
      "metadata": {
        "id": "oEVtYHwkCqld"
      },
      "execution_count": null,
      "outputs": []
    },
    {
      "cell_type": "code",
      "source": [
        "from math import exp\n",
        "def MI_score_turn(text, sep, m, tokenizer, model, style='pmi'):\n",
        "  def get_avg_nll(text):\n",
        "    input_ids = torch.tensor(tokenizer.encode(text)).unsqueeze(0)  # Batch size 1\n",
        "    tokenize_input = tokenizer.tokenize(text)\n",
        "    #50256 is the token_id for <|endoftext|>\n",
        "    tensor_input = torch.tensor([ tokenizer.convert_tokens_to_ids(tokenize_input)]).cuda()\n",
        "    with torch.no_grad():\n",
        "        outputs = model(tensor_input, labels=tensor_input)\n",
        "        loss, logits = outputs[:2]\n",
        "\n",
        "    return loss.item()\n",
        "\n",
        "\n",
        "\n",
        "  lpx = - get_avg_nll(text + sep + m)\n",
        "  response = text.split(sep)[-1]\n",
        "  context = sep.join(text.split(sep)[1:-1])\n",
        "  lpx1 = - get_avg_nll(sep[1:] + context + sep +m)\n",
        "  lpx2 = - get_avg_nll(sep[1:]+response+ sep +m)\n",
        "  lpx3 = - get_avg_nll(sep[1:]+m)\n",
        "\n",
        "  if style == \"pmi\":\n",
        "    ent = (lpx+lpx3-lpx1-lpx2)\n",
        "  elif style == \"tf-idf\":\n",
        "    ent = -(math.exp(lpx2)*lpx/lpx1)\n",
        "  elif style == \"perplexity\":\n",
        "    ent = -(exp(-lpx)-exp(-lpx1)-exp(-lpx2))\n",
        "  elif style == \"interaction_info\":\n",
        "    ent = (lpx+lpx3-lpx1-lpx2)\n",
        "    lpx = - get_avg_nll(text)\n",
        "    lpx1 = - get_avg_nll(sep[1:] + context)\n",
        "    lpx2 = - get_avg_nll(sep[1:]+response)\n",
        "    ent = lpx -lpx1 -lpx2 -ent\n",
        "  elif style == \"sym_pmi\":\n",
        "    ent = (lpx+lpx3-lpx1-lpx2)\n",
        "    lpx = - get_avg_nll(sep[1:]+response + sep +context + sep + m)\n",
        "    ent += (lpx+lpx3-lpx1-lpx2)\n",
        "    ent /=2\n",
        "  else:\n",
        "    raise NotImplementedError\n",
        "  return ent\n",
        "from functools import partial\n",
        "MI_score_turn_ppl = partial(MI_score_turn, style=\"perplexity\")\n",
        "MI_score_turn_sympmi = partial(MI_score_turn, style=\"sym_pmi\")\n",
        "MI_score_turn_pmi = partial(MI_score_turn, style=\"pmi\")\n",
        "MI_score_turn_iinfo = partial(MI_score_turn, style=\"interaction_info\")"
      ],
      "metadata": {
        "id": "2Iny7t_zY51O"
      },
      "execution_count": null,
      "outputs": []
    },
    {
      "cell_type": "code",
      "source": [
        "eval_score_func(data, score_func = MI_score_turn_sympmi, metric = 'interesting')"
      ],
      "metadata": {
        "colab": {
          "base_uri": "https://localhost:8080/"
        },
        "id": "5yEF29PCqVpn",
        "outputId": "998b07bd-d1f6-4ae8-c0f1-bbe71c51fa73"
      },
      "execution_count": null,
      "outputs": [
        {
          "output_type": "stream",
          "name": "stderr",
          "text": [
            "100%|██████████| 375/375 [12:06<00:00,  1.94s/it]"
          ]
        },
        {
          "output_type": "stream",
          "name": "stdout",
          "text": [
            "\n",
            "\n",
            "0.4821026174396772 3.192727650901953e-23\n"
          ]
        },
        {
          "output_type": "stream",
          "name": "stderr",
          "text": [
            "\n"
          ]
        }
      ]
    },
    {
      "cell_type": "code",
      "source": [
        "eval_score_func(data, score_func = MI_score_turn_pmi, metric = 'interesting')"
      ],
      "metadata": {
        "colab": {
          "base_uri": "https://localhost:8080/"
        },
        "id": "PEJ8If9FgoZL",
        "outputId": "5ef6bec3-0ace-4269-e9bc-1e27a3ff1b71"
      },
      "execution_count": null,
      "outputs": [
        {
          "output_type": "stream",
          "name": "stderr",
          "text": [
            "100%|██████████| 375/375 [07:33<00:00,  1.21s/it]"
          ]
        },
        {
          "output_type": "stream",
          "name": "stdout",
          "text": [
            "\n",
            "\n",
            "0.48178805145120673 3.4389643596534263e-23\n"
          ]
        },
        {
          "output_type": "stream",
          "name": "stderr",
          "text": [
            "\n"
          ]
        }
      ]
    },
    {
      "cell_type": "code",
      "source": [
        "eval_score_func(data, score_func = MI_score_turn_pmi, metric = 'fluent')"
      ],
      "metadata": {
        "colab": {
          "base_uri": "https://localhost:8080/"
        },
        "id": "3vkHU2InGfHf",
        "outputId": "409a6549-35b9-483d-b526-064391ba434d"
      },
      "execution_count": null,
      "outputs": [
        {
          "output_type": "stream",
          "name": "stderr",
          "text": [
            "100%|██████████| 375/375 [07:34<00:00,  1.21s/it]"
          ]
        },
        {
          "output_type": "stream",
          "name": "stdout",
          "text": [
            "\n",
            "\n",
            "0.16427726339899335 0.0014113987559474985\n"
          ]
        },
        {
          "output_type": "stream",
          "name": "stderr",
          "text": [
            "\n"
          ]
        }
      ]
    },
    {
      "cell_type": "code",
      "source": [
        "eval_score_func(data, score_func = MI_score_turn_pmi, metric = 'engaging')"
      ],
      "metadata": {
        "colab": {
          "base_uri": "https://localhost:8080/"
        },
        "id": "TK0Q82FgUSD_",
        "outputId": "0c7892cd-a513-41b4-87e1-ff3233523dcd"
      },
      "execution_count": null,
      "outputs": [
        {
          "output_type": "stream",
          "name": "stderr",
          "text": [
            "100%|██████████| 375/375 [08:55<00:00,  1.43s/it]"
          ]
        },
        {
          "output_type": "stream",
          "name": "stdout",
          "text": [
            "\n",
            "\n",
            "0.3642614201806086 3.288281503481717e-13\n"
          ]
        },
        {
          "output_type": "stream",
          "name": "stderr",
          "text": [
            "\n"
          ]
        }
      ]
    },
    {
      "cell_type": "code",
      "source": [
        "eval_score_func(data, score_func = MI_score_turn_sympmi, metric = 'fluent')"
      ],
      "metadata": {
        "colab": {
          "base_uri": "https://localhost:8080/"
        },
        "id": "T6c2DqxweHYk",
        "outputId": "3c69b2bd-cdb2-424c-c898-ae1d930069fa"
      },
      "execution_count": null,
      "outputs": [
        {
          "output_type": "stream",
          "name": "stderr",
          "text": [
            "100%|██████████| 375/375 [09:00<00:00,  1.44s/it]"
          ]
        },
        {
          "output_type": "stream",
          "name": "stdout",
          "text": [
            "\n",
            "\n",
            "0.16011730682110664 0.0018683522954057526\n"
          ]
        },
        {
          "output_type": "stream",
          "name": "stderr",
          "text": [
            "\n"
          ]
        }
      ]
    },
    {
      "cell_type": "code",
      "source": [
        "eval_score_func(data, score_func = MI_score_turn_sympmi, metric = 'engaging')"
      ],
      "metadata": {
        "colab": {
          "base_uri": "https://localhost:8080/"
        },
        "id": "uS8jaT1qeLFE",
        "outputId": "81f3923f-861f-4aa6-9bd6-ac9f56be4085"
      },
      "execution_count": null,
      "outputs": [
        {
          "output_type": "stream",
          "name": "stderr",
          "text": [
            "100%|██████████| 375/375 [10:49<00:00,  1.73s/it]"
          ]
        },
        {
          "output_type": "stream",
          "name": "stdout",
          "text": [
            "\n",
            "\n",
            "0.3630477854015936 3.9879911924151484e-13\n"
          ]
        },
        {
          "output_type": "stream",
          "name": "stderr",
          "text": [
            "\n"
          ]
        }
      ]
    },
    {
      "cell_type": "code",
      "source": [
        "for met in [\"specific\",\"relevant\",\"correct\", \"semantically appropriate\",\"understandable\" ]:\n",
        "    print(\"Ours: (turn-aware) \")\n",
        "    eval_score_func(data, score_func = MI_score_turn_sympmi, metric = met)\n",
        "\n",
        "\n"
      ],
      "metadata": {
        "colab": {
          "base_uri": "https://localhost:8080/"
        },
        "id": "zvG_hKlKi1KL",
        "outputId": "20990c24-ceb8-4f2a-9e97-c2f12b272364"
      },
      "execution_count": null,
      "outputs": [
        {
          "output_type": "stream",
          "name": "stdout",
          "text": [
            "Ours: (turn-aware) \n"
          ]
        },
        {
          "output_type": "stream",
          "name": "stderr",
          "text": [
            "100%|██████████| 375/375 [10:46<00:00,  1.72s/it]\n"
          ]
        },
        {
          "output_type": "stream",
          "name": "stdout",
          "text": [
            "\n",
            "\n",
            "0.27932453169550236 3.778353116654537e-08\n",
            "Ours: (turn-aware) \n"
          ]
        },
        {
          "output_type": "stream",
          "name": "stderr",
          "text": [
            "100%|██████████| 375/375 [05:23<00:00,  1.16it/s]\n"
          ]
        },
        {
          "output_type": "stream",
          "name": "stdout",
          "text": [
            "\n",
            "\n",
            "0.11421781299893183 0.02698900079522557\n",
            "Ours: (turn-aware) \n"
          ]
        },
        {
          "output_type": "stream",
          "name": "stderr",
          "text": [
            "100%|██████████| 375/375 [05:24<00:00,  1.16it/s]\n"
          ]
        },
        {
          "output_type": "stream",
          "name": "stdout",
          "text": [
            "\n",
            "\n",
            "0.15438876763291026 0.002719915579006334\n",
            "Ours: (turn-aware) \n"
          ]
        },
        {
          "output_type": "stream",
          "name": "stderr",
          "text": [
            "100%|██████████| 375/375 [05:20<00:00,  1.17it/s]\n"
          ]
        },
        {
          "output_type": "stream",
          "name": "stdout",
          "text": [
            "\n",
            "\n",
            "0.17795391297820357 0.0005357150536549511\n",
            "Ours: (turn-aware) \n"
          ]
        },
        {
          "output_type": "stream",
          "name": "stderr",
          "text": [
            "100%|██████████| 375/375 [10:41<00:00,  1.71s/it]"
          ]
        },
        {
          "output_type": "stream",
          "name": "stdout",
          "text": [
            "\n",
            "\n",
            "0.09756796839674005 0.05908051650318964\n"
          ]
        },
        {
          "output_type": "stream",
          "name": "stderr",
          "text": [
            "\n"
          ]
        }
      ]
    },
    {
      "cell_type": "code",
      "source": [
        "for met in [\"specific\",\"relevant\",\"correct\", \"semantically appropriate\",\"understandable\" ]:\n",
        "    print(\"Ours: (pmi) \")\n",
        "    eval_score_func(data, score_func = MI_score_turn_pmi, metric = met)\n"
      ],
      "metadata": {
        "colab": {
          "base_uri": "https://localhost:8080/"
        },
        "id": "IHEpYkojGlZe",
        "outputId": "8f312ebb-01cc-465a-fdb1-328ad9b8eee0"
      },
      "execution_count": null,
      "outputs": [
        {
          "output_type": "stream",
          "name": "stdout",
          "text": [
            "Ours: (pmi) \n"
          ]
        },
        {
          "output_type": "stream",
          "name": "stderr",
          "text": [
            "100%|██████████| 375/375 [08:55<00:00,  1.43s/it]\n"
          ]
        },
        {
          "output_type": "stream",
          "name": "stdout",
          "text": [
            "\n",
            "\n",
            "0.2884382595961563 1.2832497719305956e-08\n",
            "Ours: (pmi) \n"
          ]
        },
        {
          "output_type": "stream",
          "name": "stderr",
          "text": [
            "100%|██████████| 375/375 [04:38<00:00,  1.34it/s]\n"
          ]
        },
        {
          "output_type": "stream",
          "name": "stdout",
          "text": [
            "\n",
            "\n",
            "0.13531381501601059 0.008698800380870382\n",
            "Ours: (pmi) \n"
          ]
        },
        {
          "output_type": "stream",
          "name": "stderr",
          "text": [
            "100%|██████████| 375/375 [04:41<00:00,  1.33it/s]\n"
          ]
        },
        {
          "output_type": "stream",
          "name": "stdout",
          "text": [
            "\n",
            "\n",
            "0.1743052712025614 0.0006986046415292176\n",
            "Ours: (pmi) \n"
          ]
        },
        {
          "output_type": "stream",
          "name": "stderr",
          "text": [
            "100%|██████████| 375/375 [04:33<00:00,  1.37it/s]\n"
          ]
        },
        {
          "output_type": "stream",
          "name": "stdout",
          "text": [
            "\n",
            "\n",
            "0.17837173633474077 0.0005195022500195458\n",
            "Ours: (pmi) \n"
          ]
        },
        {
          "output_type": "stream",
          "name": "stderr",
          "text": [
            "100%|██████████| 375/375 [09:14<00:00,  1.48s/it]"
          ]
        },
        {
          "output_type": "stream",
          "name": "stdout",
          "text": [
            "\n",
            "\n",
            "0.0996355204976918 0.05388104859327259\n"
          ]
        },
        {
          "output_type": "stream",
          "name": "stderr",
          "text": [
            "\n"
          ]
        }
      ]
    },
    {
      "cell_type": "code",
      "source": [
        "eval_score_func(data, score_func = MI_score_ent, metric = 'interesting')"
      ],
      "metadata": {
        "id": "NEu0cai3uF95"
      },
      "execution_count": null,
      "outputs": []
    },
    {
      "cell_type": "code",
      "source": [
        "eval_score_func(data, score_func = MI_score, metric = 'interesting')"
      ],
      "metadata": {
        "id": "jwee_vXrIW64"
      },
      "execution_count": null,
      "outputs": []
    },
    {
      "cell_type": "code",
      "source": [
        "eval_score_func(data, metric = 'fluent')\n",
        "eval_score_func(data, score_func = MI_score, metric = 'fluent')"
      ],
      "metadata": {
        "id": "FwIJ6pzGKzyH"
      },
      "execution_count": null,
      "outputs": []
    },
    {
      "cell_type": "code",
      "source": [
        "eval_score_func(data, metric = 'engaging')\n",
        "eval_score_func(data, score_func = MI_score, metric = 'engaging')"
      ],
      "metadata": {
        "id": "KRyZPDbqUJ9u"
      },
      "execution_count": null,
      "outputs": []
    },
    {
      "cell_type": "code",
      "source": [
        "for met in [\"specific\",\"relevant\",\"correct\", \"semantically appropriate\",\"understandable\" ]:\n",
        "    print(\"Baseline: \")\n",
        "    eval_score_func(data, metric = met )\n",
        "\n",
        "\n"
      ],
      "metadata": {
        "id": "YwoWIUApUWLQ"
      },
      "execution_count": null,
      "outputs": []
    },
    {
      "cell_type": "code",
      "source": [],
      "metadata": {
        "id": "aP8QQPIwQixD"
      },
      "execution_count": null,
      "outputs": []
    }
  ]
}